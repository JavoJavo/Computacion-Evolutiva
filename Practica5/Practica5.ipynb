{
 "cells": [
  {
   "cell_type": "markdown",
   "metadata": {},
   "source": [
    "# Exercises - Genetic Algorithms"
   ]
  },
  {
   "cell_type": "code",
   "execution_count": 1,
   "metadata": {},
   "outputs": [],
   "source": [
    "from math import log2, ceil, e, cos, pi"
   ]
  },
  {
   "cell_type": "code",
   "execution_count": 2,
   "metadata": {},
   "outputs": [],
   "source": [
    "from random import randint,random,sample,uniform,shuffle"
   ]
  },
  {
   "cell_type": "code",
   "execution_count": 3,
   "metadata": {},
   "outputs": [],
   "source": [
    "from statistics import mean, pstdev"
   ]
  },
  {
   "cell_type": "code",
   "execution_count": 4,
   "metadata": {},
   "outputs": [],
   "source": [
    "import numpy as np"
   ]
  },
  {
   "cell_type": "code",
   "execution_count": 6,
   "metadata": {},
   "outputs": [
    {
     "data": {
      "text/plain": [
       "[52, 5, 3, 2]"
      ]
     },
     "execution_count": 6,
     "metadata": {},
     "output_type": "execute_result"
    }
   ],
   "source": [
    "sample([2,3,52,5],4)"
   ]
  },
  {
   "cell_type": "code",
   "execution_count": 277,
   "metadata": {},
   "outputs": [],
   "source": [
    "def Beale(x):\n",
    "    x1,x2 = x\n",
    "    if not(-4.5 <= x1 <= 4.5 and -4.5 <= x2 <= 4.5):\n",
    "        return 'bad input: out of domain'\n",
    "    return (1.5-x1+x1*x2)**2 + (2.25-x1+x1*(x2**2))**2 + (2.625-x1+x1*(x2**3))**2"
   ]
  },
  {
   "cell_type": "markdown",
   "metadata": {},
   "source": [
    "El mínimo global está en x = (3, 0.5) y f(x) = 0. \\*global minimum"
   ]
  },
  {
   "cell_type": "code",
   "execution_count": 278,
   "metadata": {
    "scrolled": true
   },
   "outputs": [
    {
     "data": {
      "text/plain": [
       "(0.0, 181853.61328125)"
      ]
     },
     "execution_count": 278,
     "metadata": {},
     "output_type": "execute_result"
    }
   ],
   "source": [
    "Beale([3,0.5]), Beale([-4.5,-4.5])"
   ]
  },
  {
   "cell_type": "markdown",
   "metadata": {},
   "source": [
    "## 1.\n",
    "Implementar en el lenguaje de su preferencia, el AG que se diseñó en el ejemplo anterior para resolver la función de Beale."
   ]
  },
  {
   "cell_type": "code",
   "execution_count": 239,
   "metadata": {},
   "outputs": [
    {
     "data": {
      "text/plain": [
       "121779545"
      ]
     },
     "execution_count": 239,
     "metadata": {},
     "output_type": "execute_result"
    }
   ],
   "source": [
    "int('0111010000100011010101011001', 2)"
   ]
  },
  {
   "cell_type": "code",
   "execution_count": 10,
   "metadata": {},
   "outputs": [],
   "source": [
    "def bits_req(x_bounds):\n",
    "    return [ceil(log2((x[1]-(x[0]))*(10**3))) for x in x_bounds]"
   ]
  },
  {
   "cell_type": "code",
   "execution_count": 11,
   "metadata": {
    "scrolled": true
   },
   "outputs": [
    {
     "data": {
      "text/plain": [
       "[14, 14]"
      ]
     },
     "execution_count": 11,
     "metadata": {},
     "output_type": "execute_result"
    }
   ],
   "source": [
    "bits_req([(-4.5,4.5),(-4.5,4.5)])"
   ]
  },
  {
   "cell_type": "code",
   "execution_count": 12,
   "metadata": {},
   "outputs": [],
   "source": [
    "def real_from_bits(bit_string, n_variable_bits, n_variable_bounds):\n",
    "    reals = []\n",
    "    index = 0\n",
    "    for n_bits, bound in zip(n_variable_bits,n_variable_bounds):\n",
    "        bits = bit_string[index:index+n_bits]\n",
    "        index = n_bits\n",
    "        d = int(bits, 2)\n",
    "        r = bound[0] + ((bound[1]-bound[0])*d) / ((2**n_bits)-1)\n",
    "        reals.append(r)\n",
    "    return reals"
   ]
  },
  {
   "cell_type": "code",
   "execution_count": 246,
   "metadata": {},
   "outputs": [
    {
     "data": {
      "text/plain": [
       "[14, 14]"
      ]
     },
     "execution_count": 246,
     "metadata": {},
     "output_type": "execute_result"
    }
   ],
   "source": [
    "var_bounds = [(-4.5,4.5),(-4.5,4.5)]\n",
    "n_variable_bits = bits_req(var_bounds)\n",
    "n_variable_bits"
   ]
  },
  {
   "cell_type": "code",
   "execution_count": 14,
   "metadata": {},
   "outputs": [
    {
     "data": {
      "text/plain": [
       "[3.0942135140084233, 0.49249221754257455]"
      ]
     },
     "execution_count": 14,
     "metadata": {},
     "output_type": "execute_result"
    }
   ],
   "source": [
    "real_from_bits('11011000000000'+'10001110000000', n_variable_bits, var_bounds)"
   ]
  },
  {
   "cell_type": "code",
   "execution_count": 15,
   "metadata": {},
   "outputs": [
    {
     "data": {
      "text/plain": [
       "[-0.41723127632301793, 3.0024720747115916]"
      ]
     },
     "execution_count": 15,
     "metadata": {},
     "output_type": "execute_result"
    }
   ],
   "source": [
    "real_from_bits('01110100001000'+'11010101011001', n_variable_bits, var_bounds)"
   ]
  },
  {
   "cell_type": "code",
   "execution_count": 261,
   "metadata": {},
   "outputs": [
    {
     "data": {
      "text/plain": [
       "('1111111111111111111111011001', [14, 14], [(-4.5, 4.5), (-4.5, 4.5)])"
      ]
     },
     "execution_count": 261,
     "metadata": {},
     "output_type": "execute_result"
    }
   ],
   "source": [
    "example_individual = ('1111111111111111111111011001', n_variable_bits, var_bounds)\n",
    "example_individual"
   ]
  },
  {
   "cell_type": "code",
   "execution_count": 282,
   "metadata": {},
   "outputs": [],
   "source": [
    "def Beale_binary(bit_string, n_variable_bits_req, n_variable_bounds):\n",
    "    return Beale(real_from_bits(bit_string, n_variable_bits_req, n_variable_bounds))"
   ]
  },
  {
   "cell_type": "code",
   "execution_count": 283,
   "metadata": {},
   "outputs": [],
   "source": [
    "def Beale_fitness(bit_string, n_variable_bits_req, n_variable_bounds): # a low value is a bad fitness\n",
    "    return 1/(Beale_binary(bit_string, n_variable_bits_req, n_variable_bounds)+1)"
   ]
  },
  {
   "cell_type": "code",
   "execution_count": 284,
   "metadata": {},
   "outputs": [
    {
     "data": {
      "text/plain": [
       "170055.8817209396"
      ]
     },
     "execution_count": 284,
     "metadata": {},
     "output_type": "execute_result"
    }
   ],
   "source": [
    "Beale_binary(*example_individual)"
   ]
  },
  {
   "cell_type": "code",
   "execution_count": 285,
   "metadata": {
    "scrolled": true
   },
   "outputs": [
    {
     "data": {
      "text/plain": [
       "5.880385373883209e-06"
      ]
     },
     "execution_count": 285,
     "metadata": {},
     "output_type": "execute_result"
    }
   ],
   "source": [
    "Beale_fitness(*example_individual)"
   ]
  },
  {
   "cell_type": "code",
   "execution_count": 286,
   "metadata": {},
   "outputs": [
    {
     "data": {
      "text/plain": [
       "0.9768962222434674"
      ]
     },
     "execution_count": 286,
     "metadata": {},
     "output_type": "execute_result"
    }
   ],
   "source": [
    "Beale_fitness('11011000000000'+'10001110000000', n_variable_bits, var_bounds)"
   ]
  },
  {
   "cell_type": "code",
   "execution_count": 21,
   "metadata": {},
   "outputs": [],
   "source": [
    "def random_bin_string(bits):\n",
    "    string = ''\n",
    "    for i in range(bits):\n",
    "        string += str(randint(0,1))\n",
    "    return string"
   ]
  },
  {
   "cell_type": "code",
   "execution_count": 287,
   "metadata": {},
   "outputs": [
    {
     "data": {
      "text/plain": [
       "'1101'"
      ]
     },
     "execution_count": 287,
     "metadata": {},
     "output_type": "execute_result"
    }
   ],
   "source": [
    "random_bin_string(4)"
   ]
  },
  {
   "cell_type": "code",
   "execution_count": 288,
   "metadata": {},
   "outputs": [],
   "source": [
    "def random_solution(n_variable_bits_req, n_variable_bounds=False, fitness_func=Beale_fitness):\n",
    "    individual = ''\n",
    "    for bits in n_variable_bits_req:\n",
    "        x_bits = random_bin_string(bits)\n",
    "        individual += (x_bits)\n",
    "    if n_variable_bounds:\n",
    "        return individual, fitness_func(individual, n_variable_bits_req, n_variable_bounds)\n",
    "    return individual"
   ]
  },
  {
   "cell_type": "code",
   "execution_count": 289,
   "metadata": {},
   "outputs": [
    {
     "data": {
      "text/plain": [
       "([10, 10, 16], '110010000101110111111010011101000111', 36, 36)"
      ]
     },
     "execution_count": 289,
     "metadata": {},
     "output_type": "execute_result"
    }
   ],
   "source": [
    "b_required = bits_req([(2,3),(5,6),(-50,11)])\n",
    "rand_sol = random_solution(b_required)\n",
    "\n",
    "b_required, rand_sol, sum(b_required), len(rand_sol)"
   ]
  },
  {
   "cell_type": "code",
   "execution_count": 290,
   "metadata": {
    "scrolled": false
   },
   "outputs": [
    {
     "data": {
      "text/plain": [
       "'0001010111100111101001101011'"
      ]
     },
     "execution_count": 290,
     "metadata": {},
     "output_type": "execute_result"
    }
   ],
   "source": [
    "random_solution(bits_req([(-4.5,4.5),(-4.5,4.5)]))#,n_variable_bounds=[(-4.5,4.5),(-4.5,4.5)])"
   ]
  },
  {
   "cell_type": "code",
   "execution_count": 291,
   "metadata": {
    "scrolled": true
   },
   "outputs": [
    {
     "data": {
      "text/plain": [
       "('1001011011110000110010101010', 0.003767538242696452)"
      ]
     },
     "execution_count": 291,
     "metadata": {},
     "output_type": "execute_result"
    }
   ],
   "source": [
    "random_solution(bits_req([(-4.5,4.5),(-4.5,4.5)]),n_variable_bounds=[(-4.5,4.5),(-4.5,4.5)])"
   ]
  },
  {
   "cell_type": "code",
   "execution_count": 23,
   "metadata": {},
   "outputs": [],
   "source": [
    "def universal_stochastic_selection(population, n_variable_bits_req, n_variable_bounds):\n",
    "    fitnesses = [x[1] for x in population]\n",
    "    strings = [x[0] for x in population]\n",
    "    fitness_mean = mean(fitnesses)\n",
    "    Ei_s = [fit/fitness_mean for fit in fitnesses]\n",
    "    r = random()\n",
    "    parents = []\n",
    "    sum_ = 0\n",
    "    for individual,Ei,fit in zip(strings,Ei_s,fitnesses):\n",
    "        sum_ += Ei\n",
    "        while sum_ > r:\n",
    "            parents.append((individual,fit))\n",
    "            r += 1\n",
    "    return parents"
   ]
  },
  {
   "cell_type": "code",
   "execution_count": 24,
   "metadata": {
    "scrolled": true
   },
   "outputs": [
    {
     "data": {
      "text/plain": [
       "[('100010110011110110011000011100110000', 0.15029431701487947),\n",
       " ('100010110011110110011000011100110000', 0.15029431701487947),\n",
       " ('100010110011110110011000011100110000', 0.15029431701487947),\n",
       " ('100010110011110110011000011100110000', 0.15029431701487947),\n",
       " ('110000100011001001100110010010011010', 0.011398346494599433)]"
      ]
     },
     "execution_count": 24,
     "metadata": {},
     "output_type": "execute_result"
    }
   ],
   "source": [
    "universal_stochastic_selection([('100010110011110110011000011100110000', 0.15029431701487947),\n",
    "                                ('110000100011001001100110010010011010', 0.011398346494599433),\n",
    "                                ('101110111100100000001000011010001010', 2.9777439040564625e-05),\n",
    "                                ('110101000010111111010100100101110110', 0.008058140115587174),\n",
    "                                ('001101101111011010101101010101110010', 0.00025309048960844106)],  \n",
    "                               bits_req([(-4.5, 4.5),(-4.5, 4.5)]),\n",
    "                               [(-4.5, 4.5),(-4.5, 4.5)])"
   ]
  },
  {
   "cell_type": "code",
   "execution_count": 24,
   "metadata": {},
   "outputs": [],
   "source": [
    "def k_point_crossover(k_points, p1, p2):\n",
    "    o1, o2 = '', ''\n",
    "    index_closer = 0\n",
    "    for i,point in enumerate(k_points+[len(p1)]):\n",
    "        if i%2 == 0:\n",
    "            o1 += p1[index_closer:point]\n",
    "            o2 += p2[index_closer:point]\n",
    "        else:\n",
    "            o1 += p2[index_closer:point]\n",
    "            o2 += p1[index_closer:point]\n",
    "        index_closer = point\n",
    "    return o1,o2"
   ]
  },
  {
   "cell_type": "code",
   "execution_count": 26,
   "metadata": {},
   "outputs": [
    {
     "data": {
      "text/plain": [
       "('10010100001011adi0011000011100110000',\n",
       " '1100101100hola011os10100100101110110')"
      ]
     },
     "execution_count": 26,
     "metadata": {},
     "output_type": "execute_result"
    }
   ],
   "source": [
    "k_point_crossover([2,17],'1000101100hola0110011000011100110000',\n",
    " '11010100001011adios10100100101110110')"
   ]
  },
  {
   "cell_type": "code",
   "execution_count": 108,
   "metadata": {},
   "outputs": [],
   "source": [
    "def grouped(iterable, n):\n",
    "    \"s -> (s0,s1,s2,...sn-1), (sn,sn+1,sn+2,...s2n-1), (s2n,s2n+1,s2n+2,...s3n-1), ...\"\n",
    "    return zip(*[iter(iterable)]*n)"
   ]
  },
  {
   "cell_type": "code",
   "execution_count": 26,
   "metadata": {},
   "outputs": [
    {
     "name": "stdout",
     "output_type": "stream",
     "text": [
      "3 2\n",
      "7 4\n",
      "10 9\n",
      "0 14\n"
     ]
    }
   ],
   "source": [
    "for i,j in grouped([3,2,7,4,10,9,0,14],2):\n",
    "    print(i,j)"
   ]
  },
  {
   "cell_type": "code",
   "execution_count": 27,
   "metadata": {},
   "outputs": [],
   "source": [
    "def mutate(individual, pm):\n",
    "    mutated = ''\n",
    "    for i in individual:\n",
    "        if random() < pm:\n",
    "            if i == '0':\n",
    "                mutated += '1'\n",
    "            else:\n",
    "                mutated += '0'\n",
    "        else:\n",
    "            mutated += i\n",
    "    return mutated        "
   ]
  },
  {
   "cell_type": "code",
   "execution_count": 28,
   "metadata": {},
   "outputs": [
    {
     "data": {
      "text/plain": [
       "'0111111011'"
      ]
     },
     "execution_count": 28,
     "metadata": {},
     "output_type": "execute_result"
    }
   ],
   "source": [
    "mutate('1111111111',.1)"
   ]
  },
  {
   "cell_type": "code",
   "execution_count": 63,
   "metadata": {},
   "outputs": [],
   "source": [
    "def mutate_pop(population, pm, n_variable_bits_req, n_variable_bounds, fitness_func=Beale_fitness):\n",
    "    mutated_pop = []\n",
    "    length = len(population[0])\n",
    "    for i in range(len(population)):\n",
    "        mutated_ind = mutate(population[i][0],pm)\n",
    "        mutated_pop.append((mutated_ind, fitness_func(mutated_ind, n_variable_bits_req, n_variable_bounds)))     \n",
    "    return mutated_pop"
   ]
  },
  {
   "cell_type": "code",
   "execution_count": 64,
   "metadata": {},
   "outputs": [
    {
     "data": {
      "text/plain": [
       "[('11111110111111111', 5.731734830878345e-06),\n",
       " ('00001001000100000', 6.363818681642189e-06)]"
      ]
     },
     "execution_count": 64,
     "metadata": {},
     "output_type": "execute_result"
    }
   ],
   "source": [
    "mutate_pop([('11111111111111111',.4),('00000000000000000',.1)],.1,\n",
    "          bits_req([(-4.5, 4.5),(-4.5, 4.5)]),\n",
    "                               [(-4.5, 4.5),(-4.5, 4.5)])"
   ]
  },
  {
   "cell_type": "code",
   "execution_count": 296,
   "metadata": {},
   "outputs": [],
   "source": [
    "def GA(μ, gens, pc, pm, n_variable_bounds, fitness_func=Beale_fitness, f=Beale_binary):\n",
    "    n_variable_bits_req = bits_req(n_variable_bounds)\n",
    "    total_bits = sum(n_variable_bits_req)\n",
    "    population = [random_solution(n_variable_bits_req,n_variable_bounds,fitness_func=fitness_func) for i in range(μ)]\n",
    "    for gen in range(gens):\n",
    "        parents = universal_stochastic_selection(population, n_variable_bits_req, n_variable_bounds)\n",
    "        offspring = []\n",
    "        for p1,p2 in grouped(parents,2):\n",
    "            offs = []\n",
    "            if random() < pc:\n",
    "                cross_points = sorted(sample(list(range(total_bits)),2))\n",
    "                o1,o2 = k_point_crossover(cross_points,p1[0],p2[0])\n",
    "                o1 = (o1, fitness_func(o1, n_variable_bits_req, n_variable_bounds))\n",
    "                o2 = (o2, fitness_func(o2, n_variable_bits_req, n_variable_bounds))\n",
    "                offs = [o1,o2]\n",
    "            else:\n",
    "                offs = [p1,p2]\n",
    "            offspring += offs\n",
    "        \n",
    "        offspring = mutate_pop(offspring,pm,n_variable_bits_req,n_variable_bounds,fitness_func=fitness_func)\n",
    "        offspring.sort(key=lambda x:x[1], reverse=True)\n",
    "        parents.sort(key=lambda x:x[1], reverse=True)\n",
    "        \n",
    "        if parents[0][1] > offspring[0][1]:\n",
    "            offspring[-1] = parents[0]\n",
    "            offspring.sort(key=lambda x:x[1], reverse=True)\n",
    "        population = offspring\n",
    "    population.sort(key=lambda x:x[1], reverse=True)\n",
    "    return population[0][0], f(population[0][0],n_variable_bits_req,n_variable_bounds)"
   ]
  },
  {
   "cell_type": "code",
   "execution_count": 301,
   "metadata": {
    "scrolled": false
   },
   "outputs": [
    {
     "data": {
      "text/plain": [
       "('1100110011110110000100010111', 0.7834062212336699)"
      ]
     },
     "execution_count": 301,
     "metadata": {},
     "output_type": "execute_result"
    }
   ],
   "source": [
    "GA(100, 1, 0.9, 0.001,[(-4.5,4.5),(-4.5,4.5)])"
   ]
  },
  {
   "cell_type": "code",
   "execution_count": 302,
   "metadata": {
    "scrolled": true
   },
   "outputs": [
    {
     "data": {
      "text/plain": [
       "('1101010101011010001110001110', 1.1890757956021445e-07)"
      ]
     },
     "execution_count": 302,
     "metadata": {},
     "output_type": "execute_result"
    }
   ],
   "source": [
    "GA(100, 2000, 0.9, 0.001,[(-4.5,4.5),(-4.5,4.5)])"
   ]
  },
  {
   "cell_type": "code",
   "execution_count": 303,
   "metadata": {},
   "outputs": [
    {
     "data": {
      "text/plain": [
       "[3.0008240249038636, 0.500183116645303]"
      ]
     },
     "execution_count": 303,
     "metadata": {},
     "output_type": "execute_result"
    }
   ],
   "source": [
    "real_from_bits('1101010101011010001110001110', n_variable_bits, [(-4.5,4.5),(-4.5,4.5)])"
   ]
  },
  {
   "cell_type": "code",
   "execution_count": null,
   "metadata": {},
   "outputs": [],
   "source": []
  },
  {
   "cell_type": "markdown",
   "metadata": {},
   "source": [
    "## 2.\n",
    "Utilizar el AG del punto anterior pero ahora con representación real, cruza intermedia completa y mutación uniforme."
   ]
  },
  {
   "cell_type": "code",
   "execution_count": 304,
   "metadata": {},
   "outputs": [],
   "source": [
    "def r_Beale_fitness(x): # a low value is a bad fitness\n",
    "    return 1/(f(*x)+1)"
   ]
  },
  {
   "cell_type": "code",
   "execution_count": 305,
   "metadata": {},
   "outputs": [],
   "source": [
    "def r_random_solution(n_variable_bounds, fitness_func=r_Beale_fitness):\n",
    "    individual = []\n",
    "    for (ul,ll) in n_variable_bounds:\n",
    "        x_i = uniform(ul,ll)\n",
    "        individual.append(x_i)\n",
    "    return individual, fitness_func(individual)"
   ]
  },
  {
   "cell_type": "code",
   "execution_count": 139,
   "metadata": {
    "scrolled": true
   },
   "outputs": [
    {
     "data": {
      "text/plain": [
       "([-1.8878485485573546, 1.7234467971926666], 0.033655411425869634)"
      ]
     },
     "execution_count": 139,
     "metadata": {},
     "output_type": "execute_result"
    }
   ],
   "source": [
    "r_random_solution([(-4.5,4.5),(-4.5,4.5)])"
   ]
  },
  {
   "cell_type": "code",
   "execution_count": 106,
   "metadata": {},
   "outputs": [],
   "source": [
    "def r_universal_stochastic_selection(population):\n",
    "    fitnesses = [x[1] for x in population]\n",
    "    fitness_mean = mean(fitnesses)\n",
    "    Ei_s = [fit/fitness_mean for fit in fitnesses]\n",
    "    r = random()\n",
    "    parents = []\n",
    "    sum_ = 0\n",
    "    for i in range(len(population)):\n",
    "        sum_ += Ei_s[i]\n",
    "        while sum_ > r:\n",
    "            parents.append(population[i])\n",
    "            r += 1\n",
    "    return parents"
   ]
  },
  {
   "cell_type": "code",
   "execution_count": 146,
   "metadata": {
    "scrolled": true
   },
   "outputs": [
    {
     "data": {
      "text/plain": [
       "[([2.772370722423309, 0.37991002354702186], 0.940755880929126),\n",
       " ([2.772370722423309, 0.37991002354702186], 0.940755880929126),\n",
       " ([2.772370722423309, 0.37991002354702186], 0.940755880929126),\n",
       " ([0.6543858622047978, -1.8346766400686958], 0.05040192294120086)]"
      ]
     },
     "execution_count": 146,
     "metadata": {},
     "output_type": "execute_result"
    }
   ],
   "source": [
    "r_universal_stochastic_selection([([2.980120021219805, 2.839468013308001], 0.00019234997626107396),\n",
    "                                  ([2.772370722423309, 0.37991002354702186], 0.940755880929126),\n",
    "                                  ([0.6543858622047978, -1.8346766400686958], 0.05040192294120086),\n",
    "                                  ([3.931393369861617, -3.9888203944768246], 1.4938580133960688e-05)])"
   ]
  },
  {
   "cell_type": "code",
   "execution_count": 82,
   "metadata": {},
   "outputs": [],
   "source": [
    "def complete_intermediate_cross(p1,p2):\n",
    "    p1,p2 = np.array(p1), np.array(p2)\n",
    "    alpha = random()\n",
    "    o1 = alpha*p1 + (1-alpha)*p2\n",
    "    o2 = alpha*p2 + (1-alpha)*p1\n",
    "    return (list(o1),0),(list(o2),0)#r_Beale_fitness(*list(o1))),(list(o2),r_Beale_fitness(*list(o2)))\n",
    "    # fitnesses are going to be calculated later"
   ]
  },
  {
   "cell_type": "code",
   "execution_count": 83,
   "metadata": {
    "scrolled": true
   },
   "outputs": [
    {
     "data": {
      "text/plain": [
       "(([2.84576611673199, 1.248843057397621], 0),\n",
       " ([2.906724626911124, 1.9705349794574019], 0))"
      ]
     },
     "execution_count": 83,
     "metadata": {},
     "output_type": "execute_result"
    }
   ],
   "source": [
    "complete_intermediate_cross([2.980120021219805, 2.839468013308001],[2.772370722423309, 0.37991002354702186])"
   ]
  },
  {
   "cell_type": "code",
   "execution_count": 142,
   "metadata": {},
   "outputs": [],
   "source": [
    "def r_mutate(individual, pm, n_variable_bounds, fitness_func=r_Beale_fitness):\n",
    "    mutated = []\n",
    "    for var,bounds in zip(individual[0],n_variable_bounds):\n",
    "        l_inf,l_sup = bounds\n",
    "        if random() < pm:\n",
    "            x_i = uniform(l_inf,l_sup)\n",
    "            mutated.append(x_i)\n",
    "        else:\n",
    "            mutated.append(var)\n",
    "    return mutated, fitness_func(mutated)        "
   ]
  },
  {
   "cell_type": "code",
   "execution_count": 87,
   "metadata": {},
   "outputs": [
    {
     "data": {
      "text/plain": [
       "([2.843927530895764, 1.2270759154166462], 0.022439376995842773)"
      ]
     },
     "execution_count": 87,
     "metadata": {},
     "output_type": "execute_result"
    }
   ],
   "source": [
    "r_mutate(([2.843927530895764, 1.2270759154166462], 0.022439376995842773),.1,[(-4.5,4.5),(-4.5,4.5)])"
   ]
  },
  {
   "cell_type": "code",
   "execution_count": 91,
   "metadata": {},
   "outputs": [],
   "source": [
    "def r_mutate_pop(population, pm, n_variable_bounds, fitness_func=r_Beale_fitness):\n",
    "    mutated_pop = []\n",
    "    length = len(population[0])\n",
    "    for i in range(len(population)):\n",
    "        mutated_ind = r_mutate(population[i], pm, n_variable_bounds, fitness_func=fitness_func)\n",
    "        mutated_pop.append(mutated_ind)     \n",
    "    return mutated_pop"
   ]
  },
  {
   "cell_type": "code",
   "execution_count": 92,
   "metadata": {
    "scrolled": true
   },
   "outputs": [
    {
     "data": {
      "text/plain": [
       "[([2.772370722423309, 0.7412868013861029], 0.2794062953880693),\n",
       " ([-3.263638793473766, 0.37991002354702186], 0.013996773349670248),\n",
       " ([2.772370722423309, 0.11504839209831275], 0.4618147971877947),\n",
       " ([0.6543858622047978, -1.8346766400686958], 0.05040192294120086)]"
      ]
     },
     "execution_count": 92,
     "metadata": {},
     "output_type": "execute_result"
    }
   ],
   "source": [
    "r_mutate_pop([([2.772370722423309, 0.37991002354702186], 0.940755880929126),\n",
    " ([2.772370722423309, 0.37991002354702186], 0.940755880929126),\n",
    " ([2.772370722423309, 0.37991002354702186], 0.940755880929126),\n",
    " ([0.6543858622047978, -1.8346766400686958], 0.05040192294120086)],\n",
    "            0.3,\n",
    "             [(-4.5,4.5),(-4.5,4.5)])"
   ]
  },
  {
   "cell_type": "code",
   "execution_count": 307,
   "metadata": {},
   "outputs": [],
   "source": [
    "def real_GA(μ, gens, pc, pm, n_variable_bounds, fitness_func=r_Beale_fitness, f=Beale):\n",
    "    population = [r_random_solution(n_variable_bounds, fitness_func=fitness_func) for i in range(μ)]\n",
    "    for gen in range(gens):\n",
    "        parents = r_universal_stochastic_selection(population)\n",
    "        offspring = []\n",
    "        for p1,p2 in grouped(parents,2):\n",
    "            offs = []\n",
    "            if random() < pc:\n",
    "                o1,o2 = complete_intermediate_cross(p1[0],p2[0])\n",
    "                offs = [o1,o2]\n",
    "            else:\n",
    "                offs = [p1,p2]\n",
    "            offspring += offs\n",
    "        \n",
    "        offspring = r_mutate_pop(offspring,pm,n_variable_bounds,fitness_func=fitness_func)\n",
    "        offspring.sort(key=lambda x:x[1], reverse=True)\n",
    "        parents.sort(key=lambda x:x[1], reverse=True)\n",
    "        \n",
    "        if parents[0][1] > offspring[0][1]:\n",
    "            offspring[-1] = parents[0]\n",
    "            offspring.sort(key=lambda x:x[1], reverse=True)\n",
    "        population = offspring\n",
    "    population.sort(key=lambda x:x[1], reverse=True)\n",
    "    return population[0][0], f(population[0][0])"
   ]
  },
  {
   "cell_type": "code",
   "execution_count": 310,
   "metadata": {
    "scrolled": false
   },
   "outputs": [
    {
     "data": {
      "text/plain": [
       "([4.426684888320924, 0.6199660590919027], 0.8168884018691706)"
      ]
     },
     "execution_count": 310,
     "metadata": {},
     "output_type": "execute_result"
    }
   ],
   "source": [
    "real_GA(100, 1, 0.9, 0.001,[(-4.5,4.5),(-4.5,4.5)])"
   ]
  },
  {
   "cell_type": "code",
   "execution_count": 312,
   "metadata": {
    "scrolled": true
   },
   "outputs": [
    {
     "data": {
      "text/plain": [
       "([2.7184982450450024, 0.41902146150042185], 0.017723697791800476)"
      ]
     },
     "execution_count": 312,
     "metadata": {},
     "output_type": "execute_result"
    }
   ],
   "source": [
    "real_GA(100, 2000, 0.9, 0.001,[(-4.5,4.5),(-4.5,4.5)])"
   ]
  },
  {
   "cell_type": "code",
   "execution_count": null,
   "metadata": {},
   "outputs": [],
   "source": []
  },
  {
   "cell_type": "markdown",
   "metadata": {},
   "source": [
    "## 3.\n",
    "Utiliza las dos versiones del AG que se tienen para resolver la función de Ackley."
   ]
  },
  {
   "cell_type": "code",
   "execution_count": 98,
   "metadata": {},
   "outputs": [],
   "source": [
    "def Ackley(x):\n",
    "    n = len(x)\n",
    "    return -20*e**(-0.2*((1/n)*sum(x_i**2 for x_i in x))) - e**((1/n)*sum(cos(2*pi*x_i) for x_i in x)) + 20 + e     "
   ]
  },
  {
   "cell_type": "code",
   "execution_count": 105,
   "metadata": {
    "scrolled": true
   },
   "outputs": [
    {
     "data": {
      "text/plain": [
       "19.2623366519752"
      ]
     },
     "execution_count": 105,
     "metadata": {},
     "output_type": "execute_result"
    }
   ],
   "source": [
    "Ackley([3,2,-2,-7])"
   ]
  },
  {
   "cell_type": "code",
   "execution_count": 317,
   "metadata": {},
   "outputs": [],
   "source": [
    "def Ackley_bin(bit_string, n_variable_bits_req, n_variable_bounds):\n",
    "    return Ackley(real_from_bits(bit_string, n_variable_bits_req, n_variable_bounds))"
   ]
  },
  {
   "cell_type": "code",
   "execution_count": 173,
   "metadata": {},
   "outputs": [],
   "source": [
    "def Ackley_fitness(x):\n",
    "    return 1/(Ackley(x)+1)"
   ]
  },
  {
   "cell_type": "code",
   "execution_count": 146,
   "metadata": {},
   "outputs": [],
   "source": [
    "def Ackley_fitness_bin(bit_string, n_variable_bits_req, n_variable_bounds):\n",
    "    return 1/(Ackley(real_from_bits(bit_string, n_variable_bits_req, n_variable_bounds))+1)\n",
    "#-Ackley(real_from_bits(bit_string, n_variable_bits_req, n_variable_bounds))"
   ]
  },
  {
   "cell_type": "code",
   "execution_count": 314,
   "metadata": {},
   "outputs": [
    {
     "data": {
      "text/plain": [
       "[16, 16]"
      ]
     },
     "execution_count": 314,
     "metadata": {},
     "output_type": "execute_result"
    }
   ],
   "source": [
    "var_bounds = [(-30,30),(-30,30)]\n",
    "n_variable_bits = bits_req(var_bounds)\n",
    "n_variable_bits"
   ]
  },
  {
   "cell_type": "code",
   "execution_count": 315,
   "metadata": {},
   "outputs": [
    {
     "data": {
      "text/plain": [
       "'11011101010000010001011001001101'"
      ]
     },
     "execution_count": 315,
     "metadata": {},
     "output_type": "execute_result"
    }
   ],
   "source": [
    "rand_string = random_bin_string(32)\n",
    "rand_string"
   ]
  },
  {
   "cell_type": "code",
   "execution_count": 320,
   "metadata": {},
   "outputs": [
    {
     "data": {
      "text/plain": [
       "21.249587958774068"
      ]
     },
     "execution_count": 320,
     "metadata": {},
     "output_type": "execute_result"
    }
   ],
   "source": [
    "Ackley_bin(rand_string, n_variable_bits, var_bounds)"
   ]
  },
  {
   "cell_type": "code",
   "execution_count": 154,
   "metadata": {},
   "outputs": [
    {
     "data": {
      "text/plain": [
       "0.04335307451919739"
      ]
     },
     "execution_count": 154,
     "metadata": {},
     "output_type": "execute_result"
    }
   ],
   "source": [
    "Ackley_fitness_bin(rand_string, n_variable_bits, var_bounds)"
   ]
  },
  {
   "cell_type": "code",
   "execution_count": 321,
   "metadata": {},
   "outputs": [
    {
     "data": {
      "text/plain": [
       "('01111110110001001000000001101100', 1.574421624205144)"
      ]
     },
     "execution_count": 321,
     "metadata": {},
     "output_type": "execute_result"
    }
   ],
   "source": [
    "GA(100, 1, 0.9, 0.001,[(-30,30),(-30,30)], fitness_func=Ackley_fitness_bin, f=Ackley_bin)"
   ]
  },
  {
   "cell_type": "code",
   "execution_count": 322,
   "metadata": {},
   "outputs": [
    {
     "data": {
      "text/plain": [
       "('0111110001110110011111111010011001010101001011111010000011101111',\n",
       " 1.2495388758088422)"
      ]
     },
     "execution_count": 322,
     "metadata": {},
     "output_type": "execute_result"
    }
   ],
   "source": [
    "GA(100, 1, 0.9, 0.001,[(-30,30),(-30,30),(-30,30),(-30,30)], fitness_func=Ackley_fitness_bin, f=Ackley_bin)"
   ]
  },
  {
   "cell_type": "code",
   "execution_count": 324,
   "metadata": {
    "scrolled": false
   },
   "outputs": [
    {
     "data": {
      "text/plain": [
       "([-7.066097190216884,\n",
       "  -12.000214650185605,\n",
       "  20.862365540815052,\n",
       "  -2.128801495177498],\n",
       " 20.462595836607903)"
      ]
     },
     "execution_count": 324,
     "metadata": {},
     "output_type": "execute_result"
    }
   ],
   "source": [
    "real_GA(100, 1, 0.9, 0.001,[(-30,30),(-30,30),(-30,30),(-30,30)], fitness_func=Ackley_fitness, f=Ackley)"
   ]
  },
  {
   "cell_type": "code",
   "execution_count": 325,
   "metadata": {
    "scrolled": true
   },
   "outputs": [
    {
     "data": {
      "text/plain": [
       "('0111111111111111011111111111111101000001001001100011000010111100',\n",
       " 1.2082166435778419e-05)"
      ]
     },
     "execution_count": 325,
     "metadata": {},
     "output_type": "execute_result"
    }
   ],
   "source": [
    "GA(100, 2000, 0.9, 0.001,[(-30,30),(-30,30),(-30,30),(-30,30)], fitness_func=Ackley_fitness_bin,\n",
    "                                                                f=Ackley_bin)"
   ]
  },
  {
   "cell_type": "code",
   "execution_count": 193,
   "metadata": {},
   "outputs": [
    {
     "data": {
      "text/plain": [
       "[0.000457770656900891,\n",
       " 0.000457770656900891,\n",
       " 0.000457770656900891,\n",
       " 0.000457770656900891]"
      ]
     },
     "execution_count": 193,
     "metadata": {},
     "output_type": "execute_result"
    }
   ],
   "source": [
    "real_from_bits('1000000000000000100000000000000010100010100110110100111110101101',\n",
    "               bits_req([(-30,30),(-30,30),(-30,30),(-30,30)]),\n",
    "               [(-30,30),(-30,30),(-30,30),(-30,30)])"
   ]
  },
  {
   "cell_type": "code",
   "execution_count": 326,
   "metadata": {
    "scrolled": false
   },
   "outputs": [
    {
     "data": {
      "text/plain": [
       "([-0.0003735709219320455,\n",
       "  -0.000525550925885432,\n",
       "  0.01374133889274137,\n",
       "  0.0029033604477270176],\n",
       " 0.0028463781215219974)"
      ]
     },
     "execution_count": 326,
     "metadata": {},
     "output_type": "execute_result"
    }
   ],
   "source": [
    "real_GA(100, 2000, 0.9, 0.001,[(-30,30),(-30,30),(-30,30),(-30,30)], fitness_func=Ackley_fitness,\n",
    "                                                                     f=Ackley)"
   ]
  },
  {
   "cell_type": "code",
   "execution_count": 327,
   "metadata": {},
   "outputs": [
    {
     "data": {
      "text/plain": [
       "([-9.62043471280824e-05,\n",
       "  -0.001638149166527878,\n",
       "  -0.0008651552092001121,\n",
       "  0.0004864500170182239],\n",
       " 5.301334914564748e-05)"
      ]
     },
     "execution_count": 327,
     "metadata": {},
     "output_type": "execute_result"
    }
   ],
   "source": [
    "real_GA(100, 2000, 0.9, 0.01,[(-30,30),(-30,30),(-30,30),(-30,30)], fitness_func=Ackley_fitness,\n",
    "                                                                    f=Ackley)"
   ]
  },
  {
   "cell_type": "code",
   "execution_count": 328,
   "metadata": {
    "scrolled": true
   },
   "outputs": [
    {
     "data": {
      "text/plain": [
       "([-0.0008601208608593953,\n",
       "  0.0012214811640468997,\n",
       "  0.0013567156919602253,\n",
       "  0.000341584323938851],\n",
       " 6.03827748517638e-05)"
      ]
     },
     "execution_count": 328,
     "metadata": {},
     "output_type": "execute_result"
    }
   ],
   "source": [
    "real_GA(100, 2000, 0.9, 0.1,[(-30,30),(-30,30),(-30,30),(-30,30)], fitness_func=Ackley_fitness,\n",
    "                                                                   f=Ackley)"
   ]
  },
  {
   "cell_type": "code",
   "execution_count": 329,
   "metadata": {},
   "outputs": [
    {
     "data": {
      "text/plain": [
       "([0.0004044548638412279,\n",
       "  8.785569567098926e-05,\n",
       "  -0.0003286035615821904,\n",
       "  0.00013299141862641904],\n",
       " 4.280566372916184e-06)"
      ]
     },
     "execution_count": 329,
     "metadata": {},
     "output_type": "execute_result"
    }
   ],
   "source": [
    "real_GA(100, 2000, 0.7, 0.1,[(-30,30),(-30,30),(-30,30),(-30,30)], fitness_func=Ackley_fitness,\n",
    "                                                                   f=Ackley)"
   ]
  },
  {
   "cell_type": "markdown",
   "metadata": {},
   "source": [
    "## 4.\n",
    "Realizar una tabla comparativa que reporte los resultados de ambas versiones en los dos problemas de prueba (función de Beale y función de Ackley). En el caso de la función de Ackley, resolver instancias con 5, 10 y 20 variables. Para construir la tabla comparativa debes realizar M ejecuciones de cada versión resolviendo cada uno de los problemas y reportar lo siguiente:\n",
    "1. Mejor solución encontrada considerando las M ejecuciones.\n",
    "2. Peor solución encontrada considerando las M ejecuciones.\n",
    "3. Solución que corresponde a la mediana considerando las M ejecuciones.\n",
    "4. Media del valor de la función objetivo considerando las M ejecuciones.\n",
    "5. Desviación estándar del valor de la función objetivo considerando las M ejecuciones.\n",
    "\n",
    "En los primeros tres puntos indica tanto el valor de x como el valor de la función objetivo f. Nota: recuerde que puede variar los parámetros pc, pm y tamaño de la población para obtener mejores resultados. Indique los valores que utilizó para cada problema."
   ]
  },
  {
   "cell_type": "code",
   "execution_count": 334,
   "metadata": {},
   "outputs": [],
   "source": [
    "def m_GA(m, GA_func, μ, gens, pc, pm, n_variable_bounds, fitness_func=r_Beale_fitness, f=Beale):\n",
    "    m_solutions = []\n",
    "    for i in range(m):\n",
    "        GA_sol = GA_func(μ, gens, pc, pm, n_variable_bounds, fitness_func=fitness_func, f=f)\n",
    "        m_solutions.append(GA_sol)\n",
    "    m_solutions.sort(key=lambda x:x[1], reverse=True)\n",
    "    return m_solutions"
   ]
  },
  {
   "cell_type": "code",
   "execution_count": 335,
   "metadata": {
    "scrolled": true
   },
   "outputs": [
    {
     "data": {
      "text/plain": [
       "[('10000000000000000111111111111111', 1.2082166435778419e-05),\n",
       " ('10000000000000001000000000000000', 1.2082166435778419e-05),\n",
       " ('10000000000000000111111111111111', 1.2082166435778419e-05),\n",
       " ('10000000000000001000000000000000', 1.2082166435778419e-05),\n",
       " ('10000000000000001000000000000000', 1.2082166435778419e-05),\n",
       " ('10000000000000000111111111111111', 1.2082166435778419e-05),\n",
       " ('01111111111111111000000000000000', 1.2082166435778419e-05),\n",
       " ('01111111111111111000000000000000', 1.2082166435778419e-05),\n",
       " ('10000000000000000111111111111111', 1.2082166435778419e-05),\n",
       " ('01111111111111111000000000000000', 1.2082166435778419e-05),\n",
       " ('01111111111111110111111111111111', 1.2082166435778419e-05),\n",
       " ('10000000000000001000000000000000', 1.2082166435778419e-05),\n",
       " ('10000000000000001000000000000000', 1.2082166435778419e-05),\n",
       " ('01111111111111111000000000000000', 1.2082166435778419e-05),\n",
       " ('01111111111111110111111111111111', 1.2082166435778419e-05),\n",
       " ('01111111111111111000000000000000', 1.2082166435778419e-05),\n",
       " ('10000000000000001000000000000000', 1.2082166435778419e-05),\n",
       " ('01111111111111110111111111111111', 1.2082166435778419e-05),\n",
       " ('01111111111111110111111111111111', 1.2082166435778419e-05),\n",
       " ('01111111111111111000000000000000', 1.2082166435778419e-05)]"
      ]
     },
     "execution_count": 335,
     "metadata": {},
     "output_type": "execute_result"
    }
   ],
   "source": [
    "m_GA(20, GA, 100, 250, 0.7, 0.1,[(-30,30)]*2, fitness_func=Ackley_fitness_bin, f=Ackley_bin)"
   ]
  },
  {
   "cell_type": "code",
   "execution_count": 312,
   "metadata": {},
   "outputs": [],
   "source": [
    "def median_sol(m,solutions,one_solution=True):\n",
    "    if m%2 == 0:\n",
    "        if one_solution:\n",
    "            return solutions[m//2]\n",
    "        return solutions[(m//2)-1] + solutions[(m//2)]\n",
    "    else:\n",
    "        return solutions[m//2]"
   ]
  },
  {
   "cell_type": "code",
   "execution_count": 313,
   "metadata": {},
   "outputs": [],
   "source": [
    "def mean_sol_f(solutions):\n",
    "    return mean([s[1] for s in solutions])"
   ]
  },
  {
   "cell_type": "code",
   "execution_count": 314,
   "metadata": {},
   "outputs": [],
   "source": [
    "def std_sol_f(solutions):\n",
    "    return pstdev([s[1] for s in solutions])"
   ]
  },
  {
   "cell_type": "code",
   "execution_count": 315,
   "metadata": {},
   "outputs": [],
   "source": [
    "def m_GA_statistical_analysis(m, m_solutions):\n",
    "    print('Best solution:',m_solutions[0])\n",
    "    print('Worst solution:', m_solutions[-1])\n",
    "    print('Median solution:', median_sol(m,m_solutions))\n",
    "    print('Mean solution:', mean_sol_f(m_solutions))\n",
    "    print('Standard deviation:', std_sol_f(m_solutions))"
   ]
  },
  {
   "cell_type": "code",
   "execution_count": 343,
   "metadata": {
    "scrolled": true
   },
   "outputs": [
    {
     "name": "stdout",
     "output_type": "stream",
     "text": [
      "Best solution: ('10000000000000000111111111111111', 1.2082166435778419e-05)\n",
      "Worst solution: ('01111111111111111000000000000000', 1.2082166435778419e-05)\n",
      "Median solution: ('10000000000000000111111111111111', 1.2082166435778419e-05)\n",
      "Mean solution: 1.2082166435778419e-05\n",
      "Standard deviation: 0.0\n"
     ]
    }
   ],
   "source": [
    "m = 20\n",
    "m_solutions = m_GA(m, GA, 100, 250, 0.7, 0.1,[(-30,30)]*2, fitness_func=Ackley_fitness_bin, f=Ackley_bin)\n",
    "m_GA_statistical_analysis(m , m_solutions)"
   ]
  },
  {
   "cell_type": "markdown",
   "metadata": {},
   "source": [
    "I use fitness function as f so comparability makes more sense. (because fitness is normalized and I´m comparing 2 different functions)"
   ]
  },
  {
   "cell_type": "code",
   "execution_count": 352,
   "metadata": {},
   "outputs": [],
   "source": [
    "m = 20\n",
    "#GA_func\n",
    "μ = 100\n",
    "gens = 250\n",
    "pc = 0.7\n",
    "pm = 0.1\n",
    "#domain"
   ]
  },
  {
   "cell_type": "markdown",
   "metadata": {},
   "source": [
    "### Binary Beale - 2 variables"
   ]
  },
  {
   "cell_type": "code",
   "execution_count": 350,
   "metadata": {
    "scrolled": true
   },
   "outputs": [
    {
     "name": "stdout",
     "output_type": "stream",
     "text": [
      "Best solution: ('1101010101011010001110001110', 0.9999998810924345)\n",
      "Worst solution: ('1101010011110110001110000111', 0.9999684752115017)\n",
      "Median solution: ('1101010100111010001110001100', 0.999997931959119)\n",
      "Mean solution: 0.9999959658997741\n",
      "Standard deviation: 6.707601137281166e-06\n"
     ]
    }
   ],
   "source": [
    "m_solutions = m_GA(m, GA, μ, gens, pc, pm,[(-4.5,4.5)]*2, fitness_func=Beale_fitness, f=Beale_fitness)\n",
    "m_GA_statistical_analysis(m , m_solutions)"
   ]
  },
  {
   "cell_type": "markdown",
   "metadata": {},
   "source": [
    "### Binary Ackley - 2 variables"
   ]
  },
  {
   "cell_type": "code",
   "execution_count": 351,
   "metadata": {
    "scrolled": true
   },
   "outputs": [
    {
     "name": "stdout",
     "output_type": "stream",
     "text": [
      "Best solution: ('10000000000000000111111111111111', 0.9999879179795412)\n",
      "Worst solution: ('10000000000000001000000000000001', 0.9999395935614664)\n",
      "Median solution: ('01111111111111111000000000000000', 0.9999879179795412)\n",
      "Mean solution: 0.9999855017586375\n",
      "Standard deviation: 1.0532062744670015e-05\n"
     ]
    }
   ],
   "source": [
    "m_solutions = m_GA(m, GA, μ, gens, pc, pm,[(-30,30)]*2, fitness_func=Ackley_fitness_bin, f=Ackley_fitness_bin)\n",
    "m_GA_statistical_analysis(m , m_solutions)"
   ]
  },
  {
   "cell_type": "markdown",
   "metadata": {},
   "source": [
    "### Real Beale - 2 variables"
   ]
  },
  {
   "cell_type": "code",
   "execution_count": 354,
   "metadata": {
    "scrolled": true
   },
   "outputs": [
    {
     "name": "stdout",
     "output_type": "stream",
     "text": [
      "Best solution: ([3.0000006020926935, 0.500000127622369], 0.9999999999999312)\n",
      "Worst solution: ([2.975306082377575, 0.49314227331133276], 0.9998896370816407)\n",
      "Median solution: ([2.9993625708339637, 0.4999441051743424], 0.9999996941628232)\n",
      "Mean solution: 0.9999879901687241\n",
      "Standard deviation: 2.4954130518983173e-05\n"
     ]
    }
   ],
   "source": [
    "m_solutions = m_GA(m, real_GA, μ, gens, pc, pm,[(-4.5,4.5)]*2, fitness_func=r_Beale_fitness, f=r_Beale_fitness)\n",
    "m_GA_statistical_analysis(m , m_solutions)"
   ]
  },
  {
   "cell_type": "markdown",
   "metadata": {},
   "source": [
    "### Real Ackley - 2 variables"
   ]
  },
  {
   "cell_type": "code",
   "execution_count": 356,
   "metadata": {
    "scrolled": true
   },
   "outputs": [
    {
     "name": "stdout",
     "output_type": "stream",
     "text": [
      "Best solution: ([-0.0001340646011981942, 1.856765225371286e-05], 0.9999994719201779)\n",
      "Worst solution: ([0.03728936651300137, 0.00015821823560322737], 0.9618497346645105)\n",
      "Median solution: ([0.0017893711990771973, 0.0025365401167706395], 0.9997223071705734)\n",
      "Mean solution: 0.997347771247093\n",
      "Standard deviation: 0.008243777096974719\n"
     ]
    }
   ],
   "source": [
    "m_solutions = m_GA(m, real_GA, μ, gens, pc, pm,[(-30,30)]*2, fitness_func=Ackley_fitness, f=Ackley_fitness)\n",
    "m_GA_statistical_analysis(m , m_solutions)"
   ]
  },
  {
   "cell_type": "markdown",
   "metadata": {},
   "source": [
    "### Binary Ackley - 5 variables"
   ]
  },
  {
   "cell_type": "code",
   "execution_count": 358,
   "metadata": {
    "scrolled": true
   },
   "outputs": [
    {
     "name": "stdout",
     "output_type": "stream",
     "text": [
      "Best solution: ('10000000000000000111111111111111100100011100101100100001011010101110000011110111', 0.9999879179795412)\n",
      "Worst solution: ('10000000000000000111111111111111000100101110100111001101101000100110100001100100', 0.9999879179795412)\n",
      "Median solution: ('01111111111111110111111111111111000101011100010100011010011010100011000101110110', 0.9999879179795412)\n",
      "Mean solution: 0.9999879179795412\n",
      "Standard deviation: 0.0\n"
     ]
    }
   ],
   "source": [
    "m_solutions = m_GA(m, GA, μ, gens, pc, pm,[(-30,30)]*5, fitness_func=Ackley_fitness_bin, f=Ackley_fitness_bin)\n",
    "m_GA_statistical_analysis(m , m_solutions)"
   ]
  },
  {
   "cell_type": "markdown",
   "metadata": {},
   "source": [
    "### Binary Ackley - 10 variables"
   ]
  },
  {
   "cell_type": "code",
   "execution_count": 359,
   "metadata": {
    "scrolled": true
   },
   "outputs": [
    {
     "name": "stdout",
     "output_type": "stream",
     "text": [
      "Best solution: ('1000000000000000100000000000000001001101100101100111011100000001100100101110011101010000010011001101111111001011011111000001111010011000011001101000111001001101', 0.9999879179795412)\n",
      "Worst solution: ('1000000000000000100000000000000001011110110000100100001100101110000000101010101100011001110011001111000110110001001010000011011110100101101111001011011010111110', 0.9999879179795412)\n",
      "Median solution: ('0111111111111111100000000000000011001101111010111111001100000111110000100001101110100011111010110011011000110100110011101110111011110000001010110100110101110110', 0.9999879179795412)\n",
      "Mean solution: 0.9999879179795412\n",
      "Standard deviation: 0.0\n"
     ]
    }
   ],
   "source": [
    "m_solutions = m_GA(m, GA, μ, gens, pc, pm,[(-30,30)]*10, fitness_func=Ackley_fitness_bin, f=Ackley_fitness_bin)\n",
    "m_GA_statistical_analysis(m , m_solutions)"
   ]
  },
  {
   "cell_type": "markdown",
   "metadata": {},
   "source": [
    "### Binary Ackley - 20 variables"
   ]
  },
  {
   "cell_type": "code",
   "execution_count": 363,
   "metadata": {
    "scrolled": true
   },
   "outputs": [
    {
     "name": "stdout",
     "output_type": "stream",
     "text": [
      "Best solution: ('10000000000000000111111111111111110010000000101000101100010011100001111010110111110001101011100010101110001010110010010011110011101001011001101111010001000001011001000010010111000110000110100010111011010001101111110010001110011111011100010111111101000000011110111001111111111001010011001001000010001111011100110001110000', 0.9999879179795412)\n",
      "Worst solution: ('01111111111111111000000000000000110011110111100111000110011011001100100110110010011110000001101110111101101110100000011011011010010100011001001011110101101010011011101010100000110011010101011100100111100110001000010001011100011110000010010110110110100000111110110010000010000000010110000100010100101110010010100111111000', 0.9999879179795412)\n",
      "Median solution: ('10000000000000000111111111111111100001011011001010000111110010100011110100000100000101001111110011100111100100110010010100000000010110011010111000100100010011110110100101010100010111110100001100111110110110011001111001000000101001010100110010100101000010110110011011010111111101011011110001000011011110110100010110111010', 0.9999879179795412)\n",
      "Mean solution: 0.9999879179795412\n",
      "Standard deviation: 0.0\n"
     ]
    }
   ],
   "source": [
    "m_solutions = m_GA(m, GA, μ, gens, pc, pm,[(-30,30)]*20, fitness_func=Ackley_fitness_bin, f=Ackley_fitness_bin)\n",
    "m_GA_statistical_analysis(m , m_solutions)"
   ]
  },
  {
   "cell_type": "markdown",
   "metadata": {},
   "source": [
    "### Real Ackley - 5 variables"
   ]
  },
  {
   "cell_type": "code",
   "execution_count": 364,
   "metadata": {
    "scrolled": true
   },
   "outputs": [
    {
     "name": "stdout",
     "output_type": "stream",
     "text": [
      "Best solution: ([0.0019903349560468557, 0.006785433221603089, 0.0144407517992604, 0.0014416768261184454, -0.0011000931370606052], 0.9969929079611074)\n",
      "Worst solution: ([-0.020667772450314214, -0.05176660155578619, -0.0011046157031131278, 0.01877230027400652, -0.035242849007347206], 0.9492623399889822)\n",
      "Median solution: ([0.0006143384731224009, -0.008031293347291912, 0.0016296702770216003, 0.021317965027967428, -0.02103306907196346], 0.9890349352525065)\n",
      "Mean solution: 0.9839328827250267\n",
      "Standard deviation: 0.013569650729518695\n"
     ]
    }
   ],
   "source": [
    "m_solutions = m_GA(m, real_GA, μ, gens, pc, pm,[(-30,30)]*5, fitness_func=Ackley_fitness, f=Ackley_fitness)\n",
    "m_GA_statistical_analysis(m , m_solutions)"
   ]
  },
  {
   "cell_type": "markdown",
   "metadata": {},
   "source": [
    "### Real Ackley - 10 variables"
   ]
  },
  {
   "cell_type": "code",
   "execution_count": 365,
   "metadata": {
    "scrolled": true
   },
   "outputs": [
    {
     "name": "stdout",
     "output_type": "stream",
     "text": [
      "Best solution: ([0.12882133567737974, -0.015534207572890452, -0.025344826025282575, 0.00957862738854357, 0.04257753430469779, -0.001386726184366578, 0.04888565202862874, -0.02787729351580421, 0.008032841149955266, 0.05401942286727899], 0.8779722165458006)\n",
      "Worst solution: ([0.07790684654729318, -0.13657286793186751, 0.046314656842248864, -0.09148422478581275, 0.14833502934915585, 0.10655321900758702, 0.04157841702126319, -0.07646590022309885, 0.40871554382441555, -0.010399771799746077], 0.5387092037399559)\n",
      "Median solution: ([-0.04014650680681641, 0.0298052010509106, -0.016914713952069015, 0.09507659964421475, 0.0566668349677527, 0.06308042181962797, -0.16669985643837265, 0.14647756998765177, -0.13345622738711083, 0.009146350433758823], 0.6966675759611366)\n",
      "Mean solution: 0.7342748067879555\n",
      "Standard deviation: 0.08958195298221129\n"
     ]
    }
   ],
   "source": [
    "m_solutions = m_GA(m, real_GA, μ, gens, pc, pm,[(-30,30)]*10, fitness_func=Ackley_fitness, f=Ackley_fitness)\n",
    "m_GA_statistical_analysis(m , m_solutions)"
   ]
  },
  {
   "cell_type": "markdown",
   "metadata": {},
   "source": [
    "### Real Ackley - 20 variables"
   ]
  },
  {
   "cell_type": "code",
   "execution_count": 366,
   "metadata": {
    "scrolled": true
   },
   "outputs": [
    {
     "name": "stdout",
     "output_type": "stream",
     "text": [
      "Best solution: ([2.086524778678203, 0.16770105737123098, 0.5398979622013698, 0.054023258993296464, -2.013704105183666, -0.011245431193853447, -2.183576129786169, -1.405419137398129, 0.27174029532882615, 0.9817634260684396, -0.46206095127521807, -0.0874490966216826, 0.9567643976374387, -1.5379455869241063, -0.4618931147681261, -0.7514179491519003, -1.3578392878674181, 1.2176648555512926, 1.5106586056952729, 0.6973371397351118], 0.13538026186295074)\n",
      "Worst solution: ([4.626853640713571, 3.328891729958145, -2.63044261102403, 0.2604966493927475, -0.7410765150857248, 1.4775504972506348, -0.006195298982903719, 0.5554012901808397, -4.766714496277292, -0.07411009976940686, -2.9462497173351303, -1.7779737043155932, -0.7223798675594697, -1.8151183863913094, -1.498943161969693, 0.9955440810264224, -0.3190118500556865, -1.2931736341499884, 0.2579928680766251, 2.5031742431749477], 0.06722026602571436)\n",
      "Median solution: ([-2.8550023248728045, 1.4050765375881138, -0.9082595097922876, 0.9474894650679986, 1.1291999145784426, -2.8172223673718064, 0.8402879700940082, -1.7925758986637739, 3.3232793436415005, -1.591444050504733, -0.7494732775998945, 0.9846899140396757, -1.40416895483725, 1.1912193174074668, 1.6086594266107253, 2.845019059114711, -1.1522518163134388, 0.13727557216499345, -1.105029749538384, 1.507388527298522], 0.08741774268504172)\n",
      "Mean solution: 0.09192947468614185\n",
      "Standard deviation: 0.017401577589760513\n"
     ]
    }
   ],
   "source": [
    "m_solutions = m_GA(m, real_GA, μ, gens, pc, pm,[(-30,30)]*20, fitness_func=Ackley_fitness, f=Ackley_fitness)\n",
    "m_GA_statistical_analysis(m , m_solutions)"
   ]
  },
  {
   "cell_type": "markdown",
   "metadata": {},
   "source": [
    "### Results"
   ]
  },
  {
   "cell_type": "markdown",
   "metadata": {},
   "source": [
    "#### best solution     \n",
    "\n",
    "| Algorithm/Variables | $$2$$ |  $$5$$ | $$10$$ | $$20$$ |\n",
    "| --- | --- | --- | --- | --- |\n",
    "| Binary Beale | 0.9999998810924345 | $$-$$ | $$-$$ | $$-$$ |\n",
    "| Binary Ackley | 0.9999879179795412 | 0.9999879179795412 | 0.9999879179795412 | 0.9999879179795412 |\n",
    "| Real Beale | 0.9999999999999312 | $$-$$ | $$-$$ | $$-$$ |\n",
    "| Real Ackley | 0.9999994719201779 | 0.9969929079611074 | 0.8779722165458006 | 0.13538026186295074 |\n",
    "\n",
    "#### worst solution\n",
    "| Algorithm/Variables | $$2$$ |  $$5$$ | $$10$$ | $$20$$ |\n",
    "| --- | --- | --- | --- | --- |\n",
    "| Binary Beale | 0.9999684752115017 | $$-$$ | $$-$$ | $$-$$ |\n",
    "| Binary Ackley | 0.9999395935614664 | 0.9999879179795412 | 0.9999879179795412 | 0.9999879179795412 |\n",
    "| Real Beale | 0.9998896370816407 | $$-$$ | $$-$$ | $$-$$ |\n",
    "| Real Ackley | 0.9618497346645105 | 0.9492623399889822 | 0.5387092037399559 | 0.06722026602571436 |\n",
    "\n",
    "#### median solution\n",
    "| Algorithm/Variables | $$2$$ |  $$5$$ | $$10$$ | $$20$$ |\n",
    "| --- | --- | --- | --- | --- |\n",
    "| Binary Beale |  0.999997931959119 | $$-$$ | $$-$$ | $$-$$ |\n",
    "| Binary Ackley | 0.9999879179795412 | 0.9999879179795412 | 0.9999879179795412 | 0.9999879179795412 |\n",
    "| Real Beale | 0.9999996941628232 | $$-$$ | $$-$$ | $$-$$ |\n",
    "| Real Ackley | 0.9997223071705734 | 0.9890349352525065 | 0.6966675759611366 | 0.08741774268504172 |\n",
    "\n",
    "#### mean solution\n",
    "| Algorithm/Variables | $$2$$ |  $$5$$ | $$10$$ | $$20$$ |\n",
    "| --- | --- | --- | --- | --- |\n",
    "| Binary Beale | 0.9999959658997741 | $$-$$ | $$-$$ | $$-$$ |\n",
    "| Binary Ackley | 0.9999855017586375 | 0.9999879179795412 | 0.9999879179795412 | 0.9999879179795412 |\n",
    "| Real Beale | 0.9999879901687241 | $$-$$ | $$-$$ | $$-$$ |\n",
    "| Real Ackley | 0.997347771247093 | 0.9839328827250267 | 0.7342748067879555 | 0.09192947468614185 |\n",
    "\n",
    "#### std solution  \n",
    "| Algorithm/Variables | $$2$$ |  $$5$$ | $$10$$ | $$20$$ |\n",
    "| --- | --- | --- | --- | --- |\n",
    "| Binary Beale | 6.707601137281166e-06 | $$-$$ | $$-$$ | $$-$$ |\n",
    "| Binary Ackley | 1.0532062744670015e-05 | <center>0.0</center> | <center>0.0</center> | <center>0.0</center> |\n",
    "| Real Beale | 2.4954130518983173e-05 | $$-$$ | $$-$$ | $$-$$ |\n",
    "| Real Ackley | 0.008243777096974719 | 0.013569650729518695 | 0.08958195298221129 | 0.017401577589760513 |"
   ]
  },
  {
   "cell_type": "code",
   "execution_count": null,
   "metadata": {},
   "outputs": [],
   "source": []
  },
  {
   "cell_type": "markdown",
   "metadata": {},
   "source": [
    "## 5.\n",
    "Diseñar e implementar un AG que resuelva el problema del agente viajero.\n",
    "- Dada una lista de ciudades y la distancia entre cada par de ellas, encontrar el camino más corto que visite cada ciudad exactamente una vez y regrese a la ciudad de origen.\n",
    "\n",
    "La **entrada al programa será**:"
   ]
  },
  {
   "attachments": {
    "image.png": {
     "image/png": "[encoded data removed]"
    }
   },
   "cell_type": "markdown",
   "metadata": {},
   "source": [
    "![image.png](attachment:image.png)"
   ]
  },
  {
   "attachments": {
    "image.png": {
     "image/png": "[encoded data removed]"
    }
   },
   "cell_type": "markdown",
   "metadata": {},
   "source": [
    "![image.png](attachment:image.png)"
   ]
  },
  {
   "attachments": {
    "image.png": {
     "image/png": "[encoded data removed]"
    }
   },
   "cell_type": "markdown",
   "metadata": {},
   "source": [
    "![image.png](attachment:image.png)"
   ]
  },
  {
   "attachments": {
    "image.png": {
     "image/png": "[encoded data removed]"
    }
   },
   "cell_type": "markdown",
   "metadata": {},
   "source": [
    "![image.png](attachment:image.png)"
   ]
  },
  {
   "cell_type": "code",
   "execution_count": 5,
   "metadata": {
    "scrolled": true
   },
   "outputs": [],
   "source": [
    "def input_read(URL):\n",
    "    with open(URL) as file_in:\n",
    "        n = int(file_in.readline())\n",
    "        pc,pm,μ = file_in.readline().rstrip('\\n').split(' ')\n",
    "        pc,pm,μ = float(pc),float(pm),int(μ)\n",
    "        half_matrix = []\n",
    "        for i in range(n-1):\n",
    "            line = file_in.readline().rstrip('\\n').split(' ')\n",
    "            half_matrix.append([float(l) for l in line])\n",
    "        return n, μ, pc, pm, half_matrix"
   ]
  },
  {
   "cell_type": "code",
   "execution_count": 6,
   "metadata": {},
   "outputs": [
    {
     "data": {
      "text/plain": [
       "(10,\n",
       " 100,\n",
       " 0.9,\n",
       " 0.01,\n",
       " [[49.0, 30.0, 53.0, 72.0, 19.0, 76.0, 87.0, 45.0, 48.0],\n",
       "  [19.0, 38.0, 32.0, 31.0, 75.0, 69.0, 61.0, 25.0],\n",
       "  [41.0, 98.0, 56.0, 6.0, 6.0, 45.0, 53.0],\n",
       "  [52.0, 29.0, 46.0, 90.0, 23.0, 98.0],\n",
       "  [63.0, 90.0, 69.0, 50.0, 82.0],\n",
       "  [60.0, 88.0, 41.0, 95.0],\n",
       "  [61.0, 92.0, 10.0],\n",
       "  [82.0, 73.0],\n",
       "  [5.0]])"
      ]
     },
     "execution_count": 6,
     "metadata": {},
     "output_type": "execute_result"
    }
   ],
   "source": [
    "e_input = input_read(\"example_input.txt\")\n",
    "e_input"
   ]
  },
  {
   "cell_type": "code",
   "execution_count": 7,
   "metadata": {},
   "outputs": [],
   "source": [
    "def w_node_node(node,next_node,matrix):\n",
    "    # given a first node, a second node and the adjacency matrix, return the distance between the nodes\n",
    "    if next_node < node:\n",
    "        new = matrix[next_node][node-next_node-1]\n",
    "        return new\n",
    "    else:\n",
    "        new = matrix[node][next_node-(node+1)]\n",
    "        return new"
   ]
  },
  {
   "cell_type": "code",
   "execution_count": 8,
   "metadata": {},
   "outputs": [
    {
     "data": {
      "text/plain": [
       "88.0"
      ]
     },
     "execution_count": 8,
     "metadata": {},
     "output_type": "execute_result"
    }
   ],
   "source": [
    " w_node_node(5,7,e_input[4])"
   ]
  },
  {
   "cell_type": "code",
   "execution_count": 9,
   "metadata": {},
   "outputs": [],
   "source": [
    "def evaluator(sol,n,matrix):\n",
    "    # given a solution, n, and the adj. matrix, return the cost of the trajectory\n",
    "    weights = 0\n",
    "    for i in range(n-1):\n",
    "        node = sol[i]\n",
    "        next_node = sol[i+1]\n",
    "        weights += w_node_node(node,next_node,matrix)\n",
    "    weights += w_node_node(sol[n-1],0,matrix) # peso del último con el primero (0)\n",
    "    return weights"
   ]
  },
  {
   "cell_type": "code",
   "execution_count": 10,
   "metadata": {},
   "outputs": [],
   "source": [
    "def rand_node_sol(n):\n",
    "    sol = list(range(n))\n",
    "    shuffle(sol)\n",
    "    return sol"
   ]
  },
  {
   "cell_type": "code",
   "execution_count": 11,
   "metadata": {},
   "outputs": [
    {
     "data": {
      "text/plain": [
       "[2, 7, 9, 0, 5, 3, 6, 4, 1, 8]"
      ]
     },
     "execution_count": 11,
     "metadata": {},
     "output_type": "execute_result"
    }
   ],
   "source": [
    "rand_node_sol(10)"
   ]
  },
  {
   "cell_type": "code",
   "execution_count": 12,
   "metadata": {},
   "outputs": [
    {
     "data": {
      "text/plain": [
       "570.0"
      ]
     },
     "execution_count": 12,
     "metadata": {},
     "output_type": "execute_result"
    }
   ],
   "source": [
    "evaluator(rand_node_sol(10),10,e_input[4])"
   ]
  },
  {
   "cell_type": "code",
   "execution_count": 13,
   "metadata": {},
   "outputs": [],
   "source": [
    "def rand_sol_f(n,matrix):\n",
    "    sol = rand_node_sol(n)\n",
    "    return sol,evaluator(sol,n,matrix)"
   ]
  },
  {
   "cell_type": "code",
   "execution_count": 14,
   "metadata": {},
   "outputs": [
    {
     "data": {
      "text/plain": [
       "([8, 3, 4, 1, 9, 2, 6, 0, 5, 7], 461.0)"
      ]
     },
     "execution_count": 14,
     "metadata": {},
     "output_type": "execute_result"
    }
   ],
   "source": [
    "rand_sol_f(10,e_input[4])"
   ]
  },
  {
   "cell_type": "code",
   "execution_count": null,
   "metadata": {},
   "outputs": [],
   "source": [
    "crossover(k_points, p1, p2):\n",
    "    o1, o2 = '', ''\n",
    "    index_closer = 0\n",
    "    for i,point in enumerate(k_points+[len(p1)]):\n",
    "        if i%2 == 0:\n",
    "            o1 += p1[index_closer:point]\n",
    "            o2 += p2[index_closer:point]\n",
    "        else:\n",
    "            o1 += p2[index_closer:point]\n",
    "            o2 += p1[index_closer:point]\n",
    "        index_closer = point\n",
    "    return o1,o2"
   ]
  },
  {
   "cell_type": "code",
   "execution_count": 445,
   "metadata": {},
   "outputs": [
    {
     "data": {
      "text/plain": [
       "[2, 3]"
      ]
     },
     "execution_count": 445,
     "metadata": {},
     "output_type": "execute_result"
    }
   ],
   "source": [
    "sorted(sample(list(range(10)),2))"
   ]
  },
  {
   "cell_type": "code",
   "execution_count": 15,
   "metadata": {},
   "outputs": [],
   "source": [
    "def in_range(x,ran):\n",
    "    for i,r in enumerate(ran):\n",
    "        if x == r:\n",
    "            return i\n",
    "    return False"
   ]
  },
  {
   "cell_type": "code",
   "execution_count": 16,
   "metadata": {},
   "outputs": [
    {
     "data": {
      "text/plain": [
       "(False, 3)"
      ]
     },
     "execution_count": 16,
     "metadata": {},
     "output_type": "execute_result"
    }
   ],
   "source": [
    "in_range(3,[4,5,6]), in_range(3,[4,5,6,3])"
   ]
  },
  {
   "cell_type": "code",
   "execution_count": 28,
   "metadata": {},
   "outputs": [],
   "source": [
    "def not_in_range(n,p1,ran):\n",
    "    not_in_r = []\n",
    "    for i in range(n):\n",
    "        if p1[i] not in ran:\n",
    "            not_in_r.append((p1[i],i))\n",
    "    return not_in_r"
   ]
  },
  {
   "cell_type": "code",
   "execution_count": 29,
   "metadata": {},
   "outputs": [
    {
     "data": {
      "text/plain": [
       "[(9, 0), (186, 3), (8, 4), (7, 5)]"
      ]
     },
     "execution_count": 29,
     "metadata": {},
     "output_type": "execute_result"
    }
   ],
   "source": [
    "not_in_range(6,[9,4,5,186,8,7],[4,5,6,3])"
   ]
  },
  {
   "cell_type": "code",
   "execution_count": 77,
   "metadata": {},
   "outputs": [],
   "source": [
    "def PMX_correction(n,o,p1,p2,cut1,cut2):\n",
    "    cut_range = o[cut1:cut2]\n",
    "    cut_len = cut2-cut1\n",
    "    p1_missing = not_in_range(cut_len,p1[cut1:cut2],cut_range)\n",
    "    for (x,i) in p1_missing:\n",
    "        init_x = x\n",
    "        while True:\n",
    "            p2_i = p2[cut1+i]\n",
    "            p1_j_index = p1.index(p2_i)\n",
    "            p1_j = p1[p1_j_index]\n",
    "            #print(x,p2_i,p1_j_index,p1_j)\n",
    "            #print(cut_range)\n",
    "            if p1_j_index not in range(cut1,cut2):\n",
    "                #print('ya')\n",
    "                o[p1_j_index] = init_x\n",
    "                break\n",
    "            x = p1_j\n",
    "            i = p1_j_index-cut1\n",
    "    for i in range(n):\n",
    "        if o[i] == -1:\n",
    "            o[i] = p1[i]\n",
    "    return o"
   ]
  },
  {
   "cell_type": "code",
   "execution_count": 79,
   "metadata": {},
   "outputs": [
    {
     "data": {
      "text/plain": [
       "[0, 1, 2, 3, 4]"
      ]
     },
     "execution_count": 79,
     "metadata": {},
     "output_type": "execute_result"
    }
   ],
   "source": [
    "PMX_correction(5,[3,1,2,3,4],[3,1,0,2,4],[0,1,2,3,4],2,4)"
   ]
  },
  {
   "cell_type": "code",
   "execution_count": 80,
   "metadata": {},
   "outputs": [
    {
     "data": {
      "text/plain": [
       "[9, 3, 2, 4, 5, 6, 7, 1, 8]"
      ]
     },
     "execution_count": 80,
     "metadata": {},
     "output_type": "execute_result"
    }
   ],
   "source": [
    "PMX_correction(9,[-1,-1,-1,4,5,6,7,-1,-1],[9,3,7,8,2,6,5,1,4],[1,2,3,4,5,6,7,8,9],3,7)"
   ]
  },
  {
   "cell_type": "code",
   "execution_count": 113,
   "metadata": {},
   "outputs": [],
   "source": [
    "def Partially_Mapped_Crossover(n,p1,p2,cut=False):\n",
    "    if cut:\n",
    "        cut1,cut2 = cut\n",
    "    else:\n",
    "        cut1,cut2 = sorted(sample(list(range(n+1)),2))\n",
    "    o1 = [-1]*cut1 + p2[cut1:cut2] + [-1]*(n-cut2)\n",
    "    o2 = [-1]*cut1 + p1[cut1:cut2] + [-1]*(n-cut2)\n",
    "    #return o1,o2, cut1,cut2\n",
    "    return (PMX_correction(n,o1,p1,p2,cut1,cut2),0), (PMX_correction(n,o2,p2,p1,cut1,cut2),0)"
   ]
  },
  {
   "cell_type": "code",
   "execution_count": 114,
   "metadata": {
    "scrolled": false
   },
   "outputs": [
    {
     "data": {
      "text/plain": [
       "(([9, 8, 2, 6, 5, 4, 3, 7, 1, 0], 0), ([0, 1, 7, 3, 4, 5, 6, 2, 8, 9], 0))"
      ]
     },
     "execution_count": 114,
     "metadata": {},
     "output_type": "execute_result"
    }
   ],
   "source": [
    "Partially_Mapped_Crossover(10,sorted(list(range(10)),reverse=True),list(range(10)))"
   ]
  },
  {
   "cell_type": "code",
   "execution_count": 115,
   "metadata": {},
   "outputs": [
    {
     "data": {
      "text/plain": [
       "(([9, 3, 2, 4, 5, 6, 7, 1, 8], 0), ([1, 7, 3, 8, 2, 6, 5, 4, 9], 0))"
      ]
     },
     "execution_count": 115,
     "metadata": {},
     "output_type": "execute_result"
    }
   ],
   "source": [
    "Partially_Mapped_Crossover(9,[9,3,7,8,2,6,5,1,4],[1,2,3,4,5,6,7,8,9],cut=[3,7])"
   ]
  },
  {
   "cell_type": "code",
   "execution_count": 135,
   "metadata": {},
   "outputs": [],
   "source": [
    "def mutate_by_insertion(n,x,indexes):\n",
    "    rand_1,rand_2 = indexes\n",
    "    x.insert(rand_2, x.pop(rand_1))\n",
    "    return x"
   ]
  },
  {
   "cell_type": "code",
   "execution_count": 139,
   "metadata": {
    "scrolled": true
   },
   "outputs": [
    {
     "data": {
      "text/plain": [
       "[9, 3, 2, 5, 6, 4, 7, 1, 8]"
      ]
     },
     "execution_count": 139,
     "metadata": {},
     "output_type": "execute_result"
    }
   ],
   "source": [
    " mutate_by_insertion(9,[9, 3, 2, 4, 5, 6, 7, 1, 8],[3,5])"
   ]
  },
  {
   "cell_type": "code",
   "execution_count": 228,
   "metadata": {},
   "outputs": [],
   "source": [
    "def displacement_mutation(n,x):\n",
    "    start,end = sorted(sample(list(range(n+1)),2))\n",
    "    outsiders = x[:start] + x[end:]\n",
    "    free_moving_range = n+1 - (end-start)\n",
    "    moving_n_places = randint(0,free_moving_range)\n",
    "    for i in range(n):\n",
    "        if i in range(start,end):\n",
    "            #print(outsiders)\n",
    "            outsiders.insert((i-start)+moving_n_places,x[i]) \n",
    "    return outsiders\n",
    "    #return start,end,free_moving_range,moving_n_places,outsiders"
   ]
  },
  {
   "cell_type": "code",
   "execution_count": 232,
   "metadata": {},
   "outputs": [
    {
     "data": {
      "text/plain": [
       "[6, 4, 7, 9, 3, 2, 5, 1, 8]"
      ]
     },
     "execution_count": 232,
     "metadata": {},
     "output_type": "execute_result"
    }
   ],
   "source": [
    "displacement_mutation(9,[9, 3, 2, 5, 6, 4, 7, 1, 8])"
   ]
  },
  {
   "cell_type": "code",
   "execution_count": 248,
   "metadata": {},
   "outputs": [],
   "source": [
    "def pop_mutate_by_displacement(n,pop,matrix):\n",
    "    mutated_pop = []\n",
    "    for individual in pop:\n",
    "        mutated = displacement_mutation(n,individual[0])\n",
    "        f = evaluator(mutated,n,matrix)\n",
    "        mutated_pop.append((mutated,f))\n",
    "    return mutated_pop"
   ]
  },
  {
   "cell_type": "code",
   "execution_count": 266,
   "metadata": {},
   "outputs": [
    {
     "data": {
      "text/plain": [
       "([([1, 8, 7, 9, 5, 2, 3, 6, 4, 0], 664.0),\n",
       "  ([3, 6, 4, 2, 1, 0, 7, 9, 5, 8], 643.0),\n",
       "  ([4, 1, 2, 5, 7, 8, 0, 3, 9, 6], 559.0),\n",
       "  ([5, 4, 7, 0, 3, 9, 2, 1, 8, 6], 671.0),\n",
       "  ([8, 5, 1, 4, 7, 6, 3, 9, 0, 2], 486.0)],\n",
       " [([1, 8, 9, 5, 2, 3, 7, 6, 4, 0], 619.0),\n",
       "  ([3, 4, 2, 1, 0, 6, 7, 9, 5, 8], 609.0),\n",
       "  ([4, 1, 2, 5, 7, 8, 0, 3, 9, 6], 559.0),\n",
       "  ([5, 4, 7, 0, 3, 9, 2, 1, 6, 8], 654.0),\n",
       "  ([8, 5, 1, 6, 3, 9, 0, 2, 4, 7], 623.0)])"
      ]
     },
     "execution_count": 266,
     "metadata": {},
     "output_type": "execute_result"
    }
   ],
   "source": [
    "rand_pop = [rand_sol_f(10,e_input[4]) for i in range(5)]\n",
    "rand_pop, pop_mutate_by_displacement(10,rand_pop,e_input[4])"
   ]
  },
  {
   "cell_type": "code",
   "execution_count": 269,
   "metadata": {},
   "outputs": [],
   "source": [
    "def traver_problem_GA(n, μ, pc, pm, half_matrix, gens=100):\n",
    "    population = [rand_sol_f(n,half_matrix) for i in range(μ)]\n",
    "    parents=[]\n",
    "    for gen in range(gens):\n",
    "        parents = r_universal_stochastic_selection(population)\n",
    "        offspring = []\n",
    "        for p1,p2 in grouped(parents,2):\n",
    "            offs = []\n",
    "            if random() < pc:\n",
    "                o1,o2 = Partially_Mapped_Crossover(n,p1[0],p2[0])\n",
    "                offs = [o1,o2]\n",
    "            else:\n",
    "                offs = [p1,p2]\n",
    "            offspring += offs\n",
    "    \n",
    "        offspring = pop_mutate_by_displacement(n,offspring,half_matrix)\n",
    "        offspring.sort(key=lambda x:x[1])\n",
    "        parents.sort(key=lambda x:x[1])\n",
    "    \n",
    "        if parents[0][1] < offspring[0][1]:\n",
    "            offspring[-1] = parents[0]\n",
    "            offspring.sort(key=lambda x:x[1])\n",
    "        population = offspring\n",
    "    population.sort(key=lambda x:x[1])\n",
    "    return population[0]"
   ]
  },
  {
   "cell_type": "code",
   "execution_count": 289,
   "metadata": {},
   "outputs": [
    {
     "data": {
      "text/plain": [
       "(10,\n",
       " 100,\n",
       " 0.9,\n",
       " 0.01,\n",
       " [[49.0, 30.0, 53.0, 72.0, 19.0, 76.0, 87.0, 45.0, 48.0],\n",
       "  [19.0, 38.0, 32.0, 31.0, 75.0, 69.0, 61.0, 25.0],\n",
       "  [41.0, 98.0, 56.0, 6.0, 6.0, 45.0, 53.0],\n",
       "  [52.0, 29.0, 46.0, 90.0, 23.0, 98.0],\n",
       "  [63.0, 90.0, 69.0, 50.0, 82.0],\n",
       "  [60.0, 88.0, 41.0, 95.0],\n",
       "  [61.0, 92.0, 10.0],\n",
       "  [82.0, 73.0],\n",
       "  [5.0]])"
      ]
     },
     "execution_count": 289,
     "metadata": {},
     "output_type": "execute_result"
    }
   ],
   "source": [
    "e_input"
   ]
  },
  {
   "cell_type": "code",
   "execution_count": 290,
   "metadata": {},
   "outputs": [],
   "source": [
    "half_matrix = e_input[4]"
   ]
  },
  {
   "cell_type": "code",
   "execution_count": 291,
   "metadata": {
    "scrolled": true
   },
   "outputs": [
    {
     "data": {
      "text/plain": [
       "([8, 2, 7, 6, 9, 0, 5, 3, 4, 1], 351.0)"
      ]
     },
     "execution_count": 291,
     "metadata": {},
     "output_type": "execute_result"
    }
   ],
   "source": [
    "traver_problem_GA(10, 100, 0.9, 0.01, half_matrix, gens=100)"
   ]
  },
  {
   "cell_type": "code",
   "execution_count": 295,
   "metadata": {},
   "outputs": [
    {
     "data": {
      "text/plain": [
       "([4, 7, 1, 2, 6, 9, 8, 3, 5, 0], 297.0)"
      ]
     },
     "execution_count": 295,
     "metadata": {},
     "output_type": "execute_result"
    }
   ],
   "source": [
    "traver_problem_GA(10, 1000, 0.7, 0.1, half_matrix, gens=200)"
   ]
  },
  {
   "cell_type": "code",
   "execution_count": 296,
   "metadata": {},
   "outputs": [
    {
     "data": {
      "text/plain": [
       "([0, 1, 5, 3, 4, 8, 9, 6, 2, 7], 325.0)"
      ]
     },
     "execution_count": 296,
     "metadata": {},
     "output_type": "execute_result"
    }
   ],
   "source": [
    "traver_problem_GA(10, 200, 0.7, 0.1, half_matrix, gens=500)"
   ]
  },
  {
   "cell_type": "code",
   "execution_count": 297,
   "metadata": {},
   "outputs": [
    {
     "data": {
      "text/plain": [
       "([3, 1, 4, 8, 5, 0, 9, 6, 7, 2], 335.0)"
      ]
     },
     "execution_count": 297,
     "metadata": {},
     "output_type": "execute_result"
    }
   ],
   "source": [
    "traver_problem_GA(10, 200, 0.7, 0.1, half_matrix, gens=1000)"
   ]
  },
  {
   "cell_type": "code",
   "execution_count": null,
   "metadata": {},
   "outputs": [],
   "source": []
  },
  {
   "cell_type": "markdown",
   "metadata": {},
   "source": [
    "## 6.\n",
    "Permitir al usuario realizar M ejecuciones del AG, implementado en el punto anterior, para resolver una instancia del problema del agente viajero. Dicha instancia estará almacenada en un archivo que tendrá los parámetros de entrada tal y como se indicó en el punto anterior. Después de las M ejecuciones se debe reportar lo siguiente:\n",
    "\n",
    "1. Mejor solución encontrada considerando las M ejecuciones.\n",
    "2. Peor solución encontrada considerando las M ejecuciones.\n",
    "3. Solución que corresponde a la mediana considerando las M ejecuciones.\n",
    "4. Media del valor de la función objetivo considerando las M ejecuciones.\n",
    "5. Desviación estándar del valor de la función objetivo considerando las M ejecuciones.\n",
    "\n",
    "En los primeros tres puntos indica tanto el valor de x (permutación) como el valor de la función objetivo f (costo de hacer el recorrido). Nota: Para ese punto el usuario debe indicar el nombre del archivo de entrada y el número M de ejecuciones a realizar."
   ]
  },
  {
   "cell_type": "code",
   "execution_count": 301,
   "metadata": {},
   "outputs": [],
   "source": [
    "def m_traveler_GA(m, URL, gens=100):# n, μ, pc, pm, half_matrix, ):\n",
    "    n, μ, pc, pm, half_matrix = input_read(URL)\n",
    "    m_solutions = []\n",
    "    for i in range(m):\n",
    "        GA_sol = traver_problem_GA(n, μ, pc, pm, half_matrix, gens=gens)\n",
    "        m_solutions.append(GA_sol)\n",
    "    m_solutions.sort(key=lambda x:x[1])\n",
    "    return m_solutions"
   ]
  },
  {
   "cell_type": "code",
   "execution_count": 309,
   "metadata": {},
   "outputs": [
    {
     "data": {
      "text/plain": [
       "[([4, 1, 7, 2, 6, 9, 8, 3, 0, 5], 242.0),\n",
       " ([4, 1, 7, 3, 8, 9, 6, 2, 0, 5], 303.0),\n",
       " ([6, 2, 7, 1, 9, 8, 4, 3, 5, 0], 309.0),\n",
       " ([4, 7, 2, 6, 9, 0, 1, 3, 8, 5], 309.0),\n",
       " ([7, 4, 5, 0, 1, 3, 8, 9, 6, 2], 312.0),\n",
       " ([4, 5, 1, 7, 2, 6, 9, 8, 3, 0], 314.0),\n",
       " ([4, 7, 6, 2, 3, 8, 9, 1, 0, 5], 317.0),\n",
       " ([0, 5, 7, 2, 6, 9, 8, 4, 3, 1], 323.0),\n",
       " ([7, 2, 6, 9, 0, 3, 5, 8, 4, 1], 324.0),\n",
       " ([7, 2, 0, 1, 4, 8, 9, 6, 5, 3], 324.0),\n",
       " ([3, 0, 1, 2, 7, 6, 9, 8, 4, 5], 335.0),\n",
       " ([1, 3, 0, 2, 7, 6, 9, 8, 4, 5], 335.0),\n",
       " ([6, 7, 2, 0, 1, 4, 9, 8, 3, 5], 336.0),\n",
       " ([8, 9, 6, 7, 2, 1, 0, 5, 4, 3], 337.0),\n",
       " ([4, 8, 3, 5, 0, 6, 9, 1, 7, 2], 337.0),\n",
       " ([3, 0, 7, 2, 6, 9, 8, 1, 4, 5], 342.0),\n",
       " ([7, 2, 9, 6, 1, 4, 8, 3, 5, 0], 345.0),\n",
       " ([7, 6, 2, 1, 0, 9, 8, 3, 4, 5], 345.0),\n",
       " ([7, 2, 6, 3, 1, 9, 0, 8, 4, 5], 346.0),\n",
       " ([4, 1, 6, 7, 2, 9, 8, 3, 0, 5], 346.0),\n",
       " ([7, 4, 3, 1, 2, 0, 5, 6, 9, 8], 347.0),\n",
       " ([6, 2, 7, 8, 3, 4, 1, 5, 0, 9], 347.0),\n",
       " ([2, 7, 8, 4, 1, 9, 6, 3, 5, 0], 347.0),\n",
       " ([1, 5, 3, 0, 7, 2, 6, 9, 8, 4], 349.0),\n",
       " ([7, 2, 6, 1, 9, 8, 0, 3, 4, 5], 349.0),\n",
       " ([9, 1, 4, 7, 8, 3, 6, 2, 0, 5], 351.0),\n",
       " ([4, 5, 0, 1, 9, 6, 3, 8, 7, 2], 353.0),\n",
       " ([7, 2, 6, 3, 8, 9, 5, 0, 1, 4], 353.0),\n",
       " ([3, 4, 1, 9, 8, 0, 5, 7, 2, 6], 354.0),\n",
       " ([1, 4, 6, 9, 8, 0, 5, 3, 7, 2], 356.0),\n",
       " ([6, 9, 8, 2, 7, 0, 3, 1, 4, 5], 358.0),\n",
       " ([7, 2, 5, 3, 4, 1, 6, 9, 8, 0], 358.0),\n",
       " ([2, 6, 9, 8, 4, 7, 1, 0, 3, 5], 359.0),\n",
       " ([1, 3, 8, 9, 6, 2, 0, 4, 7, 5], 360.0),\n",
       " ([7, 2, 8, 9, 6, 0, 5, 4, 3, 1], 363.0),\n",
       " ([8, 0, 5, 3, 4, 1, 9, 7, 2, 6], 363.0),\n",
       " ([7, 2, 6, 9, 4, 0, 3, 8, 1, 5], 363.0),\n",
       " ([4, 6, 3, 5, 0, 2, 7, 1, 9, 8], 364.0),\n",
       " ([8, 3, 4, 7, 0, 5, 1, 2, 6, 9], 364.0),\n",
       " ([8, 4, 5, 0, 9, 6, 7, 2, 1, 3], 367.0),\n",
       " ([5, 8, 3, 4, 7, 2, 1, 9, 6, 0], 369.0),\n",
       " ([6, 2, 7, 3, 5, 1, 4, 9, 8, 0], 374.0),\n",
       " ([3, 4, 8, 9, 6, 0, 5, 7, 2, 1], 374.0),\n",
       " ([3, 8, 4, 7, 2, 0, 9, 6, 5, 1], 376.0),\n",
       " ([9, 0, 7, 2, 6, 3, 5, 1, 4, 8], 380.0),\n",
       " ([0, 5, 7, 2, 6, 9, 3, 8, 4, 1], 381.0),\n",
       " ([7, 1, 2, 4, 3, 6, 9, 8, 0, 5], 382.0),\n",
       " ([6, 7, 4, 1, 3, 2, 9, 8, 0, 5], 382.0),\n",
       " ([9, 6, 2, 3, 5, 0, 7, 4, 1, 8], 399.0),\n",
       " ([2, 7, 0, 8, 3, 1, 4, 9, 6, 5], 402.0)]"
      ]
     },
     "execution_count": 309,
     "metadata": {},
     "output_type": "execute_result"
    }
   ],
   "source": [
    "m_traveler_GA(50, \"example_input.txt\")"
   ]
  },
  {
   "cell_type": "code",
   "execution_count": 319,
   "metadata": {
    "scrolled": false
   },
   "outputs": [
    {
     "name": "stdout",
     "output_type": "stream",
     "text": [
      "Best solution: ([4, 7, 2, 6, 9, 8, 1, 3, 5, 0], 291.0)\n",
      "Worst solution: ([8, 4, 3, 0, 5, 1, 6, 9, 7, 2], 399.0)\n",
      "Median solution: ([7, 2, 1, 6, 9, 8, 0, 3, 4, 5], 347.0)\n",
      "Mean solution: 348.33\n",
      "Standard deviation: 22.65305939602861\n"
     ]
    }
   ],
   "source": [
    "m = 100\n",
    "m_solutions = m_traveler_GA(m, \"example_input.txt\")\n",
    "m_GA_statistical_analysis(m , m_solutions)"
   ]
  },
  {
   "cell_type": "code",
   "execution_count": 321,
   "metadata": {
    "scrolled": true
   },
   "outputs": [
    {
     "name": "stdout",
     "output_type": "stream",
     "text": [
      "Best solution: ([7, 2, 6, 9, 0, 5, 1, 4, 3, 8], 272.0)\n",
      "Worst solution: ([0, 7, 2, 8, 9, 6, 5, 4, 3, 1], 415.0)\n",
      "Median solution: ([7, 2, 6, 4, 1, 3, 8, 5, 0, 9], 351.0)\n",
      "Mean solution: 348.792\n",
      "Standard deviation: 25.939790592832473\n"
     ]
    }
   ],
   "source": [
    "m = 500\n",
    "m_solutions = m_traveler_GA(m, \"example_input.txt\")\n",
    "m_GA_statistical_analysis(m , m_solutions)"
   ]
  },
  {
   "cell_type": "markdown",
   "metadata": {},
   "source": [
    "Comparando contra soluciones normales sí hay mejores soluciones:"
   ]
  },
  {
   "cell_type": "code",
   "execution_count": 320,
   "metadata": {},
   "outputs": [
    {
     "data": {
      "text/plain": [
       "[([2, 1, 0, 5, 7, 6, 8, 4, 3, 9], 576.0),\n",
       " ([5, 2, 4, 8, 6, 7, 3, 1, 0, 9], 630.0),\n",
       " ([5, 8, 2, 4, 6, 0, 9, 1, 7, 3], 635.0),\n",
       " ([6, 2, 9, 4, 3, 0, 7, 1, 5, 8], 519.0),\n",
       " ([5, 2, 7, 8, 9, 1, 0, 4, 3, 6], 469.0)]"
      ]
     },
     "execution_count": 320,
     "metadata": {},
     "output_type": "execute_result"
    }
   ],
   "source": [
    "[rand_sol_f(10,e_input[4]) for i in range(5)]"
   ]
  }
 ],
 "metadata": {
  "kernelspec": {
   "display_name": "Python 3",
   "language": "python",
   "name": "python3"
  },
  "language_info": {
   "codemirror_mode": {
    "name": "ipython",
    "version": 3
   },
   "file_extension": ".py",
   "mimetype": "text/x-python",
   "name": "python",
   "nbconvert_exporter": "python",
   "pygments_lexer": "ipython3",
   "version": "3.7.9"
  }
 },
 "nbformat": 4,
 "nbformat_minor": 4
}
