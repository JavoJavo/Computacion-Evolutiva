{
 "cells": [
  {
   "cell_type": "markdown",
   "metadata": {},
   "source": [
    "# Exercises - Genetic Algorithms"
   ]
  },
  {
   "cell_type": "code",
   "execution_count": 104,
   "metadata": {},
   "outputs": [],
   "source": [
    "from math import log2, ceil, e, cos, pi"
   ]
  },
  {
   "cell_type": "code",
   "execution_count": 2,
   "metadata": {},
   "outputs": [],
   "source": [
    "from random import randint,random,sample,uniform"
   ]
  },
  {
   "cell_type": "code",
   "execution_count": 3,
   "metadata": {},
   "outputs": [],
   "source": [
    "from statistics import mean"
   ]
  },
  {
   "cell_type": "code",
   "execution_count": 4,
   "metadata": {},
   "outputs": [],
   "source": [
    "import numpy as np"
   ]
  },
  {
   "cell_type": "code",
   "execution_count": 6,
   "metadata": {},
   "outputs": [
    {
     "data": {
      "text/plain": [
       "[52, 5, 3, 2]"
      ]
     },
     "execution_count": 6,
     "metadata": {},
     "output_type": "execute_result"
    }
   ],
   "source": [
    "sample([2,3,52,5],4)"
   ]
  },
  {
   "cell_type": "code",
   "execution_count": 7,
   "metadata": {},
   "outputs": [],
   "source": [
    "def f(x1,x2):\n",
    "    if not(-4.5 <= x1 <= 4.5 and -4.5 <= x2 <= 4.5):\n",
    "        return 'bad input: out of domain'\n",
    "    return (1.5-x1+x1*x2)**2 + (2.25-x1+x1*(x2**2))**2 + (2.625-x1+x1*(x2**3))**2"
   ]
  },
  {
   "cell_type": "markdown",
   "metadata": {},
   "source": [
    "El mínimo global está en x = (3, 0.5) y f(x) = 0. \\*global minimum"
   ]
  },
  {
   "cell_type": "code",
   "execution_count": 8,
   "metadata": {
    "scrolled": true
   },
   "outputs": [
    {
     "data": {
      "text/plain": [
       "(0.0, 181853.61328125)"
      ]
     },
     "execution_count": 8,
     "metadata": {},
     "output_type": "execute_result"
    }
   ],
   "source": [
    "f(3,0.5), f(-4.5,-4.5)"
   ]
  },
  {
   "cell_type": "markdown",
   "metadata": {},
   "source": [
    "## 1.\n",
    "Implementar en el lenguaje de su preferencia, el AG que se diseñó en el ejemplo anterior para resolver la función de Beale."
   ]
  },
  {
   "cell_type": "code",
   "execution_count": 9,
   "metadata": {},
   "outputs": [
    {
     "data": {
      "text/plain": [
       "121779545"
      ]
     },
     "execution_count": 9,
     "metadata": {},
     "output_type": "execute_result"
    }
   ],
   "source": [
    "int('0111010000100011010101011001', 2)"
   ]
  },
  {
   "cell_type": "code",
   "execution_count": 10,
   "metadata": {},
   "outputs": [],
   "source": [
    "def bits_req(x_bounds):\n",
    "    return [ceil(log2((x[1]-(x[0]))*(10**3))) for x in x_bounds]"
   ]
  },
  {
   "cell_type": "code",
   "execution_count": 11,
   "metadata": {
    "scrolled": true
   },
   "outputs": [
    {
     "data": {
      "text/plain": [
       "[14, 14]"
      ]
     },
     "execution_count": 11,
     "metadata": {},
     "output_type": "execute_result"
    }
   ],
   "source": [
    "bits_req([(-4.5,4.5),(-4.5,4.5)])"
   ]
  },
  {
   "cell_type": "code",
   "execution_count": 12,
   "metadata": {},
   "outputs": [],
   "source": [
    "def real_from_bits(bit_string, n_variable_bits, n_variable_bounds):\n",
    "    reals = []\n",
    "    index = 0\n",
    "    for n_bits, bound in zip(n_variable_bits,n_variable_bounds):\n",
    "        bits = bit_string[index:index+n_bits]\n",
    "        index = n_bits\n",
    "        d = int(bits, 2)\n",
    "        r = bound[0] + ((bound[1]-bound[0])*d) / ((2**n_bits)-1)\n",
    "        reals.append(r)\n",
    "    return reals"
   ]
  },
  {
   "cell_type": "code",
   "execution_count": 13,
   "metadata": {},
   "outputs": [
    {
     "data": {
      "text/plain": [
       "[14, 14]"
      ]
     },
     "execution_count": 13,
     "metadata": {},
     "output_type": "execute_result"
    }
   ],
   "source": [
    "var_bounds = [(-4.5,4.5),(-4.5,4.5)]\n",
    "n_variable_bits = bits_req(var_bounds)\n",
    "n_variable_bits"
   ]
  },
  {
   "cell_type": "code",
   "execution_count": 14,
   "metadata": {},
   "outputs": [
    {
     "data": {
      "text/plain": [
       "[3.0942135140084233, 0.49249221754257455]"
      ]
     },
     "execution_count": 14,
     "metadata": {},
     "output_type": "execute_result"
    }
   ],
   "source": [
    "real_from_bits('11011000000000'+'10001110000000', n_variable_bits, var_bounds)"
   ]
  },
  {
   "cell_type": "code",
   "execution_count": 15,
   "metadata": {},
   "outputs": [
    {
     "data": {
      "text/plain": [
       "[-0.41723127632301793, 3.0024720747115916]"
      ]
     },
     "execution_count": 15,
     "metadata": {},
     "output_type": "execute_result"
    }
   ],
   "source": [
    "real_from_bits('01110100001000'+'11010101011001', n_variable_bits, var_bounds)"
   ]
  },
  {
   "cell_type": "code",
   "execution_count": 17,
   "metadata": {},
   "outputs": [
    {
     "data": {
      "text/plain": [
       "('1111111111111111111111011001', [14, 14], [(-4.5, 4.5), (-4.5, 4.5)])"
      ]
     },
     "execution_count": 17,
     "metadata": {},
     "output_type": "execute_result"
    }
   ],
   "source": [
    "example_individual = ('1111111111111111111111011001', n_variable_bits, var_bounds)\n",
    "example_individual"
   ]
  },
  {
   "cell_type": "code",
   "execution_count": 18,
   "metadata": {},
   "outputs": [],
   "source": [
    "def Beale_fitness(bit_string, n_variable_bits_req, n_variable_bounds): # a low value is a bad fitness\n",
    "    return 1/(f(*real_from_bits(bit_string, n_variable_bits_req, n_variable_bounds))+1)"
   ]
  },
  {
   "cell_type": "code",
   "execution_count": 19,
   "metadata": {
    "scrolled": false
   },
   "outputs": [
    {
     "data": {
      "text/plain": [
       "5.880385373883209e-06"
      ]
     },
     "execution_count": 19,
     "metadata": {},
     "output_type": "execute_result"
    }
   ],
   "source": [
    "Beale_fitness(*example_individual)"
   ]
  },
  {
   "cell_type": "code",
   "execution_count": 20,
   "metadata": {},
   "outputs": [
    {
     "data": {
      "text/plain": [
       "0.9768962222434674"
      ]
     },
     "execution_count": 20,
     "metadata": {},
     "output_type": "execute_result"
    }
   ],
   "source": [
    "Beale_fitness('11011000000000'+'10001110000000', n_variable_bits, var_bounds)"
   ]
  },
  {
   "cell_type": "code",
   "execution_count": 21,
   "metadata": {},
   "outputs": [],
   "source": [
    "def random_bin_string(bits):\n",
    "    string = ''\n",
    "    for i in range(bits):\n",
    "        string += str(randint(0,1))\n",
    "    return string"
   ]
  },
  {
   "cell_type": "code",
   "execution_count": 18,
   "metadata": {},
   "outputs": [
    {
     "data": {
      "text/plain": [
       "'1100'"
      ]
     },
     "execution_count": 18,
     "metadata": {},
     "output_type": "execute_result"
    }
   ],
   "source": [
    "random_bin_string(4)"
   ]
  },
  {
   "cell_type": "code",
   "execution_count": 65,
   "metadata": {},
   "outputs": [],
   "source": [
    "def random_solution(n_variable_bits_req, n_variable_bounds=False, fitness_func=Beale_fitness):\n",
    "    individual = ''\n",
    "    for bits in n_variable_bits_req:\n",
    "        x_bits = random_bin_string(bits)\n",
    "        individual += (x_bits)\n",
    "    if n_variable_bounds:\n",
    "        return individual, fitness_func(individual, n_variable_bits_req, n_variable_bounds)\n",
    "    return individual"
   ]
  },
  {
   "cell_type": "code",
   "execution_count": 66,
   "metadata": {},
   "outputs": [
    {
     "data": {
      "text/plain": [
       "([10, 10, 16], '000000111000100100111000100111111111', 36, 36)"
      ]
     },
     "execution_count": 66,
     "metadata": {},
     "output_type": "execute_result"
    }
   ],
   "source": [
    "b_required = bits_req([(2,3),(5,6),(-50,11)])\n",
    "rand_sol = random_solution(b_required)\n",
    "\n",
    "b_required, rand_sol, sum(b_required), len(rand_sol)"
   ]
  },
  {
   "cell_type": "code",
   "execution_count": 67,
   "metadata": {
    "scrolled": false
   },
   "outputs": [
    {
     "data": {
      "text/plain": [
       "'1010101011101001111000110000'"
      ]
     },
     "execution_count": 67,
     "metadata": {},
     "output_type": "execute_result"
    }
   ],
   "source": [
    "random_solution(bits_req([(-4.5,4.5),(-4.5,4.5)]))#,n_variable_bounds=[(-4.5,4.5),(-4.5,4.5)])"
   ]
  },
  {
   "cell_type": "code",
   "execution_count": 60,
   "metadata": {
    "scrolled": true
   },
   "outputs": [
    {
     "data": {
      "text/plain": [
       "('0101110001101101000000100000', 0.002812569703105383)"
      ]
     },
     "execution_count": 60,
     "metadata": {},
     "output_type": "execute_result"
    }
   ],
   "source": [
    "random_solution(bits_req([(-4.5,4.5),(-4.5,4.5)]),n_variable_bounds=[(-4.5,4.5),(-4.5,4.5)])"
   ]
  },
  {
   "cell_type": "code",
   "execution_count": 23,
   "metadata": {},
   "outputs": [],
   "source": [
    "def universal_stochastic_selection(population, n_variable_bits_req, n_variable_bounds):\n",
    "    fitnesses = [x[1] for x in population]\n",
    "    strings = [x[0] for x in population]\n",
    "    fitness_mean = mean(fitnesses)\n",
    "    Ei_s = [fit/fitness_mean for fit in fitnesses]\n",
    "    r = random()\n",
    "    parents = []\n",
    "    sum_ = 0\n",
    "    for individual,Ei,fit in zip(strings,Ei_s,fitnesses):\n",
    "        sum_ += Ei\n",
    "        while sum_ > r:\n",
    "            parents.append((individual,fit))\n",
    "            r += 1\n",
    "    return parents"
   ]
  },
  {
   "cell_type": "code",
   "execution_count": 24,
   "metadata": {
    "scrolled": true
   },
   "outputs": [
    {
     "data": {
      "text/plain": [
       "[('100010110011110110011000011100110000', 0.15029431701487947),\n",
       " ('100010110011110110011000011100110000', 0.15029431701487947),\n",
       " ('100010110011110110011000011100110000', 0.15029431701487947),\n",
       " ('100010110011110110011000011100110000', 0.15029431701487947),\n",
       " ('110000100011001001100110010010011010', 0.011398346494599433)]"
      ]
     },
     "execution_count": 24,
     "metadata": {},
     "output_type": "execute_result"
    }
   ],
   "source": [
    "universal_stochastic_selection([('100010110011110110011000011100110000', 0.15029431701487947),\n",
    "                                ('110000100011001001100110010010011010', 0.011398346494599433),\n",
    "                                ('101110111100100000001000011010001010', 2.9777439040564625e-05),\n",
    "                                ('110101000010111111010100100101110110', 0.008058140115587174),\n",
    "                                ('001101101111011010101101010101110010', 0.00025309048960844106)],  \n",
    "                               bits_req([(-4.5, 4.5),(-4.5, 4.5)]),\n",
    "                               [(-4.5, 4.5),(-4.5, 4.5)])"
   ]
  },
  {
   "cell_type": "code",
   "execution_count": 24,
   "metadata": {},
   "outputs": [],
   "source": [
    "def k_point_crossover(k_points, p1, p2):\n",
    "    o1, o2 = '', ''\n",
    "    index_closer = 0\n",
    "    for i,point in enumerate(k_points+[len(p1)]):\n",
    "        if i%2 == 0:\n",
    "            o1 += p1[index_closer:point]\n",
    "            o2 += p2[index_closer:point]\n",
    "        else:\n",
    "            o1 += p2[index_closer:point]\n",
    "            o2 += p1[index_closer:point]\n",
    "        index_closer = point\n",
    "    return o1,o2"
   ]
  },
  {
   "cell_type": "code",
   "execution_count": 26,
   "metadata": {},
   "outputs": [
    {
     "data": {
      "text/plain": [
       "('10010100001011adi0011000011100110000',\n",
       " '1100101100hola011os10100100101110110')"
      ]
     },
     "execution_count": 26,
     "metadata": {},
     "output_type": "execute_result"
    }
   ],
   "source": [
    "k_point_crossover([2,17],'1000101100hola0110011000011100110000',\n",
    " '11010100001011adios10100100101110110')"
   ]
  },
  {
   "cell_type": "code",
   "execution_count": 25,
   "metadata": {},
   "outputs": [],
   "source": [
    "def grouped(iterable, n):\n",
    "    \"s -> (s0,s1,s2,...sn-1), (sn,sn+1,sn+2,...s2n-1), (s2n,s2n+1,s2n+2,...s3n-1), ...\"\n",
    "    return zip(*[iter(iterable)]*n)"
   ]
  },
  {
   "cell_type": "code",
   "execution_count": 26,
   "metadata": {},
   "outputs": [
    {
     "name": "stdout",
     "output_type": "stream",
     "text": [
      "3 2\n",
      "7 4\n",
      "10 9\n",
      "0 14\n"
     ]
    }
   ],
   "source": [
    "for i,j in grouped([3,2,7,4,10,9,0,14],2):\n",
    "    print(i,j)"
   ]
  },
  {
   "cell_type": "code",
   "execution_count": 27,
   "metadata": {},
   "outputs": [],
   "source": [
    "def mutate(individual, pm):\n",
    "    mutated = ''\n",
    "    for i in individual:\n",
    "        if random() < pm:\n",
    "            if i == '0':\n",
    "                mutated += '1'\n",
    "            else:\n",
    "                mutated += '0'\n",
    "        else:\n",
    "            mutated += i\n",
    "    return mutated        "
   ]
  },
  {
   "cell_type": "code",
   "execution_count": 28,
   "metadata": {},
   "outputs": [
    {
     "data": {
      "text/plain": [
       "'0111111011'"
      ]
     },
     "execution_count": 28,
     "metadata": {},
     "output_type": "execute_result"
    }
   ],
   "source": [
    "mutate('1111111111',.1)"
   ]
  },
  {
   "cell_type": "code",
   "execution_count": 63,
   "metadata": {},
   "outputs": [],
   "source": [
    "def mutate_pop(population, pm, n_variable_bits_req, n_variable_bounds, fitness_func=Beale_fitness):\n",
    "    mutated_pop = []\n",
    "    length = len(population[0])\n",
    "    for i in range(len(population)):\n",
    "        mutated_ind = mutate(population[i][0],pm)\n",
    "        mutated_pop.append((mutated_ind, fitness_func(mutated_ind, n_variable_bits_req, n_variable_bounds)))     \n",
    "    return mutated_pop"
   ]
  },
  {
   "cell_type": "code",
   "execution_count": 64,
   "metadata": {},
   "outputs": [
    {
     "data": {
      "text/plain": [
       "[('11111110111111111', 5.731734830878345e-06),\n",
       " ('00001001000100000', 6.363818681642189e-06)]"
      ]
     },
     "execution_count": 64,
     "metadata": {},
     "output_type": "execute_result"
    }
   ],
   "source": [
    "mutate_pop([('11111111111111111',.4),('00000000000000000',.1)],.1,\n",
    "          bits_req([(-4.5, 4.5),(-4.5, 4.5)]),\n",
    "                               [(-4.5, 4.5),(-4.5, 4.5)])"
   ]
  },
  {
   "cell_type": "code",
   "execution_count": 130,
   "metadata": {},
   "outputs": [],
   "source": [
    "def GA(μ, gens, pc, pm, n_variable_bounds, fitness_func=Beale_fitness):\n",
    "    n_variable_bits_req = bits_req(n_variable_bounds)\n",
    "    total_bits = sum(n_variable_bits_req)\n",
    "    population = [random_solution(n_variable_bits_req,n_variable_bounds,fitness_func=fitness_func) for i in range(μ)]\n",
    "    for gen in range(gens):\n",
    "        parents = universal_stochastic_selection(population, n_variable_bits_req, n_variable_bounds)\n",
    "        offspring = []\n",
    "        for p1,p2 in grouped(parents,2):\n",
    "            offs = []\n",
    "            if random() < pc:\n",
    "                cross_points = sorted(sample(list(range(total_bits)),2))\n",
    "                o1,o2 = k_point_crossover(cross_points,p1[0],p2[0])\n",
    "                o1 = (o1, fitness_func(o1, n_variable_bits_req, n_variable_bounds))\n",
    "                o2 = (o2, fitness_func(o2, n_variable_bits_req, n_variable_bounds))\n",
    "                offs = [o1,o2]\n",
    "            else:\n",
    "                offs = [p1,p2]\n",
    "            offspring += offs\n",
    "        \n",
    "        offspring = mutate_pop(offspring,pm,n_variable_bits_req,n_variable_bounds,fitness_func=fitness_func)\n",
    "        offspring.sort(key=lambda x:x[1], reverse=True)\n",
    "        parents.sort(key=lambda x:x[1], reverse=True)\n",
    "        \n",
    "        if parents[0][1] > offspring[0][1]:\n",
    "            offspring[-1] = parents[0]\n",
    "            offspring.sort(key=lambda x:x[1], reverse=True)\n",
    "        population = offspring\n",
    "    population.sort(key=lambda x:x[1], reverse=True)\n",
    "    return population[0]"
   ]
  },
  {
   "cell_type": "code",
   "execution_count": 131,
   "metadata": {
    "scrolled": false
   },
   "outputs": [
    {
     "data": {
      "text/plain": [
       "('1110000110011010001111010101', 0.898814041807837)"
      ]
     },
     "execution_count": 131,
     "metadata": {},
     "output_type": "execute_result"
    }
   ],
   "source": [
    "GA(100, 1, 0.9, 0.001,[(-4.5,4.5),(-4.5,4.5)])"
   ]
  },
  {
   "cell_type": "code",
   "execution_count": 109,
   "metadata": {
    "scrolled": true
   },
   "outputs": [
    {
     "data": {
      "text/plain": [
       "('1101010101010110001110001110', 0.9999996826798102)"
      ]
     },
     "execution_count": 109,
     "metadata": {},
     "output_type": "execute_result"
    }
   ],
   "source": [
    "GA(100, 2000, 0.9, 0.001,[(-4.5,4.5),(-4.5,4.5)])"
   ]
  },
  {
   "cell_type": "code",
   "execution_count": 110,
   "metadata": {},
   "outputs": [
    {
     "data": {
      "text/plain": [
       "[3.0002746749679545, 0.500183116645303]"
      ]
     },
     "execution_count": 110,
     "metadata": {},
     "output_type": "execute_result"
    }
   ],
   "source": [
    "real_from_bits('1101010101010110001110001110', n_variable_bits, [(-4.5,4.5),(-4.5,4.5)])"
   ]
  },
  {
   "cell_type": "code",
   "execution_count": null,
   "metadata": {},
   "outputs": [],
   "source": []
  },
  {
   "cell_type": "markdown",
   "metadata": {},
   "source": [
    "## 2.\n",
    "Utilizar el AG del punto anterior pero ahora con representación real, cruza intermedia completa y mutación uniforme."
   ]
  },
  {
   "cell_type": "code",
   "execution_count": 137,
   "metadata": {},
   "outputs": [],
   "source": [
    "def r_Beale_fitness(x): # a low value is a bad fitness\n",
    "    return 1/(f(*x)+1)"
   ]
  },
  {
   "cell_type": "code",
   "execution_count": 138,
   "metadata": {},
   "outputs": [],
   "source": [
    "def r_random_solution(n_variable_bounds, fitness_func=r_Beale_fitness):\n",
    "    individual = []\n",
    "    for (ul,ll) in n_variable_bounds:\n",
    "        x_i = uniform(ul,ll)\n",
    "        individual.append(x_i)\n",
    "    return individual, fitness_func(individual)"
   ]
  },
  {
   "cell_type": "code",
   "execution_count": 139,
   "metadata": {
    "scrolled": true
   },
   "outputs": [
    {
     "data": {
      "text/plain": [
       "([-1.8878485485573546, 1.7234467971926666], 0.033655411425869634)"
      ]
     },
     "execution_count": 139,
     "metadata": {},
     "output_type": "execute_result"
    }
   ],
   "source": [
    "r_random_solution([(-4.5,4.5),(-4.5,4.5)])"
   ]
  },
  {
   "cell_type": "code",
   "execution_count": 33,
   "metadata": {},
   "outputs": [],
   "source": [
    "def r_universal_stochastic_selection(population):\n",
    "    fitnesses = [x[1] for x in population]\n",
    "    fitness_mean = mean(fitnesses)\n",
    "    Ei_s = [fit/fitness_mean for fit in fitnesses]\n",
    "    r = random()\n",
    "    parents = []\n",
    "    sum_ = 0\n",
    "    for i in range(len(population)):\n",
    "        sum_ += Ei_s[i]\n",
    "        while sum_ > r:\n",
    "            parents.append(population[i])\n",
    "            r += 1\n",
    "    return parents"
   ]
  },
  {
   "cell_type": "code",
   "execution_count": 146,
   "metadata": {
    "scrolled": true
   },
   "outputs": [
    {
     "data": {
      "text/plain": [
       "[([2.772370722423309, 0.37991002354702186], 0.940755880929126),\n",
       " ([2.772370722423309, 0.37991002354702186], 0.940755880929126),\n",
       " ([2.772370722423309, 0.37991002354702186], 0.940755880929126),\n",
       " ([0.6543858622047978, -1.8346766400686958], 0.05040192294120086)]"
      ]
     },
     "execution_count": 146,
     "metadata": {},
     "output_type": "execute_result"
    }
   ],
   "source": [
    "r_universal_stochastic_selection([([2.980120021219805, 2.839468013308001], 0.00019234997626107396),\n",
    "                                  ([2.772370722423309, 0.37991002354702186], 0.940755880929126),\n",
    "                                  ([0.6543858622047978, -1.8346766400686958], 0.05040192294120086),\n",
    "                                  ([3.931393369861617, -3.9888203944768246], 1.4938580133960688e-05)])"
   ]
  },
  {
   "cell_type": "code",
   "execution_count": 82,
   "metadata": {},
   "outputs": [],
   "source": [
    "def complete_intermediate_cross(p1,p2):\n",
    "    p1,p2 = np.array(p1), np.array(p2)\n",
    "    alpha = random()\n",
    "    o1 = alpha*p1 + (1-alpha)*p2\n",
    "    o2 = alpha*p2 + (1-alpha)*p1\n",
    "    return (list(o1),0),(list(o2),0)#r_Beale_fitness(*list(o1))),(list(o2),r_Beale_fitness(*list(o2)))\n",
    "    # fitnesses are going to be calculated later"
   ]
  },
  {
   "cell_type": "code",
   "execution_count": 83,
   "metadata": {
    "scrolled": true
   },
   "outputs": [
    {
     "data": {
      "text/plain": [
       "(([2.84576611673199, 1.248843057397621], 0),\n",
       " ([2.906724626911124, 1.9705349794574019], 0))"
      ]
     },
     "execution_count": 83,
     "metadata": {},
     "output_type": "execute_result"
    }
   ],
   "source": [
    "complete_intermediate_cross([2.980120021219805, 2.839468013308001],[2.772370722423309, 0.37991002354702186])"
   ]
  },
  {
   "cell_type": "code",
   "execution_count": 142,
   "metadata": {},
   "outputs": [],
   "source": [
    "def r_mutate(individual, pm, n_variable_bounds, fitness_func=r_Beale_fitness):\n",
    "    mutated = []\n",
    "    for var,bounds in zip(individual[0],n_variable_bounds):\n",
    "        l_inf,l_sup = bounds\n",
    "        if random() < pm:\n",
    "            x_i = uniform(l_inf,l_sup)\n",
    "            mutated.append(x_i)\n",
    "        else:\n",
    "            mutated.append(var)\n",
    "    return mutated, fitness_func(mutated)        "
   ]
  },
  {
   "cell_type": "code",
   "execution_count": 87,
   "metadata": {},
   "outputs": [
    {
     "data": {
      "text/plain": [
       "([2.843927530895764, 1.2270759154166462], 0.022439376995842773)"
      ]
     },
     "execution_count": 87,
     "metadata": {},
     "output_type": "execute_result"
    }
   ],
   "source": [
    "r_mutate(([2.843927530895764, 1.2270759154166462], 0.022439376995842773),.1,[(-4.5,4.5),(-4.5,4.5)])"
   ]
  },
  {
   "cell_type": "code",
   "execution_count": 91,
   "metadata": {},
   "outputs": [],
   "source": [
    "def r_mutate_pop(population, pm, n_variable_bounds, fitness_func=r_Beale_fitness):\n",
    "    mutated_pop = []\n",
    "    length = len(population[0])\n",
    "    for i in range(len(population)):\n",
    "        mutated_ind = r_mutate(population[i], pm, n_variable_bounds, fitness_func=fitness_func)\n",
    "        mutated_pop.append(mutated_ind)     \n",
    "    return mutated_pop"
   ]
  },
  {
   "cell_type": "code",
   "execution_count": 92,
   "metadata": {
    "scrolled": true
   },
   "outputs": [
    {
     "data": {
      "text/plain": [
       "[([2.772370722423309, 0.7412868013861029], 0.2794062953880693),\n",
       " ([-3.263638793473766, 0.37991002354702186], 0.013996773349670248),\n",
       " ([2.772370722423309, 0.11504839209831275], 0.4618147971877947),\n",
       " ([0.6543858622047978, -1.8346766400686958], 0.05040192294120086)]"
      ]
     },
     "execution_count": 92,
     "metadata": {},
     "output_type": "execute_result"
    }
   ],
   "source": [
    "r_mutate_pop([([2.772370722423309, 0.37991002354702186], 0.940755880929126),\n",
    " ([2.772370722423309, 0.37991002354702186], 0.940755880929126),\n",
    " ([2.772370722423309, 0.37991002354702186], 0.940755880929126),\n",
    " ([0.6543858622047978, -1.8346766400686958], 0.05040192294120086)],\n",
    "            0.3,\n",
    "             [(-4.5,4.5),(-4.5,4.5)])"
   ]
  },
  {
   "cell_type": "code",
   "execution_count": 143,
   "metadata": {},
   "outputs": [],
   "source": [
    "def real_GA(μ, gens, pc, pm, n_variable_bounds, fitness_func=r_Beale_fitness):\n",
    "    population = [r_random_solution(n_variable_bounds, fitness_func=fitness_func) for i in range(μ)]\n",
    "    for gen in range(gens):\n",
    "        parents = r_universal_stochastic_selection(population)\n",
    "        offspring = []\n",
    "        for p1,p2 in grouped(parents,2):\n",
    "            offs = []\n",
    "            if random() < pc:\n",
    "                o1,o2 = complete_intermediate_cross(p1[0],p2[0])\n",
    "                offs = [o1,o2]\n",
    "            else:\n",
    "                offs = [p1,p2]\n",
    "            offspring += offs\n",
    "        \n",
    "        offspring = r_mutate_pop(offspring,pm,n_variable_bounds,fitness_func=fitness_func)\n",
    "        offspring.sort(key=lambda x:x[1], reverse=True)\n",
    "        parents.sort(key=lambda x:x[1], reverse=True)\n",
    "        \n",
    "        if parents[0][1] > offspring[0][1]:\n",
    "            offspring[-1] = parents[0]\n",
    "            offspring.sort(key=lambda x:x[1], reverse=True)\n",
    "        population = offspring\n",
    "    population.sort(key=lambda x:x[1], reverse=True)\n",
    "    return population[0]"
   ]
  },
  {
   "cell_type": "code",
   "execution_count": 144,
   "metadata": {
    "scrolled": false
   },
   "outputs": [
    {
     "data": {
      "text/plain": [
       "([1.5229481891615118, 0.07382242788254507], 0.3617136979855048)"
      ]
     },
     "execution_count": 144,
     "metadata": {},
     "output_type": "execute_result"
    }
   ],
   "source": [
    "real_GA(100, 1, 0.9, 0.001,[(-4.5,4.5),(-4.5,4.5)])"
   ]
  },
  {
   "cell_type": "code",
   "execution_count": 266,
   "metadata": {
    "scrolled": true
   },
   "outputs": [
    {
     "data": {
      "text/plain": [
       "([2.9992362901614458, 0.49961453461013206], 0.9999990215327584)"
      ]
     },
     "execution_count": 266,
     "metadata": {},
     "output_type": "execute_result"
    }
   ],
   "source": [
    "real_GA(100, 2000, 0.9, 0.001,[(-4.5,4.5),(-4.5,4.5)])"
   ]
  },
  {
   "cell_type": "code",
   "execution_count": null,
   "metadata": {},
   "outputs": [],
   "source": []
  },
  {
   "cell_type": "markdown",
   "metadata": {},
   "source": [
    "## 3.\n",
    "Utiliza las dos versiones del AG que se tienen para resolver la función de Ackley."
   ]
  },
  {
   "cell_type": "code",
   "execution_count": 98,
   "metadata": {},
   "outputs": [],
   "source": [
    "def Ackley(x):\n",
    "    n = len(x)\n",
    "    return -20*e**(-0.2*((1/n)*sum(x_i**2 for x_i in x))) - e**((1/n)*sum(cos(2*pi*x_i) for x_i in x)) + 20 + e     "
   ]
  },
  {
   "cell_type": "code",
   "execution_count": 105,
   "metadata": {
    "scrolled": true
   },
   "outputs": [
    {
     "data": {
      "text/plain": [
       "19.2623366519752"
      ]
     },
     "execution_count": 105,
     "metadata": {},
     "output_type": "execute_result"
    }
   ],
   "source": [
    "Ackley([3,2,-2,-7])"
   ]
  },
  {
   "cell_type": "code",
   "execution_count": 173,
   "metadata": {},
   "outputs": [],
   "source": [
    "def Ackley_fitness(x):\n",
    "    return 1/(Ackley(x)+1)"
   ]
  },
  {
   "cell_type": "code",
   "execution_count": 146,
   "metadata": {},
   "outputs": [],
   "source": [
    "def Ackley_fitness_bin(bit_string, n_variable_bits_req, n_variable_bounds):\n",
    "    return 1/(Ackley(real_from_bits(bit_string, n_variable_bits_req, n_variable_bounds))+1)\n",
    "#-Ackley(real_from_bits(bit_string, n_variable_bits_req, n_variable_bounds))"
   ]
  },
  {
   "cell_type": "code",
   "execution_count": 147,
   "metadata": {},
   "outputs": [
    {
     "data": {
      "text/plain": [
       "[16, 16]"
      ]
     },
     "execution_count": 147,
     "metadata": {},
     "output_type": "execute_result"
    }
   ],
   "source": [
    "var_bounds = [(-30,30),(-30,30)]\n",
    "n_variable_bits = bits_req(var_bounds)\n",
    "n_variable_bits"
   ]
  },
  {
   "cell_type": "code",
   "execution_count": 148,
   "metadata": {},
   "outputs": [
    {
     "data": {
      "text/plain": [
       "'01101011101100000010100011001110'"
      ]
     },
     "execution_count": 148,
     "metadata": {},
     "output_type": "execute_result"
    }
   ],
   "source": [
    "rand_string = random_bin_string(32)\n",
    "rand_string"
   ]
  },
  {
   "cell_type": "code",
   "execution_count": 154,
   "metadata": {},
   "outputs": [
    {
     "data": {
      "text/plain": [
       "0.04335307451919739"
      ]
     },
     "execution_count": 154,
     "metadata": {},
     "output_type": "execute_result"
    }
   ],
   "source": [
    "Ackley_fitness_bin(rand_string, n_variable_bits, var_bounds)"
   ]
  },
  {
   "cell_type": "code",
   "execution_count": 179,
   "metadata": {},
   "outputs": [
    {
     "data": {
      "text/plain": [
       "('01111001010100010111101110110011', 0.11714994137541734)"
      ]
     },
     "execution_count": 179,
     "metadata": {},
     "output_type": "execute_result"
    }
   ],
   "source": [
    "GA(100, 1, 0.9, 0.001,[(-30,30),(-30,30)], fitness_func=Ackley_fitness_bin)"
   ]
  },
  {
   "cell_type": "code",
   "execution_count": 180,
   "metadata": {},
   "outputs": [
    {
     "data": {
      "text/plain": [
       "('1000010010100100011110100111111000100110011100100110111011101010',\n",
       " 0.12484084361687128)"
      ]
     },
     "execution_count": 180,
     "metadata": {},
     "output_type": "execute_result"
    }
   ],
   "source": [
    "GA(100, 1, 0.9, 0.001,[(-30,30),(-30,30),(-30,30),(-30,30)], fitness_func=Ackley_fitness_bin)"
   ]
  },
  {
   "cell_type": "code",
   "execution_count": 182,
   "metadata": {
    "scrolled": false
   },
   "outputs": [
    {
     "data": {
      "text/plain": [
       "([-3.7095153803258087,\n",
       "  4.9815370552848055,\n",
       "  -0.5415347816529756,\n",
       "  -3.569236373485266],\n",
       " 0.04662040046939444)"
      ]
     },
     "execution_count": 182,
     "metadata": {},
     "output_type": "execute_result"
    }
   ],
   "source": [
    "real_GA(100, 1, 0.9, 0.001,[(-30,30),(-30,30),(-30,30),(-30,30)], fitness_func=Ackley_fitness)"
   ]
  },
  {
   "cell_type": "code",
   "execution_count": 191,
   "metadata": {},
   "outputs": [
    {
     "data": {
      "text/plain": [
       "('1000000000000000100000000000000010100010100110110100111110101101',\n",
       " 0.9999879179795412)"
      ]
     },
     "execution_count": 191,
     "metadata": {},
     "output_type": "execute_result"
    }
   ],
   "source": [
    "GA(100, 2000, 0.9, 0.001,[(-30,30),(-30,30),(-30,30),(-30,30)], fitness_func=Ackley_fitness_bin)"
   ]
  },
  {
   "cell_type": "code",
   "execution_count": 192,
   "metadata": {
    "scrolled": true
   },
   "outputs": [
    {
     "data": {
      "text/plain": [
       "([0.00045633520433435585,\n",
       "  0.002370489336074353,\n",
       "  -0.00011056845972334356,\n",
       "  0.0006739139146811777],\n",
       " 0.9999092902841624)"
      ]
     },
     "execution_count": 192,
     "metadata": {},
     "output_type": "execute_result"
    }
   ],
   "source": [
    "real_GA(100, 2000, 0.9, 0.001,[(-30,30),(-30,30),(-30,30),(-30,30)], fitness_func=Ackley_fitness)"
   ]
  },
  {
   "cell_type": "code",
   "execution_count": null,
   "metadata": {},
   "outputs": [],
   "source": []
  },
  {
   "cell_type": "markdown",
   "metadata": {},
   "source": [
    "## 4.\n",
    "Realizar una tabla comparativa que reporte los resultados de ambas versiones en los dos problemas de prueba (función de Beale y función de Ackley). En el caso de la función de Ackley, resolver instancias con 5, 10 y 20 variables. Para construir la tabla comparativa debes realizar M ejecuciones de cada versión resolviendo cada uno de los problemas y reportar lo siguiente:\n",
    "1. Mejor solución encontrada considerando las M ejecuciones.\n",
    "2. Peor solución encontrada considerando las M ejecuciones.\n",
    "3. Solución que corresponde a la mediana considerando las M ejecuciones.\n",
    "4. Media del valor de la función objetivo considerando las M ejecuciones.\n",
    "5. Desviación estándar del valor de la función objetivo considerando las M ejecuciones.\n",
    "\n",
    "En los primeros tres puntos indica tanto el valor de x como el valor de la función objetivo f. Nota: recuerde que puede variar los parámetros pc, pm y tamaño de la población para obtener mejores resultados. Indique los valores que utilizó para cada problema."
   ]
  },
  {
   "cell_type": "code",
   "execution_count": null,
   "metadata": {},
   "outputs": [],
   "source": []
  }
 ],
 "metadata": {
  "kernelspec": {
   "display_name": "Python 3",
   "language": "python",
   "name": "python3"
  },
  "language_info": {
   "codemirror_mode": {
    "name": "ipython",
    "version": 3
   },
   "file_extension": ".py",
   "mimetype": "text/x-python",
   "name": "python",
   "nbconvert_exporter": "python",
   "pygments_lexer": "ipython3",
   "version": "3.7.9"
  }
 },
 "nbformat": 4,
 "nbformat_minor": 4
}
