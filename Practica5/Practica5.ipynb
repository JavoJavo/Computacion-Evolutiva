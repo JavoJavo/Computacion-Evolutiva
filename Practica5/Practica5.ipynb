{
 "cells": [
  {
   "cell_type": "markdown",
   "metadata": {},
   "source": [
    "# Exercises - Genetic Algorithms"
   ]
  },
  {
   "cell_type": "code",
   "execution_count": 1,
   "metadata": {},
   "outputs": [],
   "source": [
    "from math import log2, ceil"
   ]
  },
  {
   "cell_type": "code",
   "execution_count": 44,
   "metadata": {},
   "outputs": [],
   "source": [
    "from random import randint,random,sample"
   ]
  },
  {
   "cell_type": "code",
   "execution_count": 3,
   "metadata": {},
   "outputs": [],
   "source": [
    "from statistics import mean"
   ]
  },
  {
   "cell_type": "code",
   "execution_count": 50,
   "metadata": {},
   "outputs": [
    {
     "data": {
      "text/plain": [
       "[5, 2, 3, 52]"
      ]
     },
     "execution_count": 50,
     "metadata": {},
     "output_type": "execute_result"
    }
   ],
   "source": [
    "sample([2,3,52,5],4)"
   ]
  },
  {
   "cell_type": "code",
   "execution_count": 4,
   "metadata": {},
   "outputs": [],
   "source": [
    "def f(x1,x2):\n",
    "    if not(-4.5 <= x1 <= 4.5 and -4.5 <= x2 <= 4.5):\n",
    "        return 'bad input: out of domain'\n",
    "    return (1.5-x1+x1*x2)**2 + (2.25-x1+x1*(x2**2))**2 + (2.625-x1+x1*(x2**3))**2"
   ]
  },
  {
   "cell_type": "markdown",
   "metadata": {},
   "source": [
    "El mínimo global está en x = (3, 0.5) y f(x) = 0. \\*global minimum"
   ]
  },
  {
   "cell_type": "code",
   "execution_count": 5,
   "metadata": {
    "scrolled": true
   },
   "outputs": [
    {
     "data": {
      "text/plain": [
       "(0.0, 181853.61328125)"
      ]
     },
     "execution_count": 5,
     "metadata": {},
     "output_type": "execute_result"
    }
   ],
   "source": [
    "f(3,0.5), f(-4.5,-4.5)"
   ]
  },
  {
   "cell_type": "markdown",
   "metadata": {},
   "source": [
    "## 1.\n",
    "Implementar en el lenguaje de su preferencia, el AG que se diseñó en el ejemplo anterior para resolver la función de Beale."
   ]
  },
  {
   "cell_type": "code",
   "execution_count": 6,
   "metadata": {},
   "outputs": [
    {
     "data": {
      "text/plain": [
       "121779545"
      ]
     },
     "execution_count": 6,
     "metadata": {},
     "output_type": "execute_result"
    }
   ],
   "source": [
    "int('0111010000100011010101011001', 2)"
   ]
  },
  {
   "cell_type": "code",
   "execution_count": 7,
   "metadata": {},
   "outputs": [],
   "source": [
    "def bits_req(x_bounds):\n",
    "    return [ceil(log2((x[1]-(x[0]))*(10**3))) for x in x_bounds]"
   ]
  },
  {
   "cell_type": "code",
   "execution_count": 8,
   "metadata": {
    "scrolled": true
   },
   "outputs": [
    {
     "data": {
      "text/plain": [
       "[14, 14]"
      ]
     },
     "execution_count": 8,
     "metadata": {},
     "output_type": "execute_result"
    }
   ],
   "source": [
    "bits_req([(-4.5,4.5),(-4.5,4.5)])"
   ]
  },
  {
   "cell_type": "code",
   "execution_count": 9,
   "metadata": {},
   "outputs": [],
   "source": [
    "def real_from_bits(bit_string, n_variable_bits, n_variable_bounds):\n",
    "    reals = []\n",
    "    index = 0\n",
    "    for n_bits, bound in zip(n_variable_bits,n_variable_bounds):\n",
    "        bits = bit_string[index:index+n_bits]\n",
    "        index = n_bits\n",
    "        d = int(bits, 2)\n",
    "        r = bound[0] + ((bound[1]-bound[0])*d) / ((2**n_bits)-1)\n",
    "        reals.append(r)\n",
    "    return reals"
   ]
  },
  {
   "cell_type": "code",
   "execution_count": 10,
   "metadata": {},
   "outputs": [
    {
     "data": {
      "text/plain": [
       "[14, 14]"
      ]
     },
     "execution_count": 10,
     "metadata": {},
     "output_type": "execute_result"
    }
   ],
   "source": [
    "var_bounds = [(-4.5,4.5),(-4.5,4.5)]\n",
    "n_variable_bits = bits_req(var_bounds)\n",
    "n_variable_bits"
   ]
  },
  {
   "cell_type": "code",
   "execution_count": 11,
   "metadata": {},
   "outputs": [
    {
     "data": {
      "text/plain": [
       "[3.0942135140084233, 0.49249221754257455]"
      ]
     },
     "execution_count": 11,
     "metadata": {},
     "output_type": "execute_result"
    }
   ],
   "source": [
    "real_from_bits('11011000000000'+'10001110000000', n_variable_bits, var_bounds)"
   ]
  },
  {
   "cell_type": "code",
   "execution_count": 12,
   "metadata": {},
   "outputs": [
    {
     "data": {
      "text/plain": [
       "[-0.41723127632301793, 3.0024720747115916]"
      ]
     },
     "execution_count": 12,
     "metadata": {},
     "output_type": "execute_result"
    }
   ],
   "source": [
    "real_from_bits('01110100001000'+'11010101011001', n_variable_bits, var_bounds)"
   ]
  },
  {
   "cell_type": "code",
   "execution_count": 13,
   "metadata": {},
   "outputs": [
    {
     "data": {
      "text/plain": [
       "('1111111111111111111111011001', [14, 14], [(-4.5, 4.5), (-4.5, 4.5)])"
      ]
     },
     "execution_count": 13,
     "metadata": {},
     "output_type": "execute_result"
    }
   ],
   "source": [
    "example_individual = ('1111111111111111111111011001', n_variable_bits, var_bounds)\n",
    "example_individual"
   ]
  },
  {
   "cell_type": "code",
   "execution_count": 14,
   "metadata": {},
   "outputs": [],
   "source": [
    "def Beale_fitness(bit_string, n_variable_bits_req, n_variable_bounds): # a low value is a bad fitness\n",
    "    return 1/(f(*real_from_bits(bit_string, n_variable_bits_req, n_variable_bounds))+1)"
   ]
  },
  {
   "cell_type": "code",
   "execution_count": 15,
   "metadata": {
    "scrolled": false
   },
   "outputs": [
    {
     "data": {
      "text/plain": [
       "5.880385373883209e-06"
      ]
     },
     "execution_count": 15,
     "metadata": {},
     "output_type": "execute_result"
    }
   ],
   "source": [
    "Beale_fitness(*example_individual)"
   ]
  },
  {
   "cell_type": "code",
   "execution_count": 16,
   "metadata": {},
   "outputs": [
    {
     "data": {
      "text/plain": [
       "0.9768962222434674"
      ]
     },
     "execution_count": 16,
     "metadata": {},
     "output_type": "execute_result"
    }
   ],
   "source": [
    "Beale_fitness('11011000000000'+'10001110000000', n_variable_bits, var_bounds)"
   ]
  },
  {
   "cell_type": "code",
   "execution_count": 17,
   "metadata": {},
   "outputs": [],
   "source": [
    "def random_bin_string(bits):\n",
    "    string = ''\n",
    "    for i in range(bits):\n",
    "        string += str(randint(0,1))\n",
    "    return string"
   ]
  },
  {
   "cell_type": "code",
   "execution_count": 18,
   "metadata": {},
   "outputs": [
    {
     "data": {
      "text/plain": [
       "'1100'"
      ]
     },
     "execution_count": 18,
     "metadata": {},
     "output_type": "execute_result"
    }
   ],
   "source": [
    "random_bin_string(4)"
   ]
  },
  {
   "cell_type": "code",
   "execution_count": 19,
   "metadata": {},
   "outputs": [],
   "source": [
    "def random_solution(n_variable_bits_req, n_variable_bounds=False):\n",
    "    individual = ''\n",
    "    for bits in n_variable_bits_req:\n",
    "        x_bits = random_bin_string(bits)\n",
    "        individual += (x_bits)\n",
    "    if n_variable_bounds:\n",
    "        return individual, Beale_fitness(individual, n_variable_bits_req, n_variable_bounds)\n",
    "    return individual"
   ]
  },
  {
   "cell_type": "code",
   "execution_count": 20,
   "metadata": {},
   "outputs": [
    {
     "data": {
      "text/plain": [
       "([10, 10, 16], '000101111110011010000010010101100100', 36, 36)"
      ]
     },
     "execution_count": 20,
     "metadata": {},
     "output_type": "execute_result"
    }
   ],
   "source": [
    "b_required = bits_req([(2,3),(5,6),(-50,11)])\n",
    "rand_sol = random_solution(b_required)\n",
    "\n",
    "b_required, rand_sol, sum(b_required), len(rand_sol)"
   ]
  },
  {
   "cell_type": "code",
   "execution_count": 21,
   "metadata": {
    "scrolled": false
   },
   "outputs": [
    {
     "data": {
      "text/plain": [
       "'0101100010010000011010000010'"
      ]
     },
     "execution_count": 21,
     "metadata": {},
     "output_type": "execute_result"
    }
   ],
   "source": [
    "random_solution(bits_req([(-4.5,4.5),(-4.5,4.5)]))#,n_variable_bounds=[(-4.5,4.5),(-4.5,4.5)])"
   ]
  },
  {
   "cell_type": "code",
   "execution_count": 22,
   "metadata": {
    "scrolled": true
   },
   "outputs": [
    {
     "data": {
      "text/plain": [
       "('1111110001011001110011000010', 0.03246352578928539)"
      ]
     },
     "execution_count": 22,
     "metadata": {},
     "output_type": "execute_result"
    }
   ],
   "source": [
    "random_solution(bits_req([(-4.5,4.5),(-4.5,4.5)]),n_variable_bounds=[(-4.5,4.5),(-4.5,4.5)])"
   ]
  },
  {
   "cell_type": "code",
   "execution_count": 23,
   "metadata": {},
   "outputs": [],
   "source": [
    "def universal_stochastic_selection(population, n_variable_bits_req, n_variable_bounds):\n",
    "    fitnesses = [x[1] for x in population]\n",
    "    strings = [x[0] for x in population]\n",
    "    fitness_mean = mean(fitnesses)\n",
    "    Ei_s = [fit/fitness_mean for fit in fitnesses]\n",
    "    r = random()\n",
    "    parents = []\n",
    "    sum_ = 0\n",
    "    for individual,Ei,fit in zip(strings,Ei_s,fitnesses):\n",
    "        sum_ += Ei\n",
    "        while sum_ > r:\n",
    "            parents.append((individual,fit))\n",
    "            r += 1\n",
    "    return parents"
   ]
  },
  {
   "cell_type": "code",
   "execution_count": 24,
   "metadata": {
    "scrolled": true
   },
   "outputs": [
    {
     "data": {
      "text/plain": [
       "[('100010110011110110011000011100110000', 0.15029431701487947),\n",
       " ('100010110011110110011000011100110000', 0.15029431701487947),\n",
       " ('100010110011110110011000011100110000', 0.15029431701487947),\n",
       " ('100010110011110110011000011100110000', 0.15029431701487947),\n",
       " ('110000100011001001100110010010011010', 0.011398346494599433)]"
      ]
     },
     "execution_count": 24,
     "metadata": {},
     "output_type": "execute_result"
    }
   ],
   "source": [
    "universal_stochastic_selection([('100010110011110110011000011100110000', 0.15029431701487947),\n",
    "                                ('110000100011001001100110010010011010', 0.011398346494599433),\n",
    "                                ('101110111100100000001000011010001010', 2.9777439040564625e-05),\n",
    "                                ('110101000010111111010100100101110110', 0.008058140115587174),\n",
    "                                ('001101101111011010101101010101110010', 0.00025309048960844106)],  \n",
    "                               bits_req([(-4.5, 4.5),(-4.5, 4.5)]),\n",
    "                               [(-4.5, 4.5),(-4.5, 4.5)])"
   ]
  },
  {
   "cell_type": "code",
   "execution_count": 25,
   "metadata": {},
   "outputs": [],
   "source": [
    "def k_point_crossover(k_points, p1, p2):\n",
    "    o1, o2 = '', ''\n",
    "    index_closer = 0\n",
    "    for i,point in enumerate(k_points+[len(p1)]):\n",
    "        if i%2 == 0:\n",
    "            o1 += p1[index_closer:point]\n",
    "            o2 += p2[index_closer:point]\n",
    "        else:\n",
    "            o1 += p2[index_closer:point]\n",
    "            o2 += p1[index_closer:point]\n",
    "        index_closer = point\n",
    "    return o1,o2"
   ]
  },
  {
   "cell_type": "code",
   "execution_count": 26,
   "metadata": {},
   "outputs": [
    {
     "data": {
      "text/plain": [
       "('10010100001011adi0011000011100110000',\n",
       " '1100101100hola011os10100100101110110')"
      ]
     },
     "execution_count": 26,
     "metadata": {},
     "output_type": "execute_result"
    }
   ],
   "source": [
    "k_point_crossover([2,17],'1000101100hola0110011000011100110000',\n",
    " '11010100001011adios10100100101110110')"
   ]
  },
  {
   "cell_type": "code",
   "execution_count": 27,
   "metadata": {},
   "outputs": [],
   "source": [
    "def grouped(iterable, n):\n",
    "    \"s -> (s0,s1,s2,...sn-1), (sn,sn+1,sn+2,...s2n-1), (s2n,s2n+1,s2n+2,...s3n-1), ...\"\n",
    "    return zip(*[iter(iterable)]*n)"
   ]
  },
  {
   "cell_type": "code",
   "execution_count": 28,
   "metadata": {},
   "outputs": [
    {
     "name": "stdout",
     "output_type": "stream",
     "text": [
      "3 2\n",
      "7 4\n",
      "10 9\n",
      "0 14\n"
     ]
    }
   ],
   "source": [
    "for i,j in grouped([3,2,7,4,10,9,0,14],2):\n",
    "    print(i,j)"
   ]
  },
  {
   "cell_type": "code",
   "execution_count": 29,
   "metadata": {},
   "outputs": [],
   "source": [
    "def mutate(individual, pm):\n",
    "    mutated = ''\n",
    "    for i in individual:\n",
    "        if random() < pm:\n",
    "            if i == '0':\n",
    "                mutated += '1'\n",
    "            else:\n",
    "                mutated += '0'\n",
    "        else:\n",
    "            mutated += i\n",
    "    return mutated        "
   ]
  },
  {
   "cell_type": "code",
   "execution_count": 30,
   "metadata": {},
   "outputs": [
    {
     "data": {
      "text/plain": [
       "'1111111111'"
      ]
     },
     "execution_count": 30,
     "metadata": {},
     "output_type": "execute_result"
    }
   ],
   "source": [
    "mutate('1111111111',.1)"
   ]
  },
  {
   "cell_type": "code",
   "execution_count": 31,
   "metadata": {},
   "outputs": [],
   "source": [
    "def mutate_pop(population, pm, n_variable_bits_req, n_variable_bounds):\n",
    "    mutated_pop = []\n",
    "    length = len(population[0])\n",
    "    for i in range(len(population)):\n",
    "        mutated_ind = mutate(population[i][0],pm)\n",
    "        mutated_pop.append((mutated_ind, Beale_fitness(mutated_ind, n_variable_bits_req, n_variable_bounds)))     \n",
    "    return mutated_pop"
   ]
  },
  {
   "cell_type": "code",
   "execution_count": 32,
   "metadata": {},
   "outputs": [
    {
     "data": {
      "text/plain": [
       "[('11111111111011111', 5.647605878400432e-06),\n",
       " ('00000010000000000', 5.673925993036313e-06)]"
      ]
     },
     "execution_count": 32,
     "metadata": {},
     "output_type": "execute_result"
    }
   ],
   "source": [
    "mutate_pop([('11111111111111111',.4),('00000000000000000',.1)],.1,\n",
    "          bits_req([(-4.5, 4.5),(-4.5, 4.5)]),\n",
    "                               [(-4.5, 4.5),(-4.5, 4.5)])"
   ]
  },
  {
   "cell_type": "code",
   "execution_count": 99,
   "metadata": {},
   "outputs": [],
   "source": [
    "def GA(μ, gens, pc, pm, n, n_variable_bounds):\n",
    "    n_variable_bits_req = bits_req(n_variable_bounds)\n",
    "    total_bits = sum(n_variable_bits_req)\n",
    "    population = [random_solution(n_variable_bits_req,n_variable_bounds) for i in range(μ)]\n",
    "    for gen in range(gens):\n",
    "        parents = universal_stochastic_selection(population, n_variable_bits_req, n_variable_bounds)\n",
    "        offspring = []\n",
    "        for p1,p2 in grouped(parents,2):\n",
    "            offs = []\n",
    "            if random() < pc:\n",
    "                cross_points = sorted(sample(list(range(total_bits)),2))\n",
    "                o1,o2 = k_point_crossover(cross_points,p1[0],p2[0])\n",
    "                o1 = (o1, Beale_fitness(o1, n_variable_bits_req, n_variable_bounds))\n",
    "                o2 = (o2, Beale_fitness(o2, n_variable_bits_req, n_variable_bounds))\n",
    "                offs = [o1,o2]\n",
    "            else:\n",
    "                offs = [p1,p2]\n",
    "            offspring += offs\n",
    "        \n",
    "        offspring = mutate_pop(offspring,pm,n_variable_bits_req,n_variable_bounds)\n",
    "        offspring.sort(key=lambda x:x[1], reverse=True)\n",
    "        parents.sort(key=lambda x:x[1], reverse=True)\n",
    "        \n",
    "        if parents[0][1] > offspring[0][1]:\n",
    "            offspring[-1] = parents[0]\n",
    "            offspring.sort(key=lambda x:x[1], reverse=True)\n",
    "        population = offspring\n",
    "    population.sort(key=lambda x:x[1], reverse=True)\n",
    "    return population[0]"
   ]
  },
  {
   "cell_type": "code",
   "execution_count": 108,
   "metadata": {
    "scrolled": false
   },
   "outputs": [
    {
     "data": {
      "text/plain": [
       "('1111011101101110010100010010', 0.8885074394867123)"
      ]
     },
     "execution_count": 108,
     "metadata": {},
     "output_type": "execute_result"
    }
   ],
   "source": [
    "GA(100, 1, 0.9, 0.001, 0,[(-4.5,4.5),(-4.5,4.5)])"
   ]
  },
  {
   "cell_type": "code",
   "execution_count": 109,
   "metadata": {
    "scrolled": true
   },
   "outputs": [
    {
     "data": {
      "text/plain": [
       "('1101010101010110001110001110', 0.9999996826798102)"
      ]
     },
     "execution_count": 109,
     "metadata": {},
     "output_type": "execute_result"
    }
   ],
   "source": [
    "GA(100, 2000, 0.9, 0.001, 0,[(-4.5,4.5),(-4.5,4.5)])"
   ]
  },
  {
   "cell_type": "code",
   "execution_count": 110,
   "metadata": {},
   "outputs": [
    {
     "data": {
      "text/plain": [
       "[3.0002746749679545, 0.500183116645303]"
      ]
     },
     "execution_count": 110,
     "metadata": {},
     "output_type": "execute_result"
    }
   ],
   "source": [
    "real_from_bits('1101010101010110001110001110', n_variable_bits, [(-4.5,4.5),(-4.5,4.5)])"
   ]
  },
  {
   "cell_type": "code",
   "execution_count": null,
   "metadata": {},
   "outputs": [],
   "source": []
  }
 ],
 "metadata": {
  "kernelspec": {
   "display_name": "Python 3",
   "language": "python",
   "name": "python3"
  },
  "language_info": {
   "codemirror_mode": {
    "name": "ipython",
    "version": 3
   },
   "file_extension": ".py",
   "mimetype": "text/x-python",
   "name": "python",
   "nbconvert_exporter": "python",
   "pygments_lexer": "ipython3",
   "version": "3.7.9"
  }
 },
 "nbformat": 4,
 "nbformat_minor": 4
}
