{
 "cells": [
  {
   "cell_type": "code",
   "execution_count": 207,
   "metadata": {},
   "outputs": [],
   "source": [
    "from random import sample, randint, random\n",
    "from math import e"
   ]
  },
  {
   "cell_type": "code",
   "execution_count": 2,
   "metadata": {},
   "outputs": [
    {
     "data": {
      "text/plain": [
       "((1000.0, 0.1),\n",
       " 5,\n",
       " 15.0,\n",
       " [[5.0, 2.0], [14.0, 3.0], [7.0, 7.0], [2.0, 5.0], [23.0, 10.0]])"
      ]
     },
     "execution_count": 2,
     "metadata": {},
     "output_type": "execute_result"
    }
   ],
   "source": [
    "def read_input(URL):\n",
    "    with open(URL) as file_in:\n",
    "        ti,tf = file_in.readline().split(' '); ti,tf = float(ti),float(tf)\n",
    "        n = int(file_in.readline())\n",
    "        w_limit = float(file_in.readline())\n",
    "        objects = []\n",
    "        for i in range(n):\n",
    "            obj_v,obj_w = file_in.readline().split(' '); obj_v,obj_w = float(obj_v),float(obj_w)\n",
    "            objects.append([obj_v,obj_w])\n",
    "        return (ti,tf),n,w_limit,objects\n",
    "read_input(\"example_input.txt\")"
   ]
  },
  {
   "cell_type": "code",
   "execution_count": 3,
   "metadata": {},
   "outputs": [],
   "source": [
    "(ti,tf),n,w_limit,objects = read_input(\"example_input.txt\")"
   ]
  },
  {
   "cell_type": "code",
   "execution_count": 4,
   "metadata": {},
   "outputs": [],
   "source": [
    "def w_value(p_solution,objects):\n",
    "    w = 0\n",
    "    for i,ele in enumerate(p_solution):\n",
    "        if ele == 1:\n",
    "            w += objects[i][1]\n",
    "    return w"
   ]
  },
  {
   "cell_type": "code",
   "execution_count": 200,
   "metadata": {},
   "outputs": [],
   "source": [
    "def p_value(p_solution,objects):\n",
    "    w = 0\n",
    "    for i,ele in enumerate(p_solution):\n",
    "        if ele == 1:\n",
    "            w += objects[i][0]\n",
    "    return w"
   ]
  },
  {
   "cell_type": "code",
   "execution_count": 201,
   "metadata": {},
   "outputs": [
    {
     "data": {
      "text/plain": [
       "27.0"
      ]
     },
     "execution_count": 201,
     "metadata": {},
     "output_type": "execute_result"
    }
   ],
   "source": [
    "w_value([1,1,1,1,1],objects)"
   ]
  },
  {
   "cell_type": "code",
   "execution_count": 202,
   "metadata": {},
   "outputs": [
    {
     "data": {
      "text/plain": [
       "51.0"
      ]
     },
     "execution_count": 202,
     "metadata": {},
     "output_type": "execute_result"
    }
   ],
   "source": [
    "p_value([1,1,1,1,1],objects)"
   ]
  },
  {
   "cell_type": "code",
   "execution_count": 203,
   "metadata": {},
   "outputs": [],
   "source": [
    "def initial_solution(n,w_limit,objects):\n",
    "    obj_indexes = [i for i in range(n)]\n",
    "    ini_sol = [0]*n\n",
    "    rand_obj = -1\n",
    "    while w_value(ini_sol,objects) <= w_limit:\n",
    "        rand_obj = sample(obj_indexes,1)[0]\n",
    "        ini_sol[rand_obj] = 1\n",
    "        obj_indexes.remove(rand_obj)\n",
    "    ini_sol[rand_obj] = 0 \n",
    "    return ini_sol, p_value(ini_sol,objects)#w_value(ini_sol,objects)"
   ]
  },
  {
   "cell_type": "code",
   "execution_count": 205,
   "metadata": {
    "scrolled": true
   },
   "outputs": [
    {
     "data": {
      "text/plain": [
       "([1, 1, 0, 1, 0], 21.0)"
      ]
     },
     "execution_count": 205,
     "metadata": {},
     "output_type": "execute_result"
    }
   ],
   "source": [
    "initial_solution(*read_input(\"example_input.txt\")[1:])"
   ]
  },
  {
   "cell_type": "code",
   "execution_count": 8,
   "metadata": {},
   "outputs": [],
   "source": [
    "def bitflip(solution,i):\n",
    "    new_sol = solution\n",
    "    if new_sol[i] == 0:\n",
    "        new_sol[i] = 1\n",
    "    else:\n",
    "        new_sol[i] = 0\n",
    "    return new_sol    "
   ]
  },
  {
   "cell_type": "code",
   "execution_count": 9,
   "metadata": {},
   "outputs": [
    {
     "name": "stdout",
     "output_type": "stream",
     "text": [
      "[1, 0, 0, 1, 0]\n"
     ]
    }
   ],
   "source": [
    "print(bitflip([1, 1, 0, 1, 0],1))"
   ]
  },
  {
   "cell_type": "code",
   "execution_count": 149,
   "metadata": {},
   "outputs": [],
   "source": [
    "def neighborhood(solution,n,w_limit,objects):\n",
    "    neighs = []\n",
    "    n_neighs = 0\n",
    "    for i in range(n):\n",
    "        p_sol = bitflip(solution.copy(),i)\n",
    "        p_sol_value = w_value(p_sol,objects)\n",
    "        #print(p_sol)\n",
    "        if p_sol_value <= w_limit:\n",
    "            neighs.append(p_sol)#([p_sol,p_sol_value])\n",
    "            n_neighs += 1\n",
    "    return neighs, n_neighs"
   ]
  },
  {
   "cell_type": "code",
   "execution_count": 150,
   "metadata": {
    "scrolled": true
   },
   "outputs": [
    {
     "data": {
      "text/plain": [
       "([[0, 1, 0, 0, 1], [1, 0, 0, 0, 1], [1, 1, 0, 0, 0]], 3)"
      ]
     },
     "execution_count": 150,
     "metadata": {},
     "output_type": "execute_result"
    }
   ],
   "source": [
    "neighborhood([1, 1, 0, 0, 1],n,w_limit,objects)"
   ]
  },
  {
   "cell_type": "code",
   "execution_count": 151,
   "metadata": {},
   "outputs": [],
   "source": [
    "def random_neighbor(neighs, n_neighs):\n",
    "    return neighs[randint(0,n_neighs-1)]"
   ]
  },
  {
   "cell_type": "code",
   "execution_count": 156,
   "metadata": {},
   "outputs": [
    {
     "data": {
      "text/plain": [
       "[1, 0, 0, 0, 1]"
      ]
     },
     "execution_count": 156,
     "metadata": {},
     "output_type": "execute_result"
    }
   ],
   "source": [
    "random_neighbor(*neighborhood([1, 1, 0, 0, 1],n,w_limit,objects))"
   ]
  },
  {
   "cell_type": "code",
   "execution_count": 195,
   "metadata": {},
   "outputs": [],
   "source": [
    "def rand_sol_from_neighborhood(solution,n,w_limit,objects):\n",
    "    neighs = []\n",
    "    n_neighs = 0\n",
    "    n_indexes = [i for i in range(n)]\n",
    "    while n_indexes != []:\n",
    "        rand_index = sample(n_indexes,1)[0]\n",
    "        p_sol = bitflip(solution.copy(),rand_index)\n",
    "        p_sol_value = w_value(p_sol,objects)\n",
    "        if p_sol_value <= w_limit:\n",
    "            return p_sol\n",
    "        n_indexes.remove(rand_index)\n",
    "    return []"
   ]
  },
  {
   "cell_type": "code",
   "execution_count": 199,
   "metadata": {
    "scrolled": false
   },
   "outputs": [
    {
     "data": {
      "text/plain": [
       "[1, 1, 0, 0, 0]"
      ]
     },
     "execution_count": 199,
     "metadata": {},
     "output_type": "execute_result"
    }
   ],
   "source": [
    "rand_sol_from_neighborhood([1, 1, 0, 0, 1],n,w_limit,objects)"
   ]
  },
  {
   "cell_type": "code",
   "execution_count": 523,
   "metadata": {},
   "outputs": [],
   "source": [
    "def index_list(l,n):\n",
    "    ind = []\n",
    "    for i in range(n):\n",
    "        if l[i] == 1:\n",
    "            ind.append(i)\n",
    "    return ind"
   ]
  },
  {
   "cell_type": "code",
   "execution_count": 211,
   "metadata": {},
   "outputs": [],
   "source": [
    "def T(t):\n",
    "    return 0.99*t"
   ]
  },
  {
   "cell_type": "code",
   "execution_count": 528,
   "metadata": {
    "scrolled": true
   },
   "outputs": [],
   "source": [
    "def simulated_annealing(ti_tf,n,w_limit,objects):\n",
    "    (ti,tf) = ti_tf\n",
    "    best_solution, best_solution_p = initial_solution(n,w_limit,objects)\n",
    "    #print(best_solution,best_solution_p)\n",
    "    t = T(ti)\n",
    "    while t >= tf:\n",
    "        aspirant_sol = rand_sol_from_neighborhood(best_solution,n,w_limit,objects)\n",
    "        aspirant_sol_p = p_value(aspirant_sol,objects)\n",
    "        if aspirant_sol_p >= best_solution_p: # here I changed it to the opposite because the best value is a big one, not a small one.\n",
    "            best_solution, best_solution_p = aspirant_sol, aspirant_sol_p\n",
    "        elif random() < e**((-(best_solution_p-aspirant_sol_p))/t): # I swapped the p_values because of the same reason stated 2 lines above\n",
    "            #print(best_solution_p,aspirant_sol_p)\n",
    "            #print(e**((-(aspirant_sol_p-best_solution_p))/t))\n",
    "            best_solution, best_solution_p = aspirant_sol, aspirant_sol_p\n",
    "        t = T(t)\n",
    "    return index_list(best_solution,n),best_solution, best_solution_p, w_value(best_solution,objects)"
   ]
  },
  {
   "cell_type": "code",
   "execution_count": 630,
   "metadata": {
    "scrolled": false
   },
   "outputs": [
    {
     "data": {
      "text/plain": [
       "([0, 1, 4], [1, 1, 0, 0, 1], 42.0, 15.0)"
      ]
     },
     "execution_count": 630,
     "metadata": {},
     "output_type": "execute_result"
    }
   ],
   "source": [
    "simulated_annealing(*read_input(\"example_input.txt\"))"
   ]
  },
  {
   "cell_type": "code",
   "execution_count": 640,
   "metadata": {},
   "outputs": [
    {
     "name": "stdout",
     "output_type": "stream",
     "text": [
      "[0, 1, 4] 11001\n",
      "42.0\n",
      "15.0\n"
     ]
    }
   ],
   "source": [
    "bck,bina,p,w = simulated_annealing(*read_input(\"example_input.txt\"))\n",
    "bina_t = str(bina).replace(', ','').replace(']','').replace('[','')\n",
    "print(bck,bina_t)\n",
    "print(p)\n",
    "print(w)"
   ]
  },
  {
   "cell_type": "code",
   "execution_count": 415,
   "metadata": {},
   "outputs": [
    {
     "data": {
      "text/plain": [
       "2.718281828459045"
      ]
     },
     "execution_count": 415,
     "metadata": {},
     "output_type": "execute_result"
    }
   ],
   "source": [
    "e"
   ]
  },
  {
   "cell_type": "code",
   "execution_count": 461,
   "metadata": {},
   "outputs": [
    {
     "data": {
      "text/plain": [
       "0.1353352832366127"
      ]
     },
     "execution_count": 461,
     "metadata": {},
     "output_type": "execute_result"
    }
   ],
   "source": [
    "e**((-(5-1))/2)"
   ]
  }
 ],
 "metadata": {
  "kernelspec": {
   "display_name": "Python 3",
   "language": "python",
   "name": "python3"
  },
  "language_info": {
   "codemirror_mode": {
    "name": "ipython",
    "version": 3
   },
   "file_extension": ".py",
   "mimetype": "text/x-python",
   "name": "python",
   "nbconvert_exporter": "python",
   "pygments_lexer": "ipython3",
   "version": "3.7.9"
  }
 },
 "nbformat": 4,
 "nbformat_minor": 4
}
