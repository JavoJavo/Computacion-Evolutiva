{
 "cells": [
  {
   "cell_type": "markdown",
   "metadata": {},
   "source": [
    "# Practica 3 - Algorithm based on EP"
   ]
  },
  {
   "cell_type": "markdown",
   "metadata": {},
   "source": [
    "$ min \\, f(\\vec{x} ) = -20 \\cdot e^{\\left(-0.2\\sqrt{\\frac{1}{n} \\sum^{n}_{i=1} x^2_1} \\right)} -e^{\\left( \\frac{1}{n} \\sum^n_{i=1} cos(2\\pi x_i \\right)} + 20 + e$     \n",
    "donde $|x_i| <= 30$"
   ]
  },
  {
   "cell_type": "code",
   "execution_count": 59,
   "metadata": {},
   "outputs": [],
   "source": [
    "from math import e,cos,pi\n",
    "import numpy as np\n",
    "from numpy.random import normal, uniform"
   ]
  },
  {
   "cell_type": "code",
   "execution_count": 166,
   "metadata": {},
   "outputs": [],
   "source": [
    "def f(x):\n",
    "    n = len(x)\n",
    "    return -20*e**(-0.2*((1/n)*sum(x_i**2 for x_i in x))) - e**((1/n)*sum(cos(2*pi*x_i) for x_i in x)) + 20 + e     "
   ]
  },
  {
   "cell_type": "code",
   "execution_count": 45,
   "metadata": {},
   "outputs": [
    {
     "data": {
      "text/plain": [
       "0.0"
      ]
     },
     "execution_count": 45,
     "metadata": {},
     "output_type": "execute_result"
    }
   ],
   "source": [
    "round(f([0,0,0]),15)"
   ]
  },
  {
   "cell_type": "markdown",
   "metadata": {},
   "source": [
    "## Algorithm based on EP"
   ]
  },
  {
   "cell_type": "code",
   "execution_count": 143,
   "metadata": {
    "scrolled": true
   },
   "outputs": [
    {
     "data": {
      "text/plain": [
       "(2, 100, 200, 2.0, 0.0001)"
      ]
     },
     "execution_count": 143,
     "metadata": {},
     "output_type": "execute_result"
    }
   ],
   "source": [
    "def read_input(URL):\n",
    "    with open(URL) as file_in:\n",
    "        n = int(file_in.readline())\n",
    "        pop_size, gens = file_in.readline().split(' ')\n",
    "        pop_size, gens = int(pop_size), int(gens)\n",
    "        alpha, epsilon = file_in.readline().split(' ')\n",
    "        alpha, epsilon = float(alpha), float(epsilon)\n",
    "        return n, pop_size, gens, alpha, epsilon\n",
    "\n",
    "read_input(\"example_input.txt\")"
   ]
  },
  {
   "cell_type": "markdown",
   "metadata": {},
   "source": [
    "solution: [np.array(x_i for x_i in x), float(sigma), f(x)]"
   ]
  },
  {
   "cell_type": "code",
   "execution_count": 116,
   "metadata": {},
   "outputs": [],
   "source": [
    "def random_solution(n):\n",
    "    parent = []\n",
    "    x_s = []\n",
    "    for i in range(n):\n",
    "        x_s.append(uniform(-30,30))\n",
    "    sigma = uniform()\n",
    "    return [np.array(x_s), sigma, f(x_s)]"
   ]
  },
  {
   "cell_type": "code",
   "execution_count": 117,
   "metadata": {},
   "outputs": [
    {
     "data": {
      "text/plain": [
       "[array([-19.73806343,  -6.37154658,   2.50674315]),\n",
       " 0.7708482368748536,\n",
       " 22.16314655366453]"
      ]
     },
     "execution_count": 117,
     "metadata": {},
     "output_type": "execute_result"
    }
   ],
   "source": [
    "random_solution(3)"
   ]
  },
  {
   "cell_type": "code",
   "execution_count": 137,
   "metadata": {},
   "outputs": [],
   "source": [
    "def selection(new_size, population):\n",
    "    population.sort(key=lambda x: x[2])\n",
    "    return population[:new_size]"
   ]
  },
  {
   "cell_type": "code",
   "execution_count": 133,
   "metadata": {},
   "outputs": [
    {
     "data": {
      "text/plain": [
       "[[array([ -1.43223793, -19.91708562, -21.99556251]),\n",
       "  0.0173452755968595,\n",
       "  21.342885646807304],\n",
       " [array([-11.7139206 ,  23.19448837,  23.00510291]),\n",
       "  0.5414982454610403,\n",
       "  21.267411954738154],\n",
       " [array([-23.48400989, -28.68775207,  24.82521433]),\n",
       "  0.6521446894221067,\n",
       "  21.982628040736127],\n",
       " [array([15.63786499, 18.7392637 , 20.50116993]),\n",
       "  0.5155554775118554,\n",
       "  22.153713675031316],\n",
       " [array([ 18.52808572, -12.60096183, -21.13970494]),\n",
       "  0.9741070584597137,\n",
       "  22.0369388981194]]"
      ]
     },
     "execution_count": 133,
     "metadata": {},
     "output_type": "execute_result"
    }
   ],
   "source": [
    "pop = []\n",
    "for i in range(5):\n",
    "    pop.append(random_solution(3))\n",
    "pop"
   ]
  },
  {
   "cell_type": "code",
   "execution_count": 138,
   "metadata": {
    "scrolled": true
   },
   "outputs": [
    {
     "data": {
      "text/plain": [
       "[[array([-11.7139206 ,  23.19448837,  23.00510291]),\n",
       "  0.5414982454610403,\n",
       "  21.267411954738154],\n",
       " [array([ -1.43223793, -19.91708562, -21.99556251]),\n",
       "  0.0173452755968595,\n",
       "  21.342885646807304]]"
      ]
     },
     "execution_count": 138,
     "metadata": {},
     "output_type": "execute_result"
    }
   ],
   "source": [
    "selection(2,pop)"
   ]
  },
  {
   "cell_type": "code",
   "execution_count": 101,
   "metadata": {},
   "outputs": [],
   "source": [
    "a = [3,3,41,6,4]"
   ]
  },
  {
   "cell_type": "code",
   "execution_count": 103,
   "metadata": {},
   "outputs": [
    {
     "data": {
      "text/plain": [
       "[3, 3, 4, 6, 41]"
      ]
     },
     "execution_count": 103,
     "metadata": {},
     "output_type": "execute_result"
    }
   ],
   "source": [
    "a.sort()\n",
    "a"
   ]
  },
  {
   "cell_type": "code",
   "execution_count": 150,
   "metadata": {},
   "outputs": [],
   "source": [
    "def check_domain(x,lower_limit, upper_limit):\n",
    "    x = list(x)\n",
    "    for i in range(len(x)):\n",
    "        if x[i] < lower_limit:\n",
    "            x[i] = lower_limit\n",
    "        elif x[i] > upper_limit:\n",
    "            x[i] = upper_limit\n",
    "    return np.array(x)"
   ]
  },
  {
   "cell_type": "code",
   "execution_count": 151,
   "metadata": {},
   "outputs": [],
   "source": [
    "def EP(n, pop_size, gens, alpha, epsilon):\n",
    "    parents = [random_solution(n) for i in range(pop_size)]\n",
    "    for gen in range(gens):\n",
    "        offspring = []\n",
    "        for p in parents:\n",
    "            x, sigma = p[0], p[1]\n",
    "            sigma = max(epsilon, sigma*(1+alpha*normal(0,1)))\n",
    "            x = x + sigma * normal(0,1)\n",
    "            # checar dominio de x_i:\n",
    "            x = check_domain(x,-30,30)\n",
    "            \n",
    "            offspring_i = [x, sigma, f(x)]\n",
    "            \n",
    "            offspring.append(offspring_i)\n",
    "        parents = selection(100, parents+offspring)\n",
    "    return parents[0]"
   ]
  },
  {
   "cell_type": "code",
   "execution_count": 181,
   "metadata": {
    "scrolled": true
   },
   "outputs": [
    {
     "name": "stdout",
     "output_type": "stream",
     "text": [
      "[-1.1029903960800813, 1.1029904109109405]\n",
      "f(x) = 4.817113421000567\n"
     ]
    }
   ],
   "source": [
    "x, sigma, fx = EP(*read_input(\"example_input.txt\"))\n",
    "print(list(x))\n",
    "print('f(x) =',fx)"
   ]
  },
  {
   "cell_type": "markdown",
   "metadata": {},
   "source": [
    "## Algorithm statistical analysis"
   ]
  },
  {
   "cell_type": "code",
   "execution_count": 204,
   "metadata": {},
   "outputs": [],
   "source": [
    "from statistics import mean, pstdev"
   ]
  },
  {
   "cell_type": "code",
   "execution_count": 191,
   "metadata": {},
   "outputs": [],
   "source": [
    "def m_EP(m, n, pop_size, gens, alpha, epsilon):\n",
    "    m_solutions = []\n",
    "    for i in range(m):\n",
    "        EP_sol = EP(n, pop_size, gens, alpha, epsilon)\n",
    "        m_solutions.append(EP_sol)\n",
    "    selection(m, m_solutions)\n",
    "    return m_solutions"
   ]
  },
  {
   "cell_type": "markdown",
   "metadata": {},
   "source": [
    "In the function above I've already ordered the solutions from best to worst."
   ]
  },
  {
   "cell_type": "code",
   "execution_count": 189,
   "metadata": {
    "scrolled": true
   },
   "outputs": [
    {
     "data": {
      "text/plain": [
       "[[array([ 0.07751612, -0.07751611]), 0.0001, 0.32242167252493603],\n",
       " [array([-0.71974838,  0.71974843]), 0.0001, 3.8588596064684393],\n",
       " [array([ 1.15158931, -1.15158928]), 0.0001, 5.592253532245703],\n",
       " [array([-1.1786895 ,  1.17868949]),\n",
       "  0.00020711477094373582,\n",
       "  6.028043689786383],\n",
       " [array([-1.92978026,  0.97874909]), 0.0001, 7.616029650063965]]"
      ]
     },
     "execution_count": 189,
     "metadata": {},
     "output_type": "execute_result"
    }
   ],
   "source": [
    "m_EP(5,*read_input(\"example_input.txt\"))"
   ]
  },
  {
   "cell_type": "code",
   "execution_count": 190,
   "metadata": {},
   "outputs": [],
   "source": [
    "_20sols = m_EP(20,*read_input(\"example_input.txt\"))"
   ]
  },
  {
   "cell_type": "code",
   "execution_count": 193,
   "metadata": {},
   "outputs": [],
   "source": [
    "def median_sol(m,solutions,one_solution=True):\n",
    "    if m%2 == 0:\n",
    "        if one_solution:\n",
    "            return solutions[m//2]\n",
    "        return solutions[(m//2)-1] + solutions[(m//2)]\n",
    "    else:\n",
    "        return solutions[m//2]"
   ]
  },
  {
   "cell_type": "code",
   "execution_count": 194,
   "metadata": {},
   "outputs": [
    {
     "data": {
      "text/plain": [
       "[array([-0.82782009,  0.82782007]), 0.0001, 3.6803508801887372]"
      ]
     },
     "execution_count": 194,
     "metadata": {},
     "output_type": "execute_result"
    }
   ],
   "source": [
    "median_sol(20,_20sols)"
   ]
  },
  {
   "cell_type": "code",
   "execution_count": 201,
   "metadata": {},
   "outputs": [],
   "source": [
    "def mean_sol_f(solutions):\n",
    "    return mean([s[2] for s in solutions])"
   ]
  },
  {
   "cell_type": "code",
   "execution_count": 203,
   "metadata": {},
   "outputs": [
    {
     "data": {
      "text/plain": [
       "4.349865309251344"
      ]
     },
     "execution_count": 203,
     "metadata": {},
     "output_type": "execute_result"
    }
   ],
   "source": [
    "mean_sol_f(_20sols)"
   ]
  },
  {
   "cell_type": "code",
   "execution_count": 205,
   "metadata": {},
   "outputs": [],
   "source": [
    "def std_sol_f(solutions):\n",
    "    return pstdev([s[2] for s in solutions])"
   ]
  },
  {
   "cell_type": "code",
   "execution_count": 206,
   "metadata": {},
   "outputs": [
    {
     "data": {
      "text/plain": [
       "4.09143363653346"
      ]
     },
     "execution_count": 206,
     "metadata": {},
     "output_type": "execute_result"
    }
   ],
   "source": [
    "std_sol_f(_20sols)"
   ]
  },
  {
   "cell_type": "code",
   "execution_count": 207,
   "metadata": {},
   "outputs": [],
   "source": [
    "def EP_statistical_analysis(m, n, pop_size, gens, alpha, epsilon):\n",
    "    m_sols = m_EP(m, n, pop_size, gens, alpha, epsilon)\n",
    "    print('Best solution:',m_sols[0])\n",
    "    print('Worst solution:', m_sols[-1])\n",
    "    print('Median solution:', median_sol(m,m_sols))\n",
    "    print('Mean solution:', mean_sol_f(m_sols))\n",
    "    print('Standard deviation:', std_sol_f(m_sols))"
   ]
  },
  {
   "cell_type": "code",
   "execution_count": 208,
   "metadata": {},
   "outputs": [
    {
     "name": "stdout",
     "output_type": "stream",
     "text": [
      "Best solution: [array([2.10754137e-08, 2.10754137e-08]), 0.0001, 2.886579864025407e-14]\n",
      "Worst solution: [array([-2.01622461,  2.99631536]), 0.0001, 14.580198371880524]\n",
      "Median solution: [array([-0.78740115, -0.06524971]), 0.0001950035081890405, 2.151521183701569]\n",
      "Mean solution: 3.8041200135842446\n",
      "Standard deviation: 4.05285453659114\n"
     ]
    }
   ],
   "source": [
    "m = 30\n",
    "EP_statistical_analysis(m,*read_input(\"example_input.txt\"))"
   ]
  },
  {
   "cell_type": "markdown",
   "metadata": {},
   "source": [
    "### Examples varying only number of decision variables "
   ]
  },
  {
   "cell_type": "markdown",
   "metadata": {},
   "source": [
    "#### Example with 5 decision variables"
   ]
  },
  {
   "cell_type": "code",
   "execution_count": 210,
   "metadata": {},
   "outputs": [
    {
     "name": "stdout",
     "output_type": "stream",
     "text": [
      "Best solution: [array([-2.28043287e-09, -2.28043287e-09, -2.28043287e-09, -2.28043287e-09,\n",
      "       -2.28043287e-09]), 0.0001, 4.440892098500626e-16]\n",
      "Worst solution: [array([ -4.92544826, -19.89782461,   1.00148996, -26.01064171,\n",
      "       -25.23090968]), 0.00021816936558423123, 20.57547986952672]\n",
      "Median solution: [array([-1.49833721e-08, -1.49833721e-08, -1.49833721e-08, -1.49833721e-08,\n",
      "       -1.49833721e-08]), 0.0001, 1.1102230246251565e-14]\n",
      "Mean solution: 5.657904220428467\n",
      "Standard deviation: 8.906857537003066\n"
     ]
    }
   ],
   "source": [
    "m = 15\n",
    "EP_statistical_analysis(m, 5, 100, 200, 2.0, 0.0001)"
   ]
  },
  {
   "cell_type": "markdown",
   "metadata": {},
   "source": [
    "#### Example with 10 decision variables"
   ]
  },
  {
   "cell_type": "code",
   "execution_count": 212,
   "metadata": {},
   "outputs": [
    {
     "name": "stdout",
     "output_type": "stream",
     "text": [
      "Best solution: [array([3.03529214e-09, 3.03529214e-09, 3.03529214e-09, 3.03529214e-09,\n",
      "       3.03529214e-09, 3.03529214e-09, 3.03529214e-09, 3.03529214e-09,\n",
      "       3.03529214e-09, 3.03529214e-09]), 0.0001, 4.440892098500626e-16]\n",
      "Worst solution: [array([ -9.81651828,  29.1702713 ,   4.87949639, -24.79442122,\n",
      "        -6.97924932, -15.99645453,  -0.07453354,   5.8946128 ,\n",
      "        11.77927372, -26.02693846]), 0.0001, 20.758309070204827]\n",
      "Median solution: [array([-1.11749503e-08, -1.11749503e-08, -1.11749503e-08, -1.11749503e-08,\n",
      "       -1.11749503e-08, -1.11749503e-08, -1.11749503e-08, -1.11749503e-08,\n",
      "       -1.11749503e-08, -1.11749503e-08]), 0.0001, 7.549516567451064e-15]\n",
      "Mean solution: 1.8402699099841913\n",
      "Standard deviation: 5.186781728752503\n"
     ]
    }
   ],
   "source": [
    "m = 15\n",
    "EP_statistical_analysis(m, 10, 100, 200, 2.0, 0.0001)"
   ]
  },
  {
   "cell_type": "markdown",
   "metadata": {},
   "source": [
    "#### Example with 20 dicision variables"
   ]
  },
  {
   "cell_type": "code",
   "execution_count": 213,
   "metadata": {},
   "outputs": [
    {
     "name": "stdout",
     "output_type": "stream",
     "text": [
      "Best solution: [array([-6.42801354e-09, -6.42801354e-09, -6.42801354e-09, -6.42801354e-09,\n",
      "       -6.42801354e-09, -6.42801354e-09, -6.42801354e-09, -6.42801354e-09,\n",
      "       -6.42801354e-09, -6.42801354e-09, -6.42801354e-09, -6.42801354e-09,\n",
      "       -6.42801354e-09, -6.42801354e-09, -6.42801354e-09, -6.42801354e-09,\n",
      "       -6.42801354e-09, -6.42801354e-09, -6.42801354e-09, -6.42801354e-09]), 0.0001, 4.440892098500626e-16]\n",
      "Worst solution: [array([-0.9345891, -0.9345891, -0.9345891, -0.9345891, -0.9345891,\n",
      "       -0.9345891, -0.9345891, -0.9345891, -0.9345891, -0.9345891,\n",
      "       -0.9345891, -0.9345891, -0.9345891, -0.9345891, -0.9345891,\n",
      "       -0.9345891, -0.9345891, -0.9345891, -0.9345891, -0.9345891]), 0.0001, 3.4228697897789186]\n",
      "Median solution: [array([1.52268548e-08, 1.52268548e-08, 1.52268548e-08, 1.52268548e-08,\n",
      "       1.52268548e-08, 1.52268548e-08, 1.52268548e-08, 1.52268548e-08,\n",
      "       1.52268548e-08, 1.52268548e-08, 1.52268548e-08, 1.52268548e-08,\n",
      "       1.52268548e-08, 1.52268548e-08, 1.52268548e-08, 1.52268548e-08,\n",
      "       1.52268548e-08, 1.52268548e-08, 1.52268548e-08, 1.52268548e-08]), 0.0002477061908932669, 1.1102230246251565e-14]\n",
      "Mean solution: 0.22819131931862152\n",
      "Standard deviation: 0.8538137355261034\n"
     ]
    }
   ],
   "source": [
    "m = 15\n",
    "EP_statistical_analysis(m, 20, 100, 200, 2.0, 0.0001)"
   ]
  }
 ],
 "metadata": {
  "kernelspec": {
   "display_name": "Python 3",
   "language": "python",
   "name": "python3"
  },
  "language_info": {
   "codemirror_mode": {
    "name": "ipython",
    "version": 3
   },
   "file_extension": ".py",
   "mimetype": "text/x-python",
   "name": "python",
   "nbconvert_exporter": "python",
   "pygments_lexer": "ipython3",
   "version": "3.7.9"
  }
 },
 "nbformat": 4,
 "nbformat_minor": 4
}
