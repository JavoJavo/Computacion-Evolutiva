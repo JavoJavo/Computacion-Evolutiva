{
 "cells": [
  {
   "cell_type": "markdown",
   "metadata": {},
   "source": [
    "# Práctica 1"
   ]
  },
  {
   "cell_type": "code",
   "execution_count": 247,
   "metadata": {},
   "outputs": [],
   "source": [
    "import random"
   ]
  },
  {
   "cell_type": "code",
   "execution_count": 3,
   "metadata": {
    "scrolled": true
   },
   "outputs": [
    {
     "data": {
      "text/plain": [
       "(10,\n",
       " 100,\n",
       " [[49.0, 30.0, 53.0, 72.0, 19.0, 76.0, 87.0, 45.0, 48.0],\n",
       "  [19.0, 38.0, 32.0, 31.0, 75.0, 69.0, 61.0, 25.0],\n",
       "  [41.0, 98.0, 56.0, 6.0, 6.0, 45.0, 53.0],\n",
       "  [52.0, 29.0, 46.0, 90.0, 23.0, 98.0],\n",
       "  [63.0, 90.0, 69.0, 50.0, 82.0],\n",
       "  [60.0, 88.0, 41.0, 95.0],\n",
       "  [61.0, 92.0, 10.0],\n",
       "  [82.0, 73.0],\n",
       "  [5.0]])"
      ]
     },
     "execution_count": 3,
     "metadata": {},
     "output_type": "execute_result"
    }
   ],
   "source": [
    "def input_read(URL):\n",
    "    with open(URL) as file_in:\n",
    "        n = int(file_in.readline())\n",
    "        iters = int(file_in.readline())\n",
    "        adj_matrix = []\n",
    "        for i in range(n-1):\n",
    "            line = file_in.readline().rstrip('\\n').split(' ')\n",
    "            adj_matrix.append([float(l) for l in line])\n",
    "        return n,iters,adj_matrix\n",
    "input_read(\"example_input.txt\")"
   ]
  },
  {
   "cell_type": "code",
   "execution_count": 4,
   "metadata": {},
   "outputs": [
    {
     "data": {
      "text/plain": [
       "(10,\n",
       " 100,\n",
       " [[49.0, 30.0, 53.0, 72.0, 19.0, 76.0, 87.0, 45.0, 48.0],\n",
       "  [19.0, 38.0, 32.0, 31.0, 75.0, 69.0, 61.0, 25.0],\n",
       "  [41.0, 98.0, 56.0, 6.0, 6.0, 45.0, 53.0],\n",
       "  [52.0, 29.0, 46.0, 90.0, 23.0, 98.0],\n",
       "  [63.0, 90.0, 69.0, 50.0, 82.0],\n",
       "  [60.0, 88.0, 41.0, 95.0],\n",
       "  [61.0, 92.0, 10.0],\n",
       "  [82.0, 73.0],\n",
       "  [5.0]])"
      ]
     },
     "execution_count": 4,
     "metadata": {},
     "output_type": "execute_result"
    }
   ],
   "source": [
    "m = input_read(\"example_input.txt\")\n",
    "m"
   ]
  },
  {
   "cell_type": "code",
   "execution_count": 87,
   "metadata": {
    "scrolled": true
   },
   "outputs": [
    {
     "name": "stdout",
     "output_type": "stream",
     "text": [
      "[inf, 49.0, 30.0, 53.0, 72.0, 19.0, 76.0, 87.0, 45.0, 48.0]\n",
      "[49.0, inf, 19.0, 38.0, 32.0, 31.0, 75.0, 69.0, 61.0, 25.0]\n",
      "[30.0, 19.0, inf, 41.0, 98.0, 56.0, 6.0, 6.0, 45.0, 53.0]\n",
      "[53.0, 38.0, 41.0, inf, 52.0, 29.0, 46.0, 90.0, 23.0, 98.0]\n",
      "[72.0, 32.0, 98.0, 52.0, inf, 63.0, 90.0, 69.0, 50.0, 82.0]\n",
      "[19.0, 31.0, 56.0, 29.0, 63.0, inf, 60.0, 88.0, 41.0, 95.0]\n",
      "[76.0, 75.0, 6.0, 46.0, 90.0, 60.0, inf, 61.0, 92.0, 10.0]\n",
      "[87.0, 69.0, 6.0, 90.0, 69.0, 88.0, 61.0, inf, 82.0, 73.0]\n",
      "[45.0, 61.0, 45.0, 23.0, 50.0, 41.0, 92.0, 82.0, inf, 5.0]\n",
      "[48.0, 25.0, 53.0, 98.0, 82.0, 95.0, 10.0, 73.0, 5.0, inf]\n"
     ]
    },
    {
     "data": {
      "text/plain": [
       "\"    \\ndistancias_n = []\\nfor i in range(n-1):\\n    #print(matrix[i][-1])\\n    distancias_n.append(matrix[i][-1])\\ndistancias_n.append(float('inf'))\\nprint(distancias_n)\\n\""
      ]
     },
     "execution_count": 87,
     "metadata": {},
     "output_type": "execute_result"
    }
   ],
   "source": [
    "# revisando las distancias de los nodos\n",
    "n,iters,matrix = input_read(\"example_input.txt\")\n",
    "distancias = []\n",
    "#n = 0\n",
    "'''\n",
    "distancias_0 = []\n",
    "distancias_0.append(float('inf'))\n",
    "for i in range(n-1):\n",
    "    #print(matrix[i][-1])\n",
    "    distancias_0.append(matrix[0][i])\n",
    "print(distancias_0)\n",
    "'''\n",
    "for node in range(n):\n",
    "    #print(node)\n",
    "    distancias = []\n",
    "    # primero bajando por la columna 2 hasta la diagonal:\n",
    "    for i in range(node):\n",
    "        distancias.append(matrix[i][node-i-1])\n",
    "    #print(distancias)\n",
    "    \n",
    "    # Añado a él mismo\n",
    "    distancias.insert(node,float('inf'))\n",
    "    \n",
    "    # luego recorriendo la fila a la derecha para tener el total de 9 distancias\n",
    "    for i in range(n-(node+1)): # uno porque ya conté la primera distancia de la fila\n",
    "        distancias.append(matrix[node][i])\n",
    "    #print(distancias)\n",
    "    print(distancias)\n",
    "'''    \n",
    "distancias_n = []\n",
    "for i in range(n-1):\n",
    "    #print(matrix[i][-1])\n",
    "    distancias_n.append(matrix[i][-1])\n",
    "distancias_n.append(float('inf'))\n",
    "print(distancias_n)\n",
    "'''"
   ]
  },
  {
   "cell_type": "code",
   "execution_count": 116,
   "metadata": {},
   "outputs": [],
   "source": [
    "def distances(node,n,matrix):\n",
    "    distancias = []   \n",
    "\n",
    "    # primero bajando por la columna 2 hasta la diagonal:\n",
    "    for i in range(node):\n",
    "        new = matrix[i][node-i-1]\n",
    "        distancias.append(new)\n",
    "        \n",
    "    # Añado a él mismo\n",
    "    distancias.append(float('inf'))\n",
    "    \n",
    "    # luego recorriendo la fila a la derecha para tener el total de 9 distancias\n",
    "    for i in range(n-(node+1)): # uno porque ya conté la primera distancia de la fila\n",
    "        new = matrix[node][i]\n",
    "        distancias.append(new)\n",
    "        \n",
    "    return distancias"
   ]
  },
  {
   "cell_type": "code",
   "execution_count": 117,
   "metadata": {},
   "outputs": [
    {
     "name": "stdout",
     "output_type": "stream",
     "text": [
      "[inf, 49.0, 30.0, 53.0, 72.0, 19.0, 76.0, 87.0, 45.0, 48.0]\n",
      "[49.0, inf, 19.0, 38.0, 32.0, 31.0, 75.0, 69.0, 61.0, 25.0]\n",
      "[30.0, 19.0, inf, 41.0, 98.0, 56.0, 6.0, 6.0, 45.0, 53.0]\n",
      "[53.0, 38.0, 41.0, inf, 52.0, 29.0, 46.0, 90.0, 23.0, 98.0]\n",
      "[72.0, 32.0, 98.0, 52.0, inf, 63.0, 90.0, 69.0, 50.0, 82.0]\n",
      "[19.0, 31.0, 56.0, 29.0, 63.0, inf, 60.0, 88.0, 41.0, 95.0]\n",
      "[76.0, 75.0, 6.0, 46.0, 90.0, 60.0, inf, 61.0, 92.0, 10.0]\n",
      "[87.0, 69.0, 6.0, 90.0, 69.0, 88.0, 61.0, inf, 82.0, 73.0]\n",
      "[45.0, 61.0, 45.0, 23.0, 50.0, 41.0, 92.0, 82.0, inf, 5.0]\n",
      "[48.0, 25.0, 53.0, 98.0, 82.0, 95.0, 10.0, 73.0, 5.0, inf]\n"
     ]
    }
   ],
   "source": [
    "m = input_read(\"example_input.txt\")\n",
    "n,iters,matrix = m\n",
    "for node in range(n):\n",
    "    print(distances(node,n,matrix))"
   ]
  },
  {
   "cell_type": "code",
   "execution_count": 95,
   "metadata": {},
   "outputs": [],
   "source": [
    "def min_distance(taken, distancias):\n",
    "    min_dis = float('inf')\n",
    "    min_ind = -1\n",
    "    for i in range(len(distancias)):\n",
    "        if i not in taken:\n",
    "            if distancias[i] < min_dis:\n",
    "                min_dis = distancias[i]\n",
    "                min_ind = i\n",
    "    return min_ind\n",
    "            \n",
    "    "
   ]
  },
  {
   "cell_type": "code",
   "execution_count": 240,
   "metadata": {},
   "outputs": [],
   "source": [
    "def initial_solution(n,adj_matrix): # greedy\n",
    "    ini_solution = [0]\n",
    "    #nodes = [i for i in range(10)]\n",
    "    #taken = [0] # no puedo ir al cero antes del final\n",
    "    node = 0\n",
    "\n",
    "    for i in range(n-1):\n",
    "        #print(node)\n",
    "        dists = distances(node,n,adj_matrix)\n",
    "        min_dis = min_distance(ini_solution,dists)\n",
    "        #print(min_dis)\n",
    "        node = min_dis\n",
    "        #taken.append(min_dis)\n",
    "        ini_solution.append(min_dis)\n",
    "        #print(taken)\n",
    "        #print(dists)\n",
    "    #print(taken)\n",
    "    return ini_solution"
   ]
  },
  {
   "cell_type": "code",
   "execution_count": 241,
   "metadata": {
    "scrolled": true
   },
   "outputs": [
    {
     "data": {
      "text/plain": [
       "[0, 5, 3, 8, 9, 6, 2, 7, 1, 4]"
      ]
     },
     "execution_count": 241,
     "metadata": {},
     "output_type": "execute_result"
    }
   ],
   "source": [
    "m = input_read(\"example_input.txt\")\n",
    "n,iters,matrix = m\n",
    "initial_solution(n,matrix)"
   ]
  },
  {
   "cell_type": "code",
   "execution_count": 242,
   "metadata": {},
   "outputs": [],
   "source": [
    "def w_node_node(node,next_node,matrix):\n",
    "    if next_node < node:\n",
    "        #print('antes')\n",
    "        #print(node, next_node)\n",
    "        #print(next_node,node-next_node-1)\n",
    "        new = matrix[next_node][node-next_node-1]\n",
    "        #print(new)\n",
    "        return new\n",
    "    \n",
    "    else:\n",
    "        #print('después')\n",
    "        #print(node,next_node)\n",
    "        new = matrix[node][next_node-(node+1)]\n",
    "        #print(new)\n",
    "        return new"
   ]
  },
  {
   "cell_type": "code",
   "execution_count": 243,
   "metadata": {},
   "outputs": [],
   "source": [
    "def evaluator(sol,n,matrix):\n",
    "    weights = 0\n",
    "    \n",
    "    for i in range(n-1):\n",
    "        node = sol[i]\n",
    "        next_node = sol[i+1]\n",
    "        #print(node, next_node)\n",
    "        weights += w_node_node(node,next_node,matrix)\n",
    "    \n",
    "    weights += w_node_node(sol[n-1],0,matrix) # peso del último con el primero (0)\n",
    "        \n",
    "    return weights\n",
    "      "
   ]
  },
  {
   "cell_type": "code",
   "execution_count": 246,
   "metadata": {},
   "outputs": [
    {
     "name": "stdout",
     "output_type": "stream",
     "text": [
      "[0, 5, 3, 8, 9, 6, 2, 7, 1, 4]\n",
      "271.0\n"
     ]
    }
   ],
   "source": [
    "m = input_read(\"example_input.txt\")\n",
    "n,iters,matrix = m\n",
    "ini_sol = initial_solution(n,matrix)\n",
    "print(ini_sol)\n",
    "print(evaluator(ini_sol,n,matrix))"
   ]
  },
  {
   "cell_type": "markdown",
   "metadata": {},
   "source": [
    "El vecindario de una solucion se genera de la siguiente forma: Se elige\n",
    "al azar una posicion de la permutacion. Se generan N-2 soluciones\n",
    "nuevas moviendo la ciudad de esa posicion a cualquiera de las otras N-2 posiciones posibles.\n",
    "\n",
    "En la lista tabu se almacena la ciudad que se utilizo para generar el\n",
    "vecindario y tendra un tiempo tabu del piso de N/2."
   ]
  },
  {
   "cell_type": "code",
   "execution_count": 281,
   "metadata": {},
   "outputs": [],
   "source": [
    "def neighborhood(one_solution,n,matrix):\n",
    "    print(one_solution,'\\n')\n",
    "    rand_index = random.randint(1,n-1)\n",
    "    rand_node = one_solution[rand_index]\n",
    "    neighs= []\n",
    "    for i in range(1,n):\n",
    "        if rand_index != i:\n",
    "            new_neigh = one_solution.copy()\n",
    "            del new_neigh[rand_index]\n",
    "            new_neigh.insert(i,rand_node)\n",
    "            neighs.append(new_neigh)\n",
    "    return neighs     \n",
    "    "
   ]
  },
  {
   "cell_type": "code",
   "execution_count": 282,
   "metadata": {},
   "outputs": [],
   "source": [
    "def tabu_search(n,iters,matrix):\n",
    "    ini_sol = initial_solution(n,matrix)\n",
    "    tabu_list = [initial_solution]  # adding and deleting solutions every N/2 iterations\n",
    "    iter_counter = 0\n",
    "    \n",
    "    global_best_neigh_sol = ini_sol\n",
    "    global_best_neigh_score = evaluator(ini_sol)\n",
    "    \n",
    "    #local_best_neigh_sol = ini_sol\n",
    "    #local_best_neigh_score = evaluator(ini_sol)\n",
    "    for it in range(iters):\n",
    "        neigh = neighborhood(ini_sol,n,matrix)\n",
    "        best_neigh_sol = neigh[0]\n",
    "        best_neigh_score = evaluator(neigh[0])\n",
    "        for i in range(1,n-2):\n",
    "            new_neigh_score = evaluator(neigh[i])\n",
    "            if new_neigh_score < best_neigh_score:\n",
    "                best_neigh_score = new_neigh_score\n",
    "                best_neigh_sol = neigh[i]\n",
    "        if\n",
    "            \n",
    "    "
   ]
  },
  {
   "cell_type": "code",
   "execution_count": 285,
   "metadata": {},
   "outputs": [
    {
     "name": "stdout",
     "output_type": "stream",
     "text": [
      "[0, 5, 3, 8, 9, 6, 2, 7, 1, 4] \n",
      "\n"
     ]
    },
    {
     "data": {
      "text/plain": [
       "[[0, 1, 5, 3, 8, 9, 6, 2, 7, 4],\n",
       " [0, 5, 1, 3, 8, 9, 6, 2, 7, 4],\n",
       " [0, 5, 3, 1, 8, 9, 6, 2, 7, 4],\n",
       " [0, 5, 3, 8, 1, 9, 6, 2, 7, 4],\n",
       " [0, 5, 3, 8, 9, 1, 6, 2, 7, 4],\n",
       " [0, 5, 3, 8, 9, 6, 1, 2, 7, 4],\n",
       " [0, 5, 3, 8, 9, 6, 2, 1, 7, 4],\n",
       " [0, 5, 3, 8, 9, 6, 2, 7, 4, 1]]"
      ]
     },
     "execution_count": 285,
     "metadata": {},
     "output_type": "execute_result"
    }
   ],
   "source": [
    "n,iters,matrix = input_read(\"example_input.txt\")\n",
    "tabu_search(n,iters,matrix)"
   ]
  },
  {
   "cell_type": "code",
   "execution_count": null,
   "metadata": {},
   "outputs": [],
   "source": []
  }
 ],
 "metadata": {
  "kernelspec": {
   "display_name": "Python 3",
   "language": "python",
   "name": "python3"
  },
  "language_info": {
   "codemirror_mode": {
    "name": "ipython",
    "version": 3
   },
   "file_extension": ".py",
   "mimetype": "text/x-python",
   "name": "python",
   "nbconvert_exporter": "python",
   "pygments_lexer": "ipython3",
   "version": "3.7.9"
  }
 },
 "nbformat": 4,
 "nbformat_minor": 4
}
