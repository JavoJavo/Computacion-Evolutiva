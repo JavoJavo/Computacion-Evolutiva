{
 "cells": [
  {
   "cell_type": "markdown",
   "metadata": {},
   "source": [
    "# Práctica 1"
   ]
  },
  {
   "cell_type": "code",
   "execution_count": 1,
   "metadata": {},
   "outputs": [],
   "source": [
    "import random\n",
    "import statistics"
   ]
  },
  {
   "cell_type": "markdown",
   "metadata": {},
   "source": [
    "## Ejercicio 80 pts"
   ]
  },
  {
   "cell_type": "code",
   "execution_count": 2,
   "metadata": {
    "scrolled": true
   },
   "outputs": [
    {
     "data": {
      "text/plain": [
       "(10,\n",
       " 100,\n",
       " [[49.0, 30.0, 53.0, 72.0, 19.0, 76.0, 87.0, 45.0, 48.0],\n",
       "  [19.0, 38.0, 32.0, 31.0, 75.0, 69.0, 61.0, 25.0],\n",
       "  [41.0, 98.0, 56.0, 6.0, 6.0, 45.0, 53.0],\n",
       "  [52.0, 29.0, 46.0, 90.0, 23.0, 98.0],\n",
       "  [63.0, 90.0, 69.0, 50.0, 82.0],\n",
       "  [60.0, 88.0, 41.0, 95.0],\n",
       "  [61.0, 92.0, 10.0],\n",
       "  [82.0, 73.0],\n",
       "  [5.0]])"
      ]
     },
     "execution_count": 2,
     "metadata": {},
     "output_type": "execute_result"
    }
   ],
   "source": [
    "def input_read(URL):\n",
    "    with open(URL) as file_in:\n",
    "        n = int(file_in.readline())\n",
    "        iters = int(file_in.readline())\n",
    "        adj_matrix = []\n",
    "        for i in range(n-1):\n",
    "            line = file_in.readline().rstrip('\\n').split(' ')\n",
    "            adj_matrix.append([float(l) for l in line])\n",
    "        return n,iters,adj_matrix\n",
    "input_read(\"example_input.txt\")"
   ]
  },
  {
   "cell_type": "code",
   "execution_count": 3,
   "metadata": {},
   "outputs": [
    {
     "data": {
      "text/plain": [
       "(10,\n",
       " 100,\n",
       " [[49.0, 30.0, 53.0, 72.0, 19.0, 76.0, 87.0, 45.0, 48.0],\n",
       "  [19.0, 38.0, 32.0, 31.0, 75.0, 69.0, 61.0, 25.0],\n",
       "  [41.0, 98.0, 56.0, 6.0, 6.0, 45.0, 53.0],\n",
       "  [52.0, 29.0, 46.0, 90.0, 23.0, 98.0],\n",
       "  [63.0, 90.0, 69.0, 50.0, 82.0],\n",
       "  [60.0, 88.0, 41.0, 95.0],\n",
       "  [61.0, 92.0, 10.0],\n",
       "  [82.0, 73.0],\n",
       "  [5.0]])"
      ]
     },
     "execution_count": 3,
     "metadata": {},
     "output_type": "execute_result"
    }
   ],
   "source": [
    "m = input_read(\"example_input.txt\")\n",
    "m"
   ]
  },
  {
   "cell_type": "code",
   "execution_count": 4,
   "metadata": {
    "scrolled": true
   },
   "outputs": [
    {
     "name": "stdout",
     "output_type": "stream",
     "text": [
      "[inf, 49.0, 30.0, 53.0, 72.0, 19.0, 76.0, 87.0, 45.0, 48.0]\n",
      "[49.0, inf, 19.0, 38.0, 32.0, 31.0, 75.0, 69.0, 61.0, 25.0]\n",
      "[30.0, 19.0, inf, 41.0, 98.0, 56.0, 6.0, 6.0, 45.0, 53.0]\n",
      "[53.0, 38.0, 41.0, inf, 52.0, 29.0, 46.0, 90.0, 23.0, 98.0]\n",
      "[72.0, 32.0, 98.0, 52.0, inf, 63.0, 90.0, 69.0, 50.0, 82.0]\n",
      "[19.0, 31.0, 56.0, 29.0, 63.0, inf, 60.0, 88.0, 41.0, 95.0]\n",
      "[76.0, 75.0, 6.0, 46.0, 90.0, 60.0, inf, 61.0, 92.0, 10.0]\n",
      "[87.0, 69.0, 6.0, 90.0, 69.0, 88.0, 61.0, inf, 82.0, 73.0]\n",
      "[45.0, 61.0, 45.0, 23.0, 50.0, 41.0, 92.0, 82.0, inf, 5.0]\n",
      "[48.0, 25.0, 53.0, 98.0, 82.0, 95.0, 10.0, 73.0, 5.0, inf]\n"
     ]
    },
    {
     "data": {
      "text/plain": [
       "\"    \\ndistancias_n = []\\nfor i in range(n-1):\\n    #print(matrix[i][-1])\\n    distancias_n.append(matrix[i][-1])\\ndistancias_n.append(float('inf'))\\nprint(distancias_n)\\n\""
      ]
     },
     "execution_count": 4,
     "metadata": {},
     "output_type": "execute_result"
    }
   ],
   "source": [
    "# checking distances of every node with every other node\n",
    "n,iters,matrix = input_read(\"example_input.txt\")\n",
    "distancias = []\n",
    "#n = 0\n",
    "'''\n",
    "distancias_0 = []\n",
    "distancias_0.append(float('inf'))\n",
    "for i in range(n-1):\n",
    "    #print(matrix[i][-1])\n",
    "    distancias_0.append(matrix[0][i])\n",
    "print(distancias_0)\n",
    "'''\n",
    "for node in range(n):\n",
    "    #print(node)\n",
    "    distancias = []\n",
    "    # first we go down the n column reaching the element before the diagonal:\n",
    "    for i in range(node):\n",
    "        distancias.append(matrix[i][node-i-1])\n",
    "    #print(distancias)\n",
    "    \n",
    "    # Add itself whit infinite distance so the greedy solution ignores it   \n",
    "    distancias.insert(node,float('inf'))\n",
    "    \n",
    "    # then go horizontally along the row of the node\n",
    "    for i in range(n-(node+1)): \n",
    "        distancias.append(matrix[node][i])\n",
    "    #print(distancias)\n",
    "    print(distancias)\n",
    "'''    \n",
    "distancias_n = []\n",
    "for i in range(n-1):\n",
    "    #print(matrix[i][-1])\n",
    "    distancias_n.append(matrix[i][-1])\n",
    "distancias_n.append(float('inf'))\n",
    "print(distancias_n)\n",
    "'''"
   ]
  },
  {
   "cell_type": "code",
   "execution_count": 5,
   "metadata": {},
   "outputs": [],
   "source": [
    "def distances(node,n,matrix):\n",
    "    # given a node, n and adjacency matrix, returns the list of distances of the node with all other n-1 nodes\n",
    "    distancias = []  \n",
    "    \n",
    "    # first we go down the n column reaching the element before the diagonal:\n",
    "    for i in range(node):\n",
    "        new = matrix[i][node-i-1]\n",
    "        distancias.append(new)\n",
    "        \n",
    "    # Add itself whit infinite distance so the greedy solution ignores it   \n",
    "    distancias.append(float('inf'))\n",
    "    \n",
    "    # then go horizontally along the row of the node\n",
    "    for i in range(n-(node+1)): \n",
    "        new = matrix[node][i]\n",
    "        distancias.append(new)\n",
    "        \n",
    "    return distancias"
   ]
  },
  {
   "cell_type": "code",
   "execution_count": 6,
   "metadata": {},
   "outputs": [
    {
     "name": "stdout",
     "output_type": "stream",
     "text": [
      "[inf, 49.0, 30.0, 53.0, 72.0, 19.0, 76.0, 87.0, 45.0, 48.0]\n",
      "[49.0, inf, 19.0, 38.0, 32.0, 31.0, 75.0, 69.0, 61.0, 25.0]\n",
      "[30.0, 19.0, inf, 41.0, 98.0, 56.0, 6.0, 6.0, 45.0, 53.0]\n",
      "[53.0, 38.0, 41.0, inf, 52.0, 29.0, 46.0, 90.0, 23.0, 98.0]\n",
      "[72.0, 32.0, 98.0, 52.0, inf, 63.0, 90.0, 69.0, 50.0, 82.0]\n",
      "[19.0, 31.0, 56.0, 29.0, 63.0, inf, 60.0, 88.0, 41.0, 95.0]\n",
      "[76.0, 75.0, 6.0, 46.0, 90.0, 60.0, inf, 61.0, 92.0, 10.0]\n",
      "[87.0, 69.0, 6.0, 90.0, 69.0, 88.0, 61.0, inf, 82.0, 73.0]\n",
      "[45.0, 61.0, 45.0, 23.0, 50.0, 41.0, 92.0, 82.0, inf, 5.0]\n",
      "[48.0, 25.0, 53.0, 98.0, 82.0, 95.0, 10.0, 73.0, 5.0, inf]\n"
     ]
    }
   ],
   "source": [
    "m = input_read(\"example_input.txt\")\n",
    "n,iters,matrix = m\n",
    "for node in range(n):\n",
    "    print(distances(node,n,matrix))"
   ]
  },
  {
   "cell_type": "code",
   "execution_count": 7,
   "metadata": {},
   "outputs": [],
   "source": [
    "def min_distance(taken, distancias):\n",
    "    # given a list of taken nodes, and distances, return the min distance not in taken list\n",
    "    min_dis = float('inf')\n",
    "    min_ind = -1\n",
    "    for i in range(len(distancias)):\n",
    "        if i not in taken:\n",
    "            if distancias[i] < min_dis:\n",
    "                min_dis = distancias[i]\n",
    "                min_ind = i\n",
    "    return min_ind\n",
    "            \n",
    "    "
   ]
  },
  {
   "cell_type": "code",
   "execution_count": 8,
   "metadata": {},
   "outputs": [],
   "source": [
    "def initial_solution(n,adj_matrix): # greedy\n",
    "    ini_solution = [0]\n",
    "    #nodes = [i for i in range(10)]\n",
    "    #taken = [0] # no puedo ir al cero antes del final\n",
    "    node = 0\n",
    "\n",
    "    for i in range(n-1):\n",
    "        #print(node)\n",
    "        dists = distances(node,n,adj_matrix)\n",
    "        min_dis = min_distance(ini_solution,dists)\n",
    "        #print(min_dis)\n",
    "        node = min_dis\n",
    "        #taken.append(min_dis)\n",
    "        ini_solution.append(min_dis)\n",
    "        #print(taken)\n",
    "        #print(dists)\n",
    "    #print(taken)\n",
    "    return ini_solution"
   ]
  },
  {
   "cell_type": "code",
   "execution_count": 9,
   "metadata": {
    "scrolled": true
   },
   "outputs": [
    {
     "data": {
      "text/plain": [
       "[0, 5, 3, 8, 9, 6, 2, 7, 1, 4]"
      ]
     },
     "execution_count": 9,
     "metadata": {},
     "output_type": "execute_result"
    }
   ],
   "source": [
    "m = input_read(\"example_input.txt\")\n",
    "n,iters,matrix = m\n",
    "initial_solution(n,matrix)"
   ]
  },
  {
   "cell_type": "code",
   "execution_count": 10,
   "metadata": {},
   "outputs": [],
   "source": [
    "def w_node_node(node,next_node,matrix):\n",
    "    # given a first node, a second node and the adjacency matrix, return the distance between the nodes\n",
    "    if next_node < node:\n",
    "        #print('antes')\n",
    "        #print(node, next_node)\n",
    "        #print(next_node,node-next_node-1)\n",
    "        new = matrix[next_node][node-next_node-1]\n",
    "        #print(new)\n",
    "        return new\n",
    "    \n",
    "    else:\n",
    "        #print('después')\n",
    "        #print(node,next_node)\n",
    "        new = matrix[node][next_node-(node+1)]\n",
    "        #print(new)\n",
    "        return new"
   ]
  },
  {
   "cell_type": "code",
   "execution_count": 11,
   "metadata": {},
   "outputs": [],
   "source": [
    "def evaluator(sol,n,matrix):\n",
    "    # given a solution, n, and the adj. matrix, return the cost of the trajectory\n",
    "    weights = 0\n",
    "    \n",
    "    for i in range(n-1):\n",
    "        node = sol[i]\n",
    "        next_node = sol[i+1]\n",
    "        #print(node, next_node)\n",
    "        weights += w_node_node(node,next_node,matrix)\n",
    "    \n",
    "    weights += w_node_node(sol[n-1],0,matrix) # peso del último con el primero (0)\n",
    "        \n",
    "    return weights\n",
    "      "
   ]
  },
  {
   "cell_type": "code",
   "execution_count": 12,
   "metadata": {},
   "outputs": [
    {
     "name": "stdout",
     "output_type": "stream",
     "text": [
      "[0, 5, 3, 8, 9, 6, 2, 7, 1, 4]\n",
      "271.0\n"
     ]
    }
   ],
   "source": [
    "m = input_read(\"example_input.txt\")\n",
    "n,iters,matrix = m\n",
    "ini_sol = initial_solution(n,matrix)\n",
    "print(ini_sol)\n",
    "print(evaluator(ini_sol,n,matrix))"
   ]
  },
  {
   "cell_type": "markdown",
   "metadata": {},
   "source": [
    "El vecindario de una solucion se genera de la siguiente forma: Se elige\n",
    "al azar una posicion de la permutacion. Se generan N-2 soluciones\n",
    "nuevas moviendo la ciudad de esa posicion a cualquiera de las otras N-2 posiciones posibles.\n",
    "\n",
    "En la lista tabu se almacena la ciudad que se utilizo para generar el\n",
    "vecindario y tendra un tiempo tabu del piso de N/2."
   ]
  },
  {
   "cell_type": "code",
   "execution_count": 13,
   "metadata": {},
   "outputs": [
    {
     "data": {
      "text/plain": [
       "'\\ndef neighborhood(one_solution,n,matrix):\\n    #print(one_solution)\\n    #print(evaluator(one_solution,n,matrix))\\n    rand_index = random.randint(1,n-1)\\n    rand_node = one_solution[rand_index]\\n    neighs= []\\n    for i in range(1,n):\\n        if rand_index != i:\\n            new_neigh = one_solution.copy()\\n            del new_neigh[rand_index]\\n            new_neigh.insert(i,rand_node)\\n            neighs.append(new_neigh)\\n    return neighs     \\n'"
      ]
     },
     "execution_count": 13,
     "metadata": {},
     "output_type": "execute_result"
    }
   ],
   "source": [
    "'''\n",
    "def neighborhood(one_solution,n,matrix):\n",
    "    #print(one_solution)\n",
    "    #print(evaluator(one_solution,n,matrix))\n",
    "    rand_index = random.randint(1,n-1)\n",
    "    rand_node = one_solution[rand_index]\n",
    "    neighs= []\n",
    "    for i in range(1,n):\n",
    "        if rand_index != i:\n",
    "            new_neigh = one_solution.copy()\n",
    "            del new_neigh[rand_index]\n",
    "            new_neigh.insert(i,rand_node)\n",
    "            neighs.append(new_neigh)\n",
    "    return neighs     \n",
    "'''"
   ]
  },
  {
   "cell_type": "code",
   "execution_count": 14,
   "metadata": {},
   "outputs": [
    {
     "data": {
      "text/plain": [
       "'\\ndef reduce_neighborhood(neigh,tabu_list):\\n    reduced_neigh = []\\n    for nei in neigh:\\n        if nei not in tabu_list:\\n            reduced_neigh.append(nei)\\n    return reduced_neigh\\n'"
      ]
     },
     "execution_count": 14,
     "metadata": {},
     "output_type": "execute_result"
    }
   ],
   "source": [
    "'''\n",
    "def reduce_neighborhood(neigh,tabu_list):\n",
    "    reduced_neigh = []\n",
    "    for nei in neigh:\n",
    "        if nei not in tabu_list:\n",
    "            reduced_neigh.append(nei)\n",
    "    return reduced_neigh\n",
    "'''"
   ]
  },
  {
   "cell_type": "code",
   "execution_count": 15,
   "metadata": {},
   "outputs": [
    {
     "data": {
      "text/plain": [
       "'\\ndef tabu_search(n,iters,matrix):\\n    ini_sol = initial_solution(n,matrix)\\n    tabu_list = [initial_solution]  # start deleting solutions one after the other when reaching N/2 iterations    \\n    iter_counter = 0\\n    \\n    global_best_neigh_sol = ini_sol\\n    global_best_neigh_score = evaluator(ini_sol,n,matrix)\\n    \\n    #local_best_neigh_sol = ini_sol\\n    #local_best_neigh_score = evaluator(ini_sol)\\n    for it in range(iters):\\n        neigh = neighborhood(global_best_neigh_sol,n,matrix)\\n        neigh = reduce_neighborhood(neigh,tabu_list)\\n        tabu_list.append(global_best_neigh_sol)\\n        best_neigh_sol = neigh[0]\\n        best_neigh_score = evaluator(neigh[0],n,matrix)\\n        for sol in neigh:\\n            new_neigh_score = evaluator(sol,n,matrix)\\n            if new_neigh_score < best_neigh_score:\\n                best_neigh_score = new_neigh_score\\n                best_neigh_sol = sol\\n        #print(best_neigh_sol)\\n        #print(best_neigh_score)\\n        if best_neigh_score < global_best_neigh_score:\\n            global_best_neigh_score = best_neigh_score\\n            global_best_neigh_sol = best_neigh_sol\\n        iter_counter += 1\\n        if iter_counter >= n/2:\\n            tabu_list.pop(0)\\n            \\n    return global_best_neigh_sol, global_best_neigh_score\\n'"
      ]
     },
     "execution_count": 15,
     "metadata": {},
     "output_type": "execute_result"
    }
   ],
   "source": [
    "'''\n",
    "def tabu_search(n,iters,matrix):\n",
    "    ini_sol = initial_solution(n,matrix)\n",
    "    tabu_list = [initial_solution]  # start deleting solutions one after the other when reaching N/2 iterations    \n",
    "    iter_counter = 0\n",
    "    \n",
    "    global_best_neigh_sol = ini_sol\n",
    "    global_best_neigh_score = evaluator(ini_sol,n,matrix)\n",
    "    \n",
    "    #local_best_neigh_sol = ini_sol\n",
    "    #local_best_neigh_score = evaluator(ini_sol)\n",
    "    for it in range(iters):\n",
    "        neigh = neighborhood(global_best_neigh_sol,n,matrix)\n",
    "        neigh = reduce_neighborhood(neigh,tabu_list)\n",
    "        tabu_list.append(global_best_neigh_sol)\n",
    "        best_neigh_sol = neigh[0]\n",
    "        best_neigh_score = evaluator(neigh[0],n,matrix)\n",
    "        for sol in neigh:\n",
    "            new_neigh_score = evaluator(sol,n,matrix)\n",
    "            if new_neigh_score < best_neigh_score:\n",
    "                best_neigh_score = new_neigh_score\n",
    "                best_neigh_sol = sol\n",
    "        #print(best_neigh_sol)\n",
    "        #print(best_neigh_score)\n",
    "        if best_neigh_score < global_best_neigh_score:\n",
    "            global_best_neigh_score = best_neigh_score\n",
    "            global_best_neigh_sol = best_neigh_sol\n",
    "        iter_counter += 1\n",
    "        if iter_counter >= n/2:\n",
    "            tabu_list.pop(0)\n",
    "            \n",
    "    return global_best_neigh_sol, global_best_neigh_score\n",
    "'''"
   ]
  },
  {
   "cell_type": "code",
   "execution_count": 16,
   "metadata": {},
   "outputs": [],
   "source": [
    "#n,iters,matrix = input_read(\"example_input.txt\")\n",
    "#tabu_search(n,iters,matrix)"
   ]
  },
  {
   "cell_type": "code",
   "execution_count": 17,
   "metadata": {},
   "outputs": [],
   "source": [
    "#n,iters,matrix = input_read(\"example_input.txt\")\n",
    "#tabu_search(n,1000000,matrix)"
   ]
  },
  {
   "cell_type": "code",
   "execution_count": 18,
   "metadata": {},
   "outputs": [],
   "source": [
    "def reduced_neighborhood(one_solution,tabu_list,n,matrix):\n",
    "    # given one solution, the tabu_list(nodes), n and the adj. matrix, return a list of neighbor solutions\n",
    "    # the solutions move a random node, not in the tabu list, across all n-2 remaining positions\n",
    "    #print(one_solution)\n",
    "    #print(evaluator(one_solution,n,matrix))\n",
    "    rand_index = random.randint(1,n-1)\n",
    "    rand_node = one_solution[rand_index]\n",
    "    while rand_node in tabu_list:\n",
    "        rand_index = random.randint(1,n-1)\n",
    "        rand_node = one_solution[rand_index] \n",
    "    \n",
    "    neighs= []\n",
    "    for i in range(1,n):\n",
    "        if rand_index != i:\n",
    "            new_neigh = one_solution.copy()\n",
    "            del new_neigh[rand_index]\n",
    "            new_neigh.insert(i,rand_node)\n",
    "            neighs.append(new_neigh)\n",
    "    return neighs, rand_node     \n",
    "    "
   ]
  },
  {
   "cell_type": "code",
   "execution_count": 19,
   "metadata": {},
   "outputs": [],
   "source": [
    "def tabu_search(n,iters,matrix):\n",
    "    # given n, the number of iterations, and the adj. matrix, returns the best solution across each \n",
    "    # neighborhood generated in each iteration\n",
    "    # the tabu adds used nodes to make each neighborhood and removes them every n/2 iterations\n",
    "    ini_sol = initial_solution(n,matrix)\n",
    "    tabu_list = []  # start deleting solutions one after the other when reaching N/2 iterations    \n",
    "    iter_counter = 0\n",
    "    \n",
    "    global_best_neigh_sol = ini_sol\n",
    "    global_best_neigh_score = evaluator(ini_sol,n,matrix)\n",
    "    \n",
    "    local_best_neigh_sol = ini_sol\n",
    "    local_best_neigh_score = evaluator(ini_sol,n,matrix)\n",
    "    for it in range(iters):\n",
    "        neigh,new_tabu_node = reduced_neighborhood(local_best_neigh_sol,tabu_list,n,matrix)\n",
    "        #neigh = reduce_neighborhood(neigh,tabu_list)\n",
    "        tabu_list.append(new_tabu_node)\n",
    "        best_neigh_sol = neigh[0]\n",
    "        best_neigh_score = evaluator(neigh[0],n,matrix)\n",
    "        for sol in neigh:\n",
    "            new_neigh_score = evaluator(sol,n,matrix)\n",
    "            if new_neigh_score < best_neigh_score:\n",
    "                best_neigh_score = new_neigh_score\n",
    "                best_neigh_sol = sol\n",
    "        local_best_neigh_sol = best_neigh_sol\n",
    "        local_best_neigh_score = best_neigh_score\n",
    "        #print(best_neigh_sol)\n",
    "        #print(best_neigh_score)\n",
    "        if best_neigh_score < global_best_neigh_score:\n",
    "            global_best_neigh_score = best_neigh_score\n",
    "            global_best_neigh_sol = best_neigh_sol\n",
    "        iter_counter += 1\n",
    "        if iter_counter >= n/2:\n",
    "            tabu_list.pop(0)\n",
    "            \n",
    "    return global_best_neigh_sol, global_best_neigh_score"
   ]
  },
  {
   "cell_type": "code",
   "execution_count": 20,
   "metadata": {
    "scrolled": false
   },
   "outputs": [
    {
     "data": {
      "text/plain": [
       "([0, 2, 7, 6, 9, 8, 3, 4, 1, 5], 269.0)"
      ]
     },
     "execution_count": 20,
     "metadata": {},
     "output_type": "execute_result"
    }
   ],
   "source": [
    "n,iters,matrix = input_read(\"example_input.txt\")\n",
    "tabu_search(n,iters,matrix)"
   ]
  },
  {
   "cell_type": "markdown",
   "metadata": {},
   "source": [
    "## Ejercicio 20 pts"
   ]
  },
  {
   "cell_type": "code",
   "execution_count": 21,
   "metadata": {},
   "outputs": [],
   "source": [
    "def m_tabu_searches(m,n,iters,matrix):\n",
    "    # given m, n , iters and the adj. matrix, returns list of m solutions and scores each one of them\n",
    "    # generated by every m tabu_search iteration\n",
    "    m_solutions_and_scores = []\n",
    "    for i in range(m):\n",
    "        tabu_best_solution,tabu_best_score = tabu_search(n,iters,matrix)\n",
    "        m_solutions_and_scores.append([tabu_best_solution,tabu_best_score])\n",
    "    return m_solutions_and_scores"
   ]
  },
  {
   "cell_type": "code",
   "execution_count": 22,
   "metadata": {},
   "outputs": [],
   "source": [
    "def best_m_solution(n,m,m_solutions,matrix):\n",
    "    # given n, m, m solutions, and the adj. matrix, returns the best m solution\n",
    "    m_best_sol = m_solutions[0][0]\n",
    "    m_best_score = m_solutions[0][1]\n",
    "    for i in range(1,m):\n",
    "        new_m_sol = m_solutions[i][0]\n",
    "        new_m_score = m_solutions[i][1]\n",
    "        if new_m_score < m_best_score:\n",
    "            m_best_sol = new_m_sol\n",
    "            m_best_score = new_m_score\n",
    "    return m_best_sol,m_best_score\n",
    "            \n",
    "        "
   ]
  },
  {
   "cell_type": "code",
   "execution_count": 23,
   "metadata": {},
   "outputs": [],
   "source": [
    "def worst_m_solution(n,m,m_solutions,matrix):\n",
    "    # given n, m, m solutions, and the adj. matrix, returns the worst m solution\n",
    "    m_worst_sol = m_solutions[0][0]\n",
    "    m_worst_score = m_solutions[0][1]\n",
    "    for i in range(1,m):\n",
    "        new_m_sol = m_solutions[i][0]\n",
    "        new_m_score = m_solutions[i][1]\n",
    "        if new_m_score > m_worst_score:\n",
    "            m_worst_sol = new_m_sol\n",
    "            m_worst_score = new_m_score\n",
    "    return m_worst_sol,m_worst_score"
   ]
  },
  {
   "cell_type": "code",
   "execution_count": 24,
   "metadata": {},
   "outputs": [],
   "source": [
    "def m_tabu_median(m,m_solutions):\n",
    "    # given m and m solutions, returns the median solution and score\n",
    "    # first we sort the m solutions by score\n",
    "    m_solutions.sort(key=lambda x:x[1])\n",
    "    if m%2 == 0:\n",
    "        return m_solutions[(m//2)-1] + m_solutions[(m//2)]\n",
    "    else:\n",
    "        return m_solutions[m//2]\n",
    "    "
   ]
  },
  {
   "cell_type": "code",
   "execution_count": 25,
   "metadata": {},
   "outputs": [],
   "source": [
    "def mean_score(m_solutions):\n",
    "    # given m solutions, returns the mean score\n",
    "    return statistics.mean([m[1] for m in m_solutions])"
   ]
  },
  {
   "cell_type": "code",
   "execution_count": 26,
   "metadata": {},
   "outputs": [],
   "source": [
    "def std_score(m_solutions):\n",
    "    # given m solutions, returns the standard deviation population score\n",
    "    return statistics.pstdev([m[1] for m in m_solutions])"
   ]
  },
  {
   "cell_type": "code",
   "execution_count": 27,
   "metadata": {},
   "outputs": [
    {
     "data": {
      "text/plain": [
       "[[[0, 5, 3, 8, 9, 6, 2, 7, 1, 4], 271.0],\n",
       " [[0, 8, 9, 6, 2, 7, 4, 1, 3, 5], 259.0],\n",
       " [[0, 5, 3, 8, 9, 6, 2, 7, 1, 4], 271.0],\n",
       " [[0, 5, 3, 8, 9, 6, 2, 7, 1, 4], 271.0],\n",
       " [[0, 5, 3, 8, 9, 6, 2, 7, 4, 1], 248.0]]"
      ]
     },
     "execution_count": 27,
     "metadata": {},
     "output_type": "execute_result"
    }
   ],
   "source": [
    "n,iters,matrix = input_read(\"example_input.txt\")\n",
    "m_tabu = m_tabu_searches(5,n,iters,matrix)\n",
    "m_tabu"
   ]
  },
  {
   "cell_type": "code",
   "execution_count": 28,
   "metadata": {},
   "outputs": [
    {
     "data": {
      "text/plain": [
       "[[[0, 5, 3, 8, 9, 6, 2, 7, 1, 4], 271.0],\n",
       " [[0, 5, 3, 8, 9, 6, 2, 7, 1, 4], 271.0],\n",
       " [[0, 5, 3, 8, 9, 6, 2, 7, 1, 4], 271.0],\n",
       " [[0, 5, 3, 8, 9, 6, 2, 7, 1, 4], 271.0],\n",
       " [[0, 5, 3, 8, 9, 6, 2, 7, 1, 4], 271.0],\n",
       " [[0, 5, 3, 8, 9, 6, 2, 7, 4, 1], 248.0],\n",
       " [[0, 5, 3, 8, 9, 6, 2, 7, 4, 1], 248.0],\n",
       " [[0, 5, 3, 8, 9, 6, 2, 7, 1, 4], 271.0],\n",
       " [[0, 5, 3, 8, 9, 6, 2, 7, 1, 4], 271.0]]"
      ]
     },
     "execution_count": 28,
     "metadata": {},
     "output_type": "execute_result"
    }
   ],
   "source": [
    "n,iters,matrix = input_read(\"example_input.txt\")\n",
    "m_tabu = m_tabu_searches(9,n,1,matrix)\n",
    "m_tabu"
   ]
  },
  {
   "cell_type": "code",
   "execution_count": 29,
   "metadata": {},
   "outputs": [
    {
     "data": {
      "text/plain": [
       "([0, 5, 3, 8, 9, 6, 2, 7, 1, 4], 271.0)"
      ]
     },
     "execution_count": 29,
     "metadata": {},
     "output_type": "execute_result"
    }
   ],
   "source": [
    "best_m_solution(n,5,m_tabu,matrix)"
   ]
  },
  {
   "cell_type": "code",
   "execution_count": 30,
   "metadata": {},
   "outputs": [
    {
     "data": {
      "text/plain": [
       "([0, 5, 3, 8, 9, 6, 2, 7, 1, 4], 271.0)"
      ]
     },
     "execution_count": 30,
     "metadata": {},
     "output_type": "execute_result"
    }
   ],
   "source": [
    "worst_m_solution(n,5,m_tabu,matrix)"
   ]
  },
  {
   "cell_type": "code",
   "execution_count": 31,
   "metadata": {
    "scrolled": false
   },
   "outputs": [
    {
     "data": {
      "text/plain": [
       "[[0, 5, 3, 8, 9, 6, 2, 7, 1, 4], 271.0]"
      ]
     },
     "execution_count": 31,
     "metadata": {},
     "output_type": "execute_result"
    }
   ],
   "source": [
    "m_tabu_median(5,m_tabu)"
   ]
  },
  {
   "cell_type": "code",
   "execution_count": 32,
   "metadata": {
    "scrolled": true
   },
   "outputs": [
    {
     "data": {
      "text/plain": [
       "[[[0, 5, 3, 8, 9, 6, 2, 7, 1, 4], 271.0],\n",
       " [[0, 5, 3, 8, 9, 6, 2, 7, 1, 4], 271.0],\n",
       " [[0, 5, 3, 8, 9, 6, 2, 7, 1, 4], 271.0],\n",
       " [[0, 5, 3, 8, 9, 6, 2, 7, 1, 4], 271.0]]"
      ]
     },
     "execution_count": 32,
     "metadata": {},
     "output_type": "execute_result"
    }
   ],
   "source": [
    "n,iters,matrix = input_read(\"example_input.txt\")\n",
    "m_tabu = m_tabu_searches(4,n,2,matrix)\n",
    "m_tabu"
   ]
  },
  {
   "cell_type": "code",
   "execution_count": 33,
   "metadata": {
    "scrolled": false
   },
   "outputs": [
    {
     "data": {
      "text/plain": [
       "[[0, 5, 3, 8, 9, 6, 2, 7, 1, 4], 271.0, [0, 5, 3, 8, 9, 6, 2, 7, 1, 4], 271.0]"
      ]
     },
     "execution_count": 33,
     "metadata": {},
     "output_type": "execute_result"
    }
   ],
   "source": [
    "m_tabu_median(4,m_tabu)"
   ]
  },
  {
   "cell_type": "code",
   "execution_count": 34,
   "metadata": {},
   "outputs": [
    {
     "data": {
      "text/plain": [
       "271.0"
      ]
     },
     "execution_count": 34,
     "metadata": {},
     "output_type": "execute_result"
    }
   ],
   "source": [
    "mean_score(m_tabu)"
   ]
  },
  {
   "cell_type": "code",
   "execution_count": 35,
   "metadata": {},
   "outputs": [
    {
     "data": {
      "text/plain": [
       "0.0"
      ]
     },
     "execution_count": 35,
     "metadata": {},
     "output_type": "execute_result"
    }
   ],
   "source": [
    "std_score(m_tabu)"
   ]
  },
  {
   "cell_type": "code",
   "execution_count": 36,
   "metadata": {},
   "outputs": [],
   "source": [
    "def m_solutions_analysis(n,m,m_solutions,matrix,reduced=False):\n",
    "    # prints the complete analysis\n",
    "    if reduced == False:\n",
    "        print('Best solution:',best_m_solution(n,m,m_solutions,matrix))\n",
    "        print('Worst solution:',worst_m_solution(n,m,m_solutions,matrix))\n",
    "        print('Median solution(s) and score(s):',m_tabu_median(m,m_solutions))\n",
    "        print('Mean score value:',mean_score(m_solutions))\n",
    "        print('Standard deviation score value:',std_score(m_solutions))\n",
    "    else:\n",
    "        sol, score = best_m_solution(n,m,m_solutions,matrix)\n",
    "        print('Best solution score:',score)\n",
    "        sol, score = worst_m_solution(n,m,m_solutions,matrix)\n",
    "        print('Worst solution score:',score)\n",
    "        if m%2 == 0:\n",
    "            score1, score2 = m_tabu_median(m,m_solutions)[1], m_tabu_median(m,m_solutions)[3]\n",
    "            print('Median solution(s) score(s):',score1, score2)\n",
    "        else:\n",
    "            score = m_tabu_median(m,m_solutions)[1]\n",
    "            print('Median solution(s) score(s):',score)\n",
    "        print('Mean score value:',mean_score(m_solutions))\n",
    "        print('Standard deviation score value:',std_score(m_solutions))"
   ]
  },
  {
   "cell_type": "code",
   "execution_count": 37,
   "metadata": {},
   "outputs": [
    {
     "data": {
      "text/plain": [
       "[[[0, 5, 3, 1, 4, 7, 2, 6, 9, 8], 259.0],\n",
       " [[0, 5, 3, 8, 9, 6, 2, 7, 4, 1], 248.0],\n",
       " [[0, 5, 3, 8, 9, 6, 2, 7, 4, 1], 248.0],\n",
       " [[0, 8, 9, 6, 2, 7, 4, 1, 3, 5], 259.0]]"
      ]
     },
     "execution_count": 37,
     "metadata": {},
     "output_type": "execute_result"
    }
   ],
   "source": [
    "n,iters,matrix = input_read(\"example_input.txt\")\n",
    "m = 4\n",
    "m_tabu = m_tabu_searches(m,n,iters,matrix)\n",
    "m_tabu"
   ]
  },
  {
   "cell_type": "code",
   "execution_count": 38,
   "metadata": {
    "scrolled": false
   },
   "outputs": [
    {
     "name": "stdout",
     "output_type": "stream",
     "text": [
      "Best solution: ([0, 5, 3, 8, 9, 6, 2, 7, 4, 1], 248.0)\n",
      "Worst solution: ([0, 5, 3, 1, 4, 7, 2, 6, 9, 8], 259.0)\n",
      "Median solution(s) and score(s): [[0, 5, 3, 8, 9, 6, 2, 7, 4, 1], 248.0, [0, 5, 3, 1, 4, 7, 2, 6, 9, 8], 259.0]\n",
      "Mean score value: 253.5\n",
      "Standard deviation score value: 5.5\n"
     ]
    }
   ],
   "source": [
    "m_solutions_analysis(n,m,m_tabu,matrix)"
   ]
  },
  {
   "cell_type": "code",
   "execution_count": 39,
   "metadata": {},
   "outputs": [
    {
     "name": "stdout",
     "output_type": "stream",
     "text": [
      "Best solution score: 248.0\n",
      "Worst solution score: 259.0\n",
      "Median solution(s) score(s): 248.0 259.0\n",
      "Mean score value: 253.5\n",
      "Standard deviation score value: 5.5\n"
     ]
    }
   ],
   "source": [
    "m_solutions_analysis(n,m,m_tabu,matrix,reduced=True)"
   ]
  },
  {
   "cell_type": "markdown",
   "metadata": {},
   "source": [
    "## Generando problemas nuevos y probando algoritmo"
   ]
  },
  {
   "cell_type": "code",
   "execution_count": 40,
   "metadata": {},
   "outputs": [],
   "source": [
    "def random_adjacency_matrix(n,lower_weight_limit,upper_weight_limit):\n",
    "    # generates a new matrix given n: the number of nodes , and a range where the wieghts are\n",
    "    # going to be randomly selected\n",
    "    adj_matrix = []\n",
    "    for i in range(n-1):\n",
    "        row = []\n",
    "        for j in range(i,n-1):\n",
    "            row.append(random.randint(lower_weight_limit,upper_weight_limit))\n",
    "        adj_matrix.append(row)\n",
    "        \n",
    "    #print(adj_matrix)\n",
    "    return adj_matrix"
   ]
  },
  {
   "cell_type": "code",
   "execution_count": 41,
   "metadata": {},
   "outputs": [
    {
     "data": {
      "text/plain": [
       "[[36, 20, 78, 41, 100, 73],\n",
       " [30, 45, 90, 21, 49],\n",
       " [33, 4, 66, 84],\n",
       " [18, 94, 24],\n",
       " [8, 80],\n",
       " [32]]"
      ]
     },
     "execution_count": 41,
     "metadata": {},
     "output_type": "execute_result"
    }
   ],
   "source": [
    "random_adjacency_matrix(7,1,100)"
   ]
  },
  {
   "cell_type": "code",
   "execution_count": 42,
   "metadata": {},
   "outputs": [
    {
     "data": {
      "text/plain": [
       "[[215, 217, 769, 910, 707, 100, 120, 16, 221, 717, 421, 356, 303, 284, 546],\n",
       " [747, 175, 288, 365, 890, 402, 543, 502, 641, 508, 314, 316, 575, 906],\n",
       " [340, 503, 916, 311, 951, 897, 157, 182, 909, 571, 626, 641, 210],\n",
       " [298, 437, 712, 443, 861, 968, 214, 18, 447, 846, 772, 137],\n",
       " [488, 873, 95, 317, 394, 457, 450, 663, 101, 830, 537],\n",
       " [292, 715, 886, 128, 734, 283, 880, 778, 433, 766],\n",
       " [468, 349, 894, 368, 551, 670, 835, 792, 87],\n",
       " [224, 510, 338, 420, 609, 102, 869, 249],\n",
       " [895, 62, 20, 921, 275, 634, 40],\n",
       " [49, 692, 317, 740, 259, 933],\n",
       " [81, 854, 29, 127, 677],\n",
       " [776, 802, 967, 501],\n",
       " [558, 736, 263],\n",
       " [633, 516],\n",
       " [85]]"
      ]
     },
     "execution_count": 42,
     "metadata": {},
     "output_type": "execute_result"
    }
   ],
   "source": [
    "random_adjacency_matrix(16,1,1000)"
   ]
  },
  {
   "cell_type": "code",
   "execution_count": 43,
   "metadata": {},
   "outputs": [],
   "source": [
    "n = 100\n",
    "iters = 100\n",
    "n100_matrix = random_adjacency_matrix(n,1,1000)"
   ]
  },
  {
   "cell_type": "code",
   "execution_count": 44,
   "metadata": {},
   "outputs": [
    {
     "data": {
      "text/plain": [
       "5021"
      ]
     },
     "execution_count": 44,
     "metadata": {},
     "output_type": "execute_result"
    }
   ],
   "source": [
    "ini_sol = initial_solution(n,n100_matrix)\n",
    "evaluator(ini_sol,n,n100_matrix)"
   ]
  },
  {
   "cell_type": "code",
   "execution_count": 54,
   "metadata": {},
   "outputs": [
    {
     "data": {
      "text/plain": [
       "4776"
      ]
     },
     "execution_count": 54,
     "metadata": {},
     "output_type": "execute_result"
    }
   ],
   "source": [
    "sol,score = tabu_search(n,iters,n100_matrix)\n",
    "score"
   ]
  },
  {
   "cell_type": "code",
   "execution_count": 46,
   "metadata": {},
   "outputs": [],
   "source": [
    "m = 50\n",
    "m_tabu = m_tabu_searches(m,n,iters,n100_matrix)"
   ]
  },
  {
   "cell_type": "code",
   "execution_count": 47,
   "metadata": {},
   "outputs": [
    {
     "name": "stdout",
     "output_type": "stream",
     "text": [
      "Best solution score: 3552\n",
      "Worst solution score: 5021\n",
      "Median solution(s) score(s): 5021 5021\n",
      "Mean score value: 4847.56\n",
      "Standard deviation score value: 352.82778575390006\n"
     ]
    }
   ],
   "source": [
    "m_solutions_analysis(n,m,m_tabu,n100_matrix,reduced=True)"
   ]
  }
 ],
 "metadata": {
  "kernelspec": {
   "display_name": "Python 3",
   "language": "python",
   "name": "python3"
  },
  "language_info": {
   "codemirror_mode": {
    "name": "ipython",
    "version": 3
   },
   "file_extension": ".py",
   "mimetype": "text/x-python",
   "name": "python",
   "nbconvert_exporter": "python",
   "pygments_lexer": "ipython3",
   "version": "3.7.9"
  }
 },
 "nbformat": 4,
 "nbformat_minor": 4
}
